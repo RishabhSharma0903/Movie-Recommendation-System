{
  "nbformat": 4,
  "nbformat_minor": 0,
  "metadata": {
    "colab": {
      "provenance": [],
      "authorship_tag": "ABX9TyP6gV31iWJ8GoUi75euklDP",
      "include_colab_link": true
    },
    "kernelspec": {
      "name": "python3",
      "display_name": "Python 3"
    },
    "language_info": {
      "name": "python"
    }
  },
  "cells": [
    {
      "cell_type": "markdown",
      "metadata": {
        "id": "view-in-github",
        "colab_type": "text"
      },
      "source": [
        "<a href=\"https://colab.research.google.com/github/RishabhSharma0903/Movie-Recommendation-System/blob/main/YBI_Project.ipynb\" target=\"_parent\"><img src=\"https://colab.research.google.com/assets/colab-badge.svg\" alt=\"Open In Colab\"/></a>"
      ]
    },
    {
      "cell_type": "markdown",
      "source": [
        "# **MOVIES RECOMMENDATION SYSTEM**\n",
        "\n",
        "---\n",
        "\n"
      ],
      "metadata": {
        "id": "B1Vm_r3mrfEK"
      }
    },
    {
      "cell_type": "markdown",
      "source": [
        "# **Objective: To create a model that recommends movies to the users according to different genres.**"
      ],
      "metadata": {
        "id": "OZok9JZooSc8"
      }
    },
    {
      "cell_type": "markdown",
      "source": [
        "# **Importing Libraries**"
      ],
      "metadata": {
        "id": "2gzdh_REpDJv"
      }
    },
    {
      "cell_type": "code",
      "execution_count": 171,
      "metadata": {
        "id": "9XpqOhIrp_61"
      },
      "outputs": [],
      "source": [
        "import pandas as pd\n",
        "import numpy as np\n",
        "import matplotlib.pyplot as plt"
      ]
    },
    {
      "cell_type": "markdown",
      "source": [
        "# **Importing Data**\n"
      ],
      "metadata": {
        "id": "OXhj2C0Xr8VY"
      }
    },
    {
      "cell_type": "code",
      "source": [
        "df = pd.read_csv(\"https://raw.githubusercontent.com/YBIFoundation/Dataset/main/Movies%20Recommendation.csv\")"
      ],
      "metadata": {
        "id": "C38jlMZAsRk1"
      },
      "execution_count": 172,
      "outputs": []
    },
    {
      "cell_type": "code",
      "source": [
        "df.head()"
      ],
      "metadata": {
        "id": "7wRQ17Z8sbDr",
        "colab": {
          "base_uri": "https://localhost:8080/",
          "height": 637
        },
        "outputId": "e2547866-3ce1-4528-f98f-18472e82b4f7"
      },
      "execution_count": 173,
      "outputs": [
        {
          "output_type": "execute_result",
          "data": {
            "text/plain": [
              "   Movie_ID      Movie_Title                       Movie_Genre Movie_Language  \\\n",
              "0         1       Four Rooms                      Crime Comedy             en   \n",
              "1         2        Star Wars  Adventure Action Science Fiction             en   \n",
              "2         3     Finding Nemo                  Animation Family             en   \n",
              "3         4     Forrest Gump              Comedy Drama Romance             en   \n",
              "4         5  American Beauty                             Drama             en   \n",
              "\n",
              "   Movie_Budget  Movie_Popularity Movie_Release_Date  Movie_Revenue  \\\n",
              "0       4000000         22.876230         09-12-1995        4300000   \n",
              "1      11000000        126.393695         25-05-1977      775398007   \n",
              "2      94000000         85.688789         30-05-2003      940335536   \n",
              "3      55000000        138.133331         06-07-1994      677945399   \n",
              "4      15000000         80.878605         15-09-1999      356296601   \n",
              "\n",
              "   Movie_Runtime  Movie_Vote  ...  \\\n",
              "0           98.0         6.5  ...   \n",
              "1          121.0         8.1  ...   \n",
              "2          100.0         7.6  ...   \n",
              "3          142.0         8.2  ...   \n",
              "4          122.0         7.9  ...   \n",
              "\n",
              "                                      Movie_Homepage  \\\n",
              "0                                                NaN   \n",
              "1  http://www.starwars.com/films/star-wars-episod...   \n",
              "2              http://movies.disney.com/finding-nemo   \n",
              "3                                                NaN   \n",
              "4                      http://www.dreamworks.com/ab/   \n",
              "\n",
              "                                      Movie_Keywords  \\\n",
              "0          hotel new year's eve witch bet hotel room   \n",
              "1        android galaxy hermit death star lightsaber   \n",
              "2  father son relationship harbor underwater fish...   \n",
              "3  vietnam veteran hippie mentally disabled runni...   \n",
              "4  male nudity female nudity adultery midlife cri...   \n",
              "\n",
              "                                      Movie_Overview  \\\n",
              "0  It's Ted the Bellhop's first night on the job....   \n",
              "1  Princess Leia is captured and held hostage by ...   \n",
              "2  Nemo, an adventurous young clownfish, is unexp...   \n",
              "3  A man with a low IQ has accomplished great thi...   \n",
              "4  Lester Burnham, a depressed suburban father in...   \n",
              "\n",
              "                              Movie_Production_House  \\\n",
              "0  [{\"name\": \"Miramax Films\", \"id\": 14}, {\"name\":...   \n",
              "1  [{\"name\": \"Lucasfilm\", \"id\": 1}, {\"name\": \"Twe...   \n",
              "2     [{\"name\": \"Pixar Animation Studios\", \"id\": 3}]   \n",
              "3          [{\"name\": \"Paramount Pictures\", \"id\": 4}]   \n",
              "4  [{\"name\": \"DreamWorks SKG\", \"id\": 27}, {\"name\"...   \n",
              "\n",
              "                            Movie_Production_Country  \\\n",
              "0  [{\"iso_3166_1\": \"US\", \"name\": \"United States o...   \n",
              "1  [{\"iso_3166_1\": \"US\", \"name\": \"United States o...   \n",
              "2  [{\"iso_3166_1\": \"US\", \"name\": \"United States o...   \n",
              "3  [{\"iso_3166_1\": \"US\", \"name\": \"United States o...   \n",
              "4  [{\"iso_3166_1\": \"US\", \"name\": \"United States o...   \n",
              "\n",
              "                      Movie_Spoken_Language  \\\n",
              "0  [{\"iso_639_1\": \"en\", \"name\": \"English\"}]   \n",
              "1  [{\"iso_639_1\": \"en\", \"name\": \"English\"}]   \n",
              "2  [{\"iso_639_1\": \"en\", \"name\": \"English\"}]   \n",
              "3  [{\"iso_639_1\": \"en\", \"name\": \"English\"}]   \n",
              "4  [{\"iso_639_1\": \"en\", \"name\": \"English\"}]   \n",
              "\n",
              "                                       Movie_Tagline  \\\n",
              "0  Twelve outrageous guests. Four scandalous requ...   \n",
              "1       A long time ago in a galaxy far, far away...   \n",
              "2  There are 3.7 trillion fish in the ocean, they...   \n",
              "3  The world will never be the same, once you've ...   \n",
              "4                                       Look closer.   \n",
              "\n",
              "                                          Movie_Cast  \\\n",
              "0  Tim Roth Antonio Banderas Jennifer Beals Madon...   \n",
              "1  Mark Hamill Harrison Ford Carrie Fisher Peter ...   \n",
              "2  Albert Brooks Ellen DeGeneres Alexander Gould ...   \n",
              "3  Tom Hanks Robin Wright Gary Sinise Mykelti Wil...   \n",
              "4  Kevin Spacey Annette Bening Thora Birch Wes Be...   \n",
              "\n",
              "                                          Movie_Crew   Movie_Director  \n",
              "0  [{'name': 'Allison Anders', 'gender': 1, 'depa...   Allison Anders  \n",
              "1  [{'name': 'George Lucas', 'gender': 2, 'depart...     George Lucas  \n",
              "2  [{'name': 'Andrew Stanton', 'gender': 2, 'depa...   Andrew Stanton  \n",
              "3  [{'name': 'Alan Silvestri', 'gender': 2, 'depa...  Robert Zemeckis  \n",
              "4  [{'name': 'Thomas Newman', 'gender': 2, 'depar...       Sam Mendes  \n",
              "\n",
              "[5 rows x 21 columns]"
            ],
            "text/html": [
              "\n",
              "  <div id=\"df-d01f58e3-80ec-4720-a122-a608c6ac766b\" class=\"colab-df-container\">\n",
              "    <div>\n",
              "<style scoped>\n",
              "    .dataframe tbody tr th:only-of-type {\n",
              "        vertical-align: middle;\n",
              "    }\n",
              "\n",
              "    .dataframe tbody tr th {\n",
              "        vertical-align: top;\n",
              "    }\n",
              "\n",
              "    .dataframe thead th {\n",
              "        text-align: right;\n",
              "    }\n",
              "</style>\n",
              "<table border=\"1\" class=\"dataframe\">\n",
              "  <thead>\n",
              "    <tr style=\"text-align: right;\">\n",
              "      <th></th>\n",
              "      <th>Movie_ID</th>\n",
              "      <th>Movie_Title</th>\n",
              "      <th>Movie_Genre</th>\n",
              "      <th>Movie_Language</th>\n",
              "      <th>Movie_Budget</th>\n",
              "      <th>Movie_Popularity</th>\n",
              "      <th>Movie_Release_Date</th>\n",
              "      <th>Movie_Revenue</th>\n",
              "      <th>Movie_Runtime</th>\n",
              "      <th>Movie_Vote</th>\n",
              "      <th>...</th>\n",
              "      <th>Movie_Homepage</th>\n",
              "      <th>Movie_Keywords</th>\n",
              "      <th>Movie_Overview</th>\n",
              "      <th>Movie_Production_House</th>\n",
              "      <th>Movie_Production_Country</th>\n",
              "      <th>Movie_Spoken_Language</th>\n",
              "      <th>Movie_Tagline</th>\n",
              "      <th>Movie_Cast</th>\n",
              "      <th>Movie_Crew</th>\n",
              "      <th>Movie_Director</th>\n",
              "    </tr>\n",
              "  </thead>\n",
              "  <tbody>\n",
              "    <tr>\n",
              "      <th>0</th>\n",
              "      <td>1</td>\n",
              "      <td>Four Rooms</td>\n",
              "      <td>Crime Comedy</td>\n",
              "      <td>en</td>\n",
              "      <td>4000000</td>\n",
              "      <td>22.876230</td>\n",
              "      <td>09-12-1995</td>\n",
              "      <td>4300000</td>\n",
              "      <td>98.0</td>\n",
              "      <td>6.5</td>\n",
              "      <td>...</td>\n",
              "      <td>NaN</td>\n",
              "      <td>hotel new year's eve witch bet hotel room</td>\n",
              "      <td>It's Ted the Bellhop's first night on the job....</td>\n",
              "      <td>[{\"name\": \"Miramax Films\", \"id\": 14}, {\"name\":...</td>\n",
              "      <td>[{\"iso_3166_1\": \"US\", \"name\": \"United States o...</td>\n",
              "      <td>[{\"iso_639_1\": \"en\", \"name\": \"English\"}]</td>\n",
              "      <td>Twelve outrageous guests. Four scandalous requ...</td>\n",
              "      <td>Tim Roth Antonio Banderas Jennifer Beals Madon...</td>\n",
              "      <td>[{'name': 'Allison Anders', 'gender': 1, 'depa...</td>\n",
              "      <td>Allison Anders</td>\n",
              "    </tr>\n",
              "    <tr>\n",
              "      <th>1</th>\n",
              "      <td>2</td>\n",
              "      <td>Star Wars</td>\n",
              "      <td>Adventure Action Science Fiction</td>\n",
              "      <td>en</td>\n",
              "      <td>11000000</td>\n",
              "      <td>126.393695</td>\n",
              "      <td>25-05-1977</td>\n",
              "      <td>775398007</td>\n",
              "      <td>121.0</td>\n",
              "      <td>8.1</td>\n",
              "      <td>...</td>\n",
              "      <td>http://www.starwars.com/films/star-wars-episod...</td>\n",
              "      <td>android galaxy hermit death star lightsaber</td>\n",
              "      <td>Princess Leia is captured and held hostage by ...</td>\n",
              "      <td>[{\"name\": \"Lucasfilm\", \"id\": 1}, {\"name\": \"Twe...</td>\n",
              "      <td>[{\"iso_3166_1\": \"US\", \"name\": \"United States o...</td>\n",
              "      <td>[{\"iso_639_1\": \"en\", \"name\": \"English\"}]</td>\n",
              "      <td>A long time ago in a galaxy far, far away...</td>\n",
              "      <td>Mark Hamill Harrison Ford Carrie Fisher Peter ...</td>\n",
              "      <td>[{'name': 'George Lucas', 'gender': 2, 'depart...</td>\n",
              "      <td>George Lucas</td>\n",
              "    </tr>\n",
              "    <tr>\n",
              "      <th>2</th>\n",
              "      <td>3</td>\n",
              "      <td>Finding Nemo</td>\n",
              "      <td>Animation Family</td>\n",
              "      <td>en</td>\n",
              "      <td>94000000</td>\n",
              "      <td>85.688789</td>\n",
              "      <td>30-05-2003</td>\n",
              "      <td>940335536</td>\n",
              "      <td>100.0</td>\n",
              "      <td>7.6</td>\n",
              "      <td>...</td>\n",
              "      <td>http://movies.disney.com/finding-nemo</td>\n",
              "      <td>father son relationship harbor underwater fish...</td>\n",
              "      <td>Nemo, an adventurous young clownfish, is unexp...</td>\n",
              "      <td>[{\"name\": \"Pixar Animation Studios\", \"id\": 3}]</td>\n",
              "      <td>[{\"iso_3166_1\": \"US\", \"name\": \"United States o...</td>\n",
              "      <td>[{\"iso_639_1\": \"en\", \"name\": \"English\"}]</td>\n",
              "      <td>There are 3.7 trillion fish in the ocean, they...</td>\n",
              "      <td>Albert Brooks Ellen DeGeneres Alexander Gould ...</td>\n",
              "      <td>[{'name': 'Andrew Stanton', 'gender': 2, 'depa...</td>\n",
              "      <td>Andrew Stanton</td>\n",
              "    </tr>\n",
              "    <tr>\n",
              "      <th>3</th>\n",
              "      <td>4</td>\n",
              "      <td>Forrest Gump</td>\n",
              "      <td>Comedy Drama Romance</td>\n",
              "      <td>en</td>\n",
              "      <td>55000000</td>\n",
              "      <td>138.133331</td>\n",
              "      <td>06-07-1994</td>\n",
              "      <td>677945399</td>\n",
              "      <td>142.0</td>\n",
              "      <td>8.2</td>\n",
              "      <td>...</td>\n",
              "      <td>NaN</td>\n",
              "      <td>vietnam veteran hippie mentally disabled runni...</td>\n",
              "      <td>A man with a low IQ has accomplished great thi...</td>\n",
              "      <td>[{\"name\": \"Paramount Pictures\", \"id\": 4}]</td>\n",
              "      <td>[{\"iso_3166_1\": \"US\", \"name\": \"United States o...</td>\n",
              "      <td>[{\"iso_639_1\": \"en\", \"name\": \"English\"}]</td>\n",
              "      <td>The world will never be the same, once you've ...</td>\n",
              "      <td>Tom Hanks Robin Wright Gary Sinise Mykelti Wil...</td>\n",
              "      <td>[{'name': 'Alan Silvestri', 'gender': 2, 'depa...</td>\n",
              "      <td>Robert Zemeckis</td>\n",
              "    </tr>\n",
              "    <tr>\n",
              "      <th>4</th>\n",
              "      <td>5</td>\n",
              "      <td>American Beauty</td>\n",
              "      <td>Drama</td>\n",
              "      <td>en</td>\n",
              "      <td>15000000</td>\n",
              "      <td>80.878605</td>\n",
              "      <td>15-09-1999</td>\n",
              "      <td>356296601</td>\n",
              "      <td>122.0</td>\n",
              "      <td>7.9</td>\n",
              "      <td>...</td>\n",
              "      <td>http://www.dreamworks.com/ab/</td>\n",
              "      <td>male nudity female nudity adultery midlife cri...</td>\n",
              "      <td>Lester Burnham, a depressed suburban father in...</td>\n",
              "      <td>[{\"name\": \"DreamWorks SKG\", \"id\": 27}, {\"name\"...</td>\n",
              "      <td>[{\"iso_3166_1\": \"US\", \"name\": \"United States o...</td>\n",
              "      <td>[{\"iso_639_1\": \"en\", \"name\": \"English\"}]</td>\n",
              "      <td>Look closer.</td>\n",
              "      <td>Kevin Spacey Annette Bening Thora Birch Wes Be...</td>\n",
              "      <td>[{'name': 'Thomas Newman', 'gender': 2, 'depar...</td>\n",
              "      <td>Sam Mendes</td>\n",
              "    </tr>\n",
              "  </tbody>\n",
              "</table>\n",
              "<p>5 rows × 21 columns</p>\n",
              "</div>\n",
              "    <div class=\"colab-df-buttons\">\n",
              "\n",
              "  <div class=\"colab-df-container\">\n",
              "    <button class=\"colab-df-convert\" onclick=\"convertToInteractive('df-d01f58e3-80ec-4720-a122-a608c6ac766b')\"\n",
              "            title=\"Convert this dataframe to an interactive table.\"\n",
              "            style=\"display:none;\">\n",
              "\n",
              "  <svg xmlns=\"http://www.w3.org/2000/svg\" height=\"24px\" viewBox=\"0 -960 960 960\">\n",
              "    <path d=\"M120-120v-720h720v720H120Zm60-500h600v-160H180v160Zm220 220h160v-160H400v160Zm0 220h160v-160H400v160ZM180-400h160v-160H180v160Zm440 0h160v-160H620v160ZM180-180h160v-160H180v160Zm440 0h160v-160H620v160Z\"/>\n",
              "  </svg>\n",
              "    </button>\n",
              "\n",
              "  <style>\n",
              "    .colab-df-container {\n",
              "      display:flex;\n",
              "      gap: 12px;\n",
              "    }\n",
              "\n",
              "    .colab-df-convert {\n",
              "      background-color: #E8F0FE;\n",
              "      border: none;\n",
              "      border-radius: 50%;\n",
              "      cursor: pointer;\n",
              "      display: none;\n",
              "      fill: #1967D2;\n",
              "      height: 32px;\n",
              "      padding: 0 0 0 0;\n",
              "      width: 32px;\n",
              "    }\n",
              "\n",
              "    .colab-df-convert:hover {\n",
              "      background-color: #E2EBFA;\n",
              "      box-shadow: 0px 1px 2px rgba(60, 64, 67, 0.3), 0px 1px 3px 1px rgba(60, 64, 67, 0.15);\n",
              "      fill: #174EA6;\n",
              "    }\n",
              "\n",
              "    .colab-df-buttons div {\n",
              "      margin-bottom: 4px;\n",
              "    }\n",
              "\n",
              "    [theme=dark] .colab-df-convert {\n",
              "      background-color: #3B4455;\n",
              "      fill: #D2E3FC;\n",
              "    }\n",
              "\n",
              "    [theme=dark] .colab-df-convert:hover {\n",
              "      background-color: #434B5C;\n",
              "      box-shadow: 0px 1px 3px 1px rgba(0, 0, 0, 0.15);\n",
              "      filter: drop-shadow(0px 1px 2px rgba(0, 0, 0, 0.3));\n",
              "      fill: #FFFFFF;\n",
              "    }\n",
              "  </style>\n",
              "\n",
              "    <script>\n",
              "      const buttonEl =\n",
              "        document.querySelector('#df-d01f58e3-80ec-4720-a122-a608c6ac766b button.colab-df-convert');\n",
              "      buttonEl.style.display =\n",
              "        google.colab.kernel.accessAllowed ? 'block' : 'none';\n",
              "\n",
              "      async function convertToInteractive(key) {\n",
              "        const element = document.querySelector('#df-d01f58e3-80ec-4720-a122-a608c6ac766b');\n",
              "        const dataTable =\n",
              "          await google.colab.kernel.invokeFunction('convertToInteractive',\n",
              "                                                    [key], {});\n",
              "        if (!dataTable) return;\n",
              "\n",
              "        const docLinkHtml = 'Like what you see? Visit the ' +\n",
              "          '<a target=\"_blank\" href=https://colab.research.google.com/notebooks/data_table.ipynb>data table notebook</a>'\n",
              "          + ' to learn more about interactive tables.';\n",
              "        element.innerHTML = '';\n",
              "        dataTable['output_type'] = 'display_data';\n",
              "        await google.colab.output.renderOutput(dataTable, element);\n",
              "        const docLink = document.createElement('div');\n",
              "        docLink.innerHTML = docLinkHtml;\n",
              "        element.appendChild(docLink);\n",
              "      }\n",
              "    </script>\n",
              "  </div>\n",
              "\n",
              "\n",
              "<div id=\"df-eff3bf30-d977-4f1e-bea8-a01a0f3852e2\">\n",
              "  <button class=\"colab-df-quickchart\" onclick=\"quickchart('df-eff3bf30-d977-4f1e-bea8-a01a0f3852e2')\"\n",
              "            title=\"Suggest charts\"\n",
              "            style=\"display:none;\">\n",
              "\n",
              "<svg xmlns=\"http://www.w3.org/2000/svg\" height=\"24px\"viewBox=\"0 0 24 24\"\n",
              "     width=\"24px\">\n",
              "    <g>\n",
              "        <path d=\"M19 3H5c-1.1 0-2 .9-2 2v14c0 1.1.9 2 2 2h14c1.1 0 2-.9 2-2V5c0-1.1-.9-2-2-2zM9 17H7v-7h2v7zm4 0h-2V7h2v10zm4 0h-2v-4h2v4z\"/>\n",
              "    </g>\n",
              "</svg>\n",
              "  </button>\n",
              "\n",
              "<style>\n",
              "  .colab-df-quickchart {\n",
              "      --bg-color: #E8F0FE;\n",
              "      --fill-color: #1967D2;\n",
              "      --hover-bg-color: #E2EBFA;\n",
              "      --hover-fill-color: #174EA6;\n",
              "      --disabled-fill-color: #AAA;\n",
              "      --disabled-bg-color: #DDD;\n",
              "  }\n",
              "\n",
              "  [theme=dark] .colab-df-quickchart {\n",
              "      --bg-color: #3B4455;\n",
              "      --fill-color: #D2E3FC;\n",
              "      --hover-bg-color: #434B5C;\n",
              "      --hover-fill-color: #FFFFFF;\n",
              "      --disabled-bg-color: #3B4455;\n",
              "      --disabled-fill-color: #666;\n",
              "  }\n",
              "\n",
              "  .colab-df-quickchart {\n",
              "    background-color: var(--bg-color);\n",
              "    border: none;\n",
              "    border-radius: 50%;\n",
              "    cursor: pointer;\n",
              "    display: none;\n",
              "    fill: var(--fill-color);\n",
              "    height: 32px;\n",
              "    padding: 0;\n",
              "    width: 32px;\n",
              "  }\n",
              "\n",
              "  .colab-df-quickchart:hover {\n",
              "    background-color: var(--hover-bg-color);\n",
              "    box-shadow: 0 1px 2px rgba(60, 64, 67, 0.3), 0 1px 3px 1px rgba(60, 64, 67, 0.15);\n",
              "    fill: var(--button-hover-fill-color);\n",
              "  }\n",
              "\n",
              "  .colab-df-quickchart-complete:disabled,\n",
              "  .colab-df-quickchart-complete:disabled:hover {\n",
              "    background-color: var(--disabled-bg-color);\n",
              "    fill: var(--disabled-fill-color);\n",
              "    box-shadow: none;\n",
              "  }\n",
              "\n",
              "  .colab-df-spinner {\n",
              "    border: 2px solid var(--fill-color);\n",
              "    border-color: transparent;\n",
              "    border-bottom-color: var(--fill-color);\n",
              "    animation:\n",
              "      spin 1s steps(1) infinite;\n",
              "  }\n",
              "\n",
              "  @keyframes spin {\n",
              "    0% {\n",
              "      border-color: transparent;\n",
              "      border-bottom-color: var(--fill-color);\n",
              "      border-left-color: var(--fill-color);\n",
              "    }\n",
              "    20% {\n",
              "      border-color: transparent;\n",
              "      border-left-color: var(--fill-color);\n",
              "      border-top-color: var(--fill-color);\n",
              "    }\n",
              "    30% {\n",
              "      border-color: transparent;\n",
              "      border-left-color: var(--fill-color);\n",
              "      border-top-color: var(--fill-color);\n",
              "      border-right-color: var(--fill-color);\n",
              "    }\n",
              "    40% {\n",
              "      border-color: transparent;\n",
              "      border-right-color: var(--fill-color);\n",
              "      border-top-color: var(--fill-color);\n",
              "    }\n",
              "    60% {\n",
              "      border-color: transparent;\n",
              "      border-right-color: var(--fill-color);\n",
              "    }\n",
              "    80% {\n",
              "      border-color: transparent;\n",
              "      border-right-color: var(--fill-color);\n",
              "      border-bottom-color: var(--fill-color);\n",
              "    }\n",
              "    90% {\n",
              "      border-color: transparent;\n",
              "      border-bottom-color: var(--fill-color);\n",
              "    }\n",
              "  }\n",
              "</style>\n",
              "\n",
              "  <script>\n",
              "    async function quickchart(key) {\n",
              "      const quickchartButtonEl =\n",
              "        document.querySelector('#' + key + ' button');\n",
              "      quickchartButtonEl.disabled = true;  // To prevent multiple clicks.\n",
              "      quickchartButtonEl.classList.add('colab-df-spinner');\n",
              "      try {\n",
              "        const charts = await google.colab.kernel.invokeFunction(\n",
              "            'suggestCharts', [key], {});\n",
              "      } catch (error) {\n",
              "        console.error('Error during call to suggestCharts:', error);\n",
              "      }\n",
              "      quickchartButtonEl.classList.remove('colab-df-spinner');\n",
              "      quickchartButtonEl.classList.add('colab-df-quickchart-complete');\n",
              "    }\n",
              "    (() => {\n",
              "      let quickchartButtonEl =\n",
              "        document.querySelector('#df-eff3bf30-d977-4f1e-bea8-a01a0f3852e2 button');\n",
              "      quickchartButtonEl.style.display =\n",
              "        google.colab.kernel.accessAllowed ? 'block' : 'none';\n",
              "    })();\n",
              "  </script>\n",
              "</div>\n",
              "\n",
              "    </div>\n",
              "  </div>\n"
            ]
          },
          "metadata": {},
          "execution_count": 173
        }
      ]
    },
    {
      "cell_type": "code",
      "source": [
        "df.info()"
      ],
      "metadata": {
        "id": "Zh5KQCrssfdX",
        "colab": {
          "base_uri": "https://localhost:8080/"
        },
        "outputId": "a24e664f-12f9-4d6d-9c2c-91f925d5fb78"
      },
      "execution_count": 174,
      "outputs": [
        {
          "output_type": "stream",
          "name": "stdout",
          "text": [
            "<class 'pandas.core.frame.DataFrame'>\n",
            "RangeIndex: 4760 entries, 0 to 4759\n",
            "Data columns (total 21 columns):\n",
            " #   Column                    Non-Null Count  Dtype  \n",
            "---  ------                    --------------  -----  \n",
            " 0   Movie_ID                  4760 non-null   int64  \n",
            " 1   Movie_Title               4760 non-null   object \n",
            " 2   Movie_Genre               4760 non-null   object \n",
            " 3   Movie_Language            4760 non-null   object \n",
            " 4   Movie_Budget              4760 non-null   int64  \n",
            " 5   Movie_Popularity          4760 non-null   float64\n",
            " 6   Movie_Release_Date        4760 non-null   object \n",
            " 7   Movie_Revenue             4760 non-null   int64  \n",
            " 8   Movie_Runtime             4758 non-null   float64\n",
            " 9   Movie_Vote                4760 non-null   float64\n",
            " 10  Movie_Vote_Count          4760 non-null   int64  \n",
            " 11  Movie_Homepage            1699 non-null   object \n",
            " 12  Movie_Keywords            4373 non-null   object \n",
            " 13  Movie_Overview            4757 non-null   object \n",
            " 14  Movie_Production_House    4760 non-null   object \n",
            " 15  Movie_Production_Country  4760 non-null   object \n",
            " 16  Movie_Spoken_Language     4760 non-null   object \n",
            " 17  Movie_Tagline             3942 non-null   object \n",
            " 18  Movie_Cast                4733 non-null   object \n",
            " 19  Movie_Crew                4760 non-null   object \n",
            " 20  Movie_Director            4738 non-null   object \n",
            "dtypes: float64(3), int64(4), object(14)\n",
            "memory usage: 781.1+ KB\n"
          ]
        }
      ]
    },
    {
      "cell_type": "code",
      "source": [
        "df.shape"
      ],
      "metadata": {
        "colab": {
          "base_uri": "https://localhost:8080/"
        },
        "id": "sgFXmdMQpa0E",
        "outputId": "7263b3b1-ccb4-4b3f-9178-2f0110fbd53a"
      },
      "execution_count": 175,
      "outputs": [
        {
          "output_type": "execute_result",
          "data": {
            "text/plain": [
              "(4760, 21)"
            ]
          },
          "metadata": {},
          "execution_count": 175
        }
      ]
    },
    {
      "cell_type": "code",
      "source": [
        "df.columns"
      ],
      "metadata": {
        "colab": {
          "base_uri": "https://localhost:8080/"
        },
        "id": "ZM5GAxPnpcYq",
        "outputId": "869ed930-f393-4588-f1e8-e04a845358c2"
      },
      "execution_count": 176,
      "outputs": [
        {
          "output_type": "execute_result",
          "data": {
            "text/plain": [
              "Index(['Movie_ID', 'Movie_Title', 'Movie_Genre', 'Movie_Language',\n",
              "       'Movie_Budget', 'Movie_Popularity', 'Movie_Release_Date',\n",
              "       'Movie_Revenue', 'Movie_Runtime', 'Movie_Vote', 'Movie_Vote_Count',\n",
              "       'Movie_Homepage', 'Movie_Keywords', 'Movie_Overview',\n",
              "       'Movie_Production_House', 'Movie_Production_Country',\n",
              "       'Movie_Spoken_Language', 'Movie_Tagline', 'Movie_Cast', 'Movie_Crew',\n",
              "       'Movie_Director'],\n",
              "      dtype='object')"
            ]
          },
          "metadata": {},
          "execution_count": 176
        }
      ]
    },
    {
      "cell_type": "markdown",
      "source": [
        "# **Get Feature Selection**"
      ],
      "metadata": {
        "id": "nlIv6qoKpkE5"
      }
    },
    {
      "cell_type": "code",
      "source": [
        "df_features = df[['Movie_Genre','Movie_Keywords','Movie_Tagline','Movie_Cast','Movie_Director']].fillna('')"
      ],
      "metadata": {
        "id": "weWI7AyZq8Sw"
      },
      "execution_count": 177,
      "outputs": []
    },
    {
      "cell_type": "code",
      "source": [
        "df_features.shape"
      ],
      "metadata": {
        "colab": {
          "base_uri": "https://localhost:8080/"
        },
        "id": "gbceee8Hrfvn",
        "outputId": "68f02313-0f2d-4bb7-c68a-0081086774ab"
      },
      "execution_count": 178,
      "outputs": [
        {
          "output_type": "execute_result",
          "data": {
            "text/plain": [
              "(4760, 5)"
            ]
          },
          "metadata": {},
          "execution_count": 178
        }
      ]
    },
    {
      "cell_type": "code",
      "source": [
        "df_features"
      ],
      "metadata": {
        "colab": {
          "base_uri": "https://localhost:8080/",
          "height": 580
        },
        "id": "M4HEWXTirunX",
        "outputId": "afcfe670-83b5-473b-9ee7-8283c5cb7f60"
      },
      "execution_count": 179,
      "outputs": [
        {
          "output_type": "execute_result",
          "data": {
            "text/plain": [
              "                           Movie_Genre  \\\n",
              "0                         Crime Comedy   \n",
              "1     Adventure Action Science Fiction   \n",
              "2                     Animation Family   \n",
              "3                 Comedy Drama Romance   \n",
              "4                                Drama   \n",
              "...                                ...   \n",
              "4755                            Horror   \n",
              "4756               Comedy Family Drama   \n",
              "4757                    Thriller Drama   \n",
              "4758                            Family   \n",
              "4759                       Documentary   \n",
              "\n",
              "                                         Movie_Keywords  \\\n",
              "0             hotel new year's eve witch bet hotel room   \n",
              "1           android galaxy hermit death star lightsaber   \n",
              "2     father son relationship harbor underwater fish...   \n",
              "3     vietnam veteran hippie mentally disabled runni...   \n",
              "4     male nudity female nudity adultery midlife cri...   \n",
              "...                                                 ...   \n",
              "4755                                                      \n",
              "4756                                                      \n",
              "4757                     christian film sex trafficking   \n",
              "4758                                                      \n",
              "4759  music actors legendary perfomer classic hollyw...   \n",
              "\n",
              "                                          Movie_Tagline  \\\n",
              "0     Twelve outrageous guests. Four scandalous requ...   \n",
              "1          A long time ago in a galaxy far, far away...   \n",
              "2     There are 3.7 trillion fish in the ocean, they...   \n",
              "3     The world will never be the same, once you've ...   \n",
              "4                                          Look closer.   \n",
              "...                                                 ...   \n",
              "4755                The hot spot where Satan's waitin'.   \n",
              "4756           It’s better to stand out than to fit in.   \n",
              "4757           She never knew it could happen to her...   \n",
              "4758                                                      \n",
              "4759                                                      \n",
              "\n",
              "                                             Movie_Cast     Movie_Director  \n",
              "0     Tim Roth Antonio Banderas Jennifer Beals Madon...     Allison Anders  \n",
              "1     Mark Hamill Harrison Ford Carrie Fisher Peter ...       George Lucas  \n",
              "2     Albert Brooks Ellen DeGeneres Alexander Gould ...     Andrew Stanton  \n",
              "3     Tom Hanks Robin Wright Gary Sinise Mykelti Wil...    Robert Zemeckis  \n",
              "4     Kevin Spacey Annette Bening Thora Birch Wes Be...         Sam Mendes  \n",
              "...                                                 ...                ...  \n",
              "4755  Lisa Hart Carroll Michael Des Barres Paul Drak...         Pece Dingo  \n",
              "4756  Roni Akurati Brighton Sharbino Jason Lee Anjul...       Frank Lotito  \n",
              "4757  Nicole Smolen Kim Baldwin Ariana Stephens Brys...       Jaco Booyens  \n",
              "4758                                                                        \n",
              "4759                                    Tony Oppedisano  Simon Napier-Bell  \n",
              "\n",
              "[4760 rows x 5 columns]"
            ],
            "text/html": [
              "\n",
              "  <div id=\"df-230cd5d7-ee54-43df-983c-b685b19f9774\" class=\"colab-df-container\">\n",
              "    <div>\n",
              "<style scoped>\n",
              "    .dataframe tbody tr th:only-of-type {\n",
              "        vertical-align: middle;\n",
              "    }\n",
              "\n",
              "    .dataframe tbody tr th {\n",
              "        vertical-align: top;\n",
              "    }\n",
              "\n",
              "    .dataframe thead th {\n",
              "        text-align: right;\n",
              "    }\n",
              "</style>\n",
              "<table border=\"1\" class=\"dataframe\">\n",
              "  <thead>\n",
              "    <tr style=\"text-align: right;\">\n",
              "      <th></th>\n",
              "      <th>Movie_Genre</th>\n",
              "      <th>Movie_Keywords</th>\n",
              "      <th>Movie_Tagline</th>\n",
              "      <th>Movie_Cast</th>\n",
              "      <th>Movie_Director</th>\n",
              "    </tr>\n",
              "  </thead>\n",
              "  <tbody>\n",
              "    <tr>\n",
              "      <th>0</th>\n",
              "      <td>Crime Comedy</td>\n",
              "      <td>hotel new year's eve witch bet hotel room</td>\n",
              "      <td>Twelve outrageous guests. Four scandalous requ...</td>\n",
              "      <td>Tim Roth Antonio Banderas Jennifer Beals Madon...</td>\n",
              "      <td>Allison Anders</td>\n",
              "    </tr>\n",
              "    <tr>\n",
              "      <th>1</th>\n",
              "      <td>Adventure Action Science Fiction</td>\n",
              "      <td>android galaxy hermit death star lightsaber</td>\n",
              "      <td>A long time ago in a galaxy far, far away...</td>\n",
              "      <td>Mark Hamill Harrison Ford Carrie Fisher Peter ...</td>\n",
              "      <td>George Lucas</td>\n",
              "    </tr>\n",
              "    <tr>\n",
              "      <th>2</th>\n",
              "      <td>Animation Family</td>\n",
              "      <td>father son relationship harbor underwater fish...</td>\n",
              "      <td>There are 3.7 trillion fish in the ocean, they...</td>\n",
              "      <td>Albert Brooks Ellen DeGeneres Alexander Gould ...</td>\n",
              "      <td>Andrew Stanton</td>\n",
              "    </tr>\n",
              "    <tr>\n",
              "      <th>3</th>\n",
              "      <td>Comedy Drama Romance</td>\n",
              "      <td>vietnam veteran hippie mentally disabled runni...</td>\n",
              "      <td>The world will never be the same, once you've ...</td>\n",
              "      <td>Tom Hanks Robin Wright Gary Sinise Mykelti Wil...</td>\n",
              "      <td>Robert Zemeckis</td>\n",
              "    </tr>\n",
              "    <tr>\n",
              "      <th>4</th>\n",
              "      <td>Drama</td>\n",
              "      <td>male nudity female nudity adultery midlife cri...</td>\n",
              "      <td>Look closer.</td>\n",
              "      <td>Kevin Spacey Annette Bening Thora Birch Wes Be...</td>\n",
              "      <td>Sam Mendes</td>\n",
              "    </tr>\n",
              "    <tr>\n",
              "      <th>...</th>\n",
              "      <td>...</td>\n",
              "      <td>...</td>\n",
              "      <td>...</td>\n",
              "      <td>...</td>\n",
              "      <td>...</td>\n",
              "    </tr>\n",
              "    <tr>\n",
              "      <th>4755</th>\n",
              "      <td>Horror</td>\n",
              "      <td></td>\n",
              "      <td>The hot spot where Satan's waitin'.</td>\n",
              "      <td>Lisa Hart Carroll Michael Des Barres Paul Drak...</td>\n",
              "      <td>Pece Dingo</td>\n",
              "    </tr>\n",
              "    <tr>\n",
              "      <th>4756</th>\n",
              "      <td>Comedy Family Drama</td>\n",
              "      <td></td>\n",
              "      <td>It’s better to stand out than to fit in.</td>\n",
              "      <td>Roni Akurati Brighton Sharbino Jason Lee Anjul...</td>\n",
              "      <td>Frank Lotito</td>\n",
              "    </tr>\n",
              "    <tr>\n",
              "      <th>4757</th>\n",
              "      <td>Thriller Drama</td>\n",
              "      <td>christian film sex trafficking</td>\n",
              "      <td>She never knew it could happen to her...</td>\n",
              "      <td>Nicole Smolen Kim Baldwin Ariana Stephens Brys...</td>\n",
              "      <td>Jaco Booyens</td>\n",
              "    </tr>\n",
              "    <tr>\n",
              "      <th>4758</th>\n",
              "      <td>Family</td>\n",
              "      <td></td>\n",
              "      <td></td>\n",
              "      <td></td>\n",
              "      <td></td>\n",
              "    </tr>\n",
              "    <tr>\n",
              "      <th>4759</th>\n",
              "      <td>Documentary</td>\n",
              "      <td>music actors legendary perfomer classic hollyw...</td>\n",
              "      <td></td>\n",
              "      <td>Tony Oppedisano</td>\n",
              "      <td>Simon Napier-Bell</td>\n",
              "    </tr>\n",
              "  </tbody>\n",
              "</table>\n",
              "<p>4760 rows × 5 columns</p>\n",
              "</div>\n",
              "    <div class=\"colab-df-buttons\">\n",
              "\n",
              "  <div class=\"colab-df-container\">\n",
              "    <button class=\"colab-df-convert\" onclick=\"convertToInteractive('df-230cd5d7-ee54-43df-983c-b685b19f9774')\"\n",
              "            title=\"Convert this dataframe to an interactive table.\"\n",
              "            style=\"display:none;\">\n",
              "\n",
              "  <svg xmlns=\"http://www.w3.org/2000/svg\" height=\"24px\" viewBox=\"0 -960 960 960\">\n",
              "    <path d=\"M120-120v-720h720v720H120Zm60-500h600v-160H180v160Zm220 220h160v-160H400v160Zm0 220h160v-160H400v160ZM180-400h160v-160H180v160Zm440 0h160v-160H620v160ZM180-180h160v-160H180v160Zm440 0h160v-160H620v160Z\"/>\n",
              "  </svg>\n",
              "    </button>\n",
              "\n",
              "  <style>\n",
              "    .colab-df-container {\n",
              "      display:flex;\n",
              "      gap: 12px;\n",
              "    }\n",
              "\n",
              "    .colab-df-convert {\n",
              "      background-color: #E8F0FE;\n",
              "      border: none;\n",
              "      border-radius: 50%;\n",
              "      cursor: pointer;\n",
              "      display: none;\n",
              "      fill: #1967D2;\n",
              "      height: 32px;\n",
              "      padding: 0 0 0 0;\n",
              "      width: 32px;\n",
              "    }\n",
              "\n",
              "    .colab-df-convert:hover {\n",
              "      background-color: #E2EBFA;\n",
              "      box-shadow: 0px 1px 2px rgba(60, 64, 67, 0.3), 0px 1px 3px 1px rgba(60, 64, 67, 0.15);\n",
              "      fill: #174EA6;\n",
              "    }\n",
              "\n",
              "    .colab-df-buttons div {\n",
              "      margin-bottom: 4px;\n",
              "    }\n",
              "\n",
              "    [theme=dark] .colab-df-convert {\n",
              "      background-color: #3B4455;\n",
              "      fill: #D2E3FC;\n",
              "    }\n",
              "\n",
              "    [theme=dark] .colab-df-convert:hover {\n",
              "      background-color: #434B5C;\n",
              "      box-shadow: 0px 1px 3px 1px rgba(0, 0, 0, 0.15);\n",
              "      filter: drop-shadow(0px 1px 2px rgba(0, 0, 0, 0.3));\n",
              "      fill: #FFFFFF;\n",
              "    }\n",
              "  </style>\n",
              "\n",
              "    <script>\n",
              "      const buttonEl =\n",
              "        document.querySelector('#df-230cd5d7-ee54-43df-983c-b685b19f9774 button.colab-df-convert');\n",
              "      buttonEl.style.display =\n",
              "        google.colab.kernel.accessAllowed ? 'block' : 'none';\n",
              "\n",
              "      async function convertToInteractive(key) {\n",
              "        const element = document.querySelector('#df-230cd5d7-ee54-43df-983c-b685b19f9774');\n",
              "        const dataTable =\n",
              "          await google.colab.kernel.invokeFunction('convertToInteractive',\n",
              "                                                    [key], {});\n",
              "        if (!dataTable) return;\n",
              "\n",
              "        const docLinkHtml = 'Like what you see? Visit the ' +\n",
              "          '<a target=\"_blank\" href=https://colab.research.google.com/notebooks/data_table.ipynb>data table notebook</a>'\n",
              "          + ' to learn more about interactive tables.';\n",
              "        element.innerHTML = '';\n",
              "        dataTable['output_type'] = 'display_data';\n",
              "        await google.colab.output.renderOutput(dataTable, element);\n",
              "        const docLink = document.createElement('div');\n",
              "        docLink.innerHTML = docLinkHtml;\n",
              "        element.appendChild(docLink);\n",
              "      }\n",
              "    </script>\n",
              "  </div>\n",
              "\n",
              "\n",
              "<div id=\"df-190dce7b-adf7-4f90-935d-be4ec4d852e9\">\n",
              "  <button class=\"colab-df-quickchart\" onclick=\"quickchart('df-190dce7b-adf7-4f90-935d-be4ec4d852e9')\"\n",
              "            title=\"Suggest charts\"\n",
              "            style=\"display:none;\">\n",
              "\n",
              "<svg xmlns=\"http://www.w3.org/2000/svg\" height=\"24px\"viewBox=\"0 0 24 24\"\n",
              "     width=\"24px\">\n",
              "    <g>\n",
              "        <path d=\"M19 3H5c-1.1 0-2 .9-2 2v14c0 1.1.9 2 2 2h14c1.1 0 2-.9 2-2V5c0-1.1-.9-2-2-2zM9 17H7v-7h2v7zm4 0h-2V7h2v10zm4 0h-2v-4h2v4z\"/>\n",
              "    </g>\n",
              "</svg>\n",
              "  </button>\n",
              "\n",
              "<style>\n",
              "  .colab-df-quickchart {\n",
              "      --bg-color: #E8F0FE;\n",
              "      --fill-color: #1967D2;\n",
              "      --hover-bg-color: #E2EBFA;\n",
              "      --hover-fill-color: #174EA6;\n",
              "      --disabled-fill-color: #AAA;\n",
              "      --disabled-bg-color: #DDD;\n",
              "  }\n",
              "\n",
              "  [theme=dark] .colab-df-quickchart {\n",
              "      --bg-color: #3B4455;\n",
              "      --fill-color: #D2E3FC;\n",
              "      --hover-bg-color: #434B5C;\n",
              "      --hover-fill-color: #FFFFFF;\n",
              "      --disabled-bg-color: #3B4455;\n",
              "      --disabled-fill-color: #666;\n",
              "  }\n",
              "\n",
              "  .colab-df-quickchart {\n",
              "    background-color: var(--bg-color);\n",
              "    border: none;\n",
              "    border-radius: 50%;\n",
              "    cursor: pointer;\n",
              "    display: none;\n",
              "    fill: var(--fill-color);\n",
              "    height: 32px;\n",
              "    padding: 0;\n",
              "    width: 32px;\n",
              "  }\n",
              "\n",
              "  .colab-df-quickchart:hover {\n",
              "    background-color: var(--hover-bg-color);\n",
              "    box-shadow: 0 1px 2px rgba(60, 64, 67, 0.3), 0 1px 3px 1px rgba(60, 64, 67, 0.15);\n",
              "    fill: var(--button-hover-fill-color);\n",
              "  }\n",
              "\n",
              "  .colab-df-quickchart-complete:disabled,\n",
              "  .colab-df-quickchart-complete:disabled:hover {\n",
              "    background-color: var(--disabled-bg-color);\n",
              "    fill: var(--disabled-fill-color);\n",
              "    box-shadow: none;\n",
              "  }\n",
              "\n",
              "  .colab-df-spinner {\n",
              "    border: 2px solid var(--fill-color);\n",
              "    border-color: transparent;\n",
              "    border-bottom-color: var(--fill-color);\n",
              "    animation:\n",
              "      spin 1s steps(1) infinite;\n",
              "  }\n",
              "\n",
              "  @keyframes spin {\n",
              "    0% {\n",
              "      border-color: transparent;\n",
              "      border-bottom-color: var(--fill-color);\n",
              "      border-left-color: var(--fill-color);\n",
              "    }\n",
              "    20% {\n",
              "      border-color: transparent;\n",
              "      border-left-color: var(--fill-color);\n",
              "      border-top-color: var(--fill-color);\n",
              "    }\n",
              "    30% {\n",
              "      border-color: transparent;\n",
              "      border-left-color: var(--fill-color);\n",
              "      border-top-color: var(--fill-color);\n",
              "      border-right-color: var(--fill-color);\n",
              "    }\n",
              "    40% {\n",
              "      border-color: transparent;\n",
              "      border-right-color: var(--fill-color);\n",
              "      border-top-color: var(--fill-color);\n",
              "    }\n",
              "    60% {\n",
              "      border-color: transparent;\n",
              "      border-right-color: var(--fill-color);\n",
              "    }\n",
              "    80% {\n",
              "      border-color: transparent;\n",
              "      border-right-color: var(--fill-color);\n",
              "      border-bottom-color: var(--fill-color);\n",
              "    }\n",
              "    90% {\n",
              "      border-color: transparent;\n",
              "      border-bottom-color: var(--fill-color);\n",
              "    }\n",
              "  }\n",
              "</style>\n",
              "\n",
              "  <script>\n",
              "    async function quickchart(key) {\n",
              "      const quickchartButtonEl =\n",
              "        document.querySelector('#' + key + ' button');\n",
              "      quickchartButtonEl.disabled = true;  // To prevent multiple clicks.\n",
              "      quickchartButtonEl.classList.add('colab-df-spinner');\n",
              "      try {\n",
              "        const charts = await google.colab.kernel.invokeFunction(\n",
              "            'suggestCharts', [key], {});\n",
              "      } catch (error) {\n",
              "        console.error('Error during call to suggestCharts:', error);\n",
              "      }\n",
              "      quickchartButtonEl.classList.remove('colab-df-spinner');\n",
              "      quickchartButtonEl.classList.add('colab-df-quickchart-complete');\n",
              "    }\n",
              "    (() => {\n",
              "      let quickchartButtonEl =\n",
              "        document.querySelector('#df-190dce7b-adf7-4f90-935d-be4ec4d852e9 button');\n",
              "      quickchartButtonEl.style.display =\n",
              "        google.colab.kernel.accessAllowed ? 'block' : 'none';\n",
              "    })();\n",
              "  </script>\n",
              "</div>\n",
              "\n",
              "  <div id=\"id_f99085e1-ffbe-4214-ad05-5e5301282f93\">\n",
              "    <style>\n",
              "      .colab-df-generate {\n",
              "        background-color: #E8F0FE;\n",
              "        border: none;\n",
              "        border-radius: 50%;\n",
              "        cursor: pointer;\n",
              "        display: none;\n",
              "        fill: #1967D2;\n",
              "        height: 32px;\n",
              "        padding: 0 0 0 0;\n",
              "        width: 32px;\n",
              "      }\n",
              "\n",
              "      .colab-df-generate:hover {\n",
              "        background-color: #E2EBFA;\n",
              "        box-shadow: 0px 1px 2px rgba(60, 64, 67, 0.3), 0px 1px 3px 1px rgba(60, 64, 67, 0.15);\n",
              "        fill: #174EA6;\n",
              "      }\n",
              "\n",
              "      [theme=dark] .colab-df-generate {\n",
              "        background-color: #3B4455;\n",
              "        fill: #D2E3FC;\n",
              "      }\n",
              "\n",
              "      [theme=dark] .colab-df-generate:hover {\n",
              "        background-color: #434B5C;\n",
              "        box-shadow: 0px 1px 3px 1px rgba(0, 0, 0, 0.15);\n",
              "        filter: drop-shadow(0px 1px 2px rgba(0, 0, 0, 0.3));\n",
              "        fill: #FFFFFF;\n",
              "      }\n",
              "    </style>\n",
              "    <button class=\"colab-df-generate\" onclick=\"generateWithVariable('df_features')\"\n",
              "            title=\"Generate code using this dataframe.\"\n",
              "            style=\"display:none;\">\n",
              "\n",
              "  <svg xmlns=\"http://www.w3.org/2000/svg\" height=\"24px\"viewBox=\"0 0 24 24\"\n",
              "       width=\"24px\">\n",
              "    <path d=\"M7,19H8.4L18.45,9,17,7.55,7,17.6ZM5,21V16.75L18.45,3.32a2,2,0,0,1,2.83,0l1.4,1.43a1.91,1.91,0,0,1,.58,1.4,1.91,1.91,0,0,1-.58,1.4L9.25,21ZM18.45,9,17,7.55Zm-12,3A5.31,5.31,0,0,0,4.9,8.1,5.31,5.31,0,0,0,1,6.5,5.31,5.31,0,0,0,4.9,4.9,5.31,5.31,0,0,0,6.5,1,5.31,5.31,0,0,0,8.1,4.9,5.31,5.31,0,0,0,12,6.5,5.46,5.46,0,0,0,6.5,12Z\"/>\n",
              "  </svg>\n",
              "    </button>\n",
              "    <script>\n",
              "      (() => {\n",
              "      const buttonEl =\n",
              "        document.querySelector('#id_f99085e1-ffbe-4214-ad05-5e5301282f93 button.colab-df-generate');\n",
              "      buttonEl.style.display =\n",
              "        google.colab.kernel.accessAllowed ? 'block' : 'none';\n",
              "\n",
              "      buttonEl.onclick = () => {\n",
              "        google.colab.notebook.generateWithVariable('df_features');\n",
              "      }\n",
              "      })();\n",
              "    </script>\n",
              "  </div>\n",
              "\n",
              "    </div>\n",
              "  </div>\n"
            ]
          },
          "metadata": {},
          "execution_count": 179
        }
      ]
    },
    {
      "cell_type": "code",
      "source": [
        "x = df_features['Movie_Genre'] + ' ' + df_features['Movie_Keywords'] + ' ' + df_features['Movie_Tagline'] + ' ' + df_features['Movie_Cast'] + ' ' + df_features['Movie_Director']"
      ],
      "metadata": {
        "id": "8B7c_4Wlrwhp"
      },
      "execution_count": 180,
      "outputs": []
    },
    {
      "cell_type": "code",
      "source": [
        "x"
      ],
      "metadata": {
        "colab": {
          "base_uri": "https://localhost:8080/"
        },
        "id": "q-xJruarsXwt",
        "outputId": "9475c24f-9697-461d-b66b-7a42cbab5369"
      },
      "execution_count": 181,
      "outputs": [
        {
          "output_type": "execute_result",
          "data": {
            "text/plain": [
              "0       Crime Comedy hotel new year's eve witch bet ho...\n",
              "1       Adventure Action Science Fiction android galax...\n",
              "2       Animation Family father son relationship harbo...\n",
              "3       Comedy Drama Romance vietnam veteran hippie me...\n",
              "4       Drama male nudity female nudity adultery midli...\n",
              "                              ...                        \n",
              "4755    Horror  The hot spot where Satan's waitin'. Li...\n",
              "4756    Comedy Family Drama  It’s better to stand out ...\n",
              "4757    Thriller Drama christian film sex trafficking ...\n",
              "4758                                           Family    \n",
              "4759    Documentary music actors legendary perfomer cl...\n",
              "Length: 4760, dtype: object"
            ]
          },
          "metadata": {},
          "execution_count": 181
        }
      ]
    },
    {
      "cell_type": "code",
      "source": [
        "x.shape"
      ],
      "metadata": {
        "colab": {
          "base_uri": "https://localhost:8080/"
        },
        "id": "KFUc4-Y3sZL4",
        "outputId": "5d6fccfa-9a80-47c1-f2c4-7093a478f254"
      },
      "execution_count": 182,
      "outputs": [
        {
          "output_type": "execute_result",
          "data": {
            "text/plain": [
              "(4760,)"
            ]
          },
          "metadata": {},
          "execution_count": 182
        }
      ]
    },
    {
      "cell_type": "markdown",
      "source": [
        "# **Get Feature Text Conversion to Tokens**"
      ],
      "metadata": {
        "id": "Ckx3-rw6sf_I"
      }
    },
    {
      "cell_type": "code",
      "source": [
        "from sklearn.feature_extraction.text import TfidfVectorizer"
      ],
      "metadata": {
        "id": "OFb0fBXvuQo0"
      },
      "execution_count": 183,
      "outputs": []
    },
    {
      "cell_type": "code",
      "source": [
        "tfidf = TfidfVectorizer()"
      ],
      "metadata": {
        "id": "a3ADqdGhs8Ya"
      },
      "execution_count": 184,
      "outputs": []
    },
    {
      "cell_type": "code",
      "source": [
        "x = tfidf.fit_transform(x)"
      ],
      "metadata": {
        "id": "v77BvnE2tHRi"
      },
      "execution_count": 185,
      "outputs": []
    },
    {
      "cell_type": "code",
      "source": [
        "x.shape"
      ],
      "metadata": {
        "colab": {
          "base_uri": "https://localhost:8080/"
        },
        "id": "yBFHmgYuwhb6",
        "outputId": "a97a7e3c-fe62-4091-cd70-1191484a0d67"
      },
      "execution_count": 186,
      "outputs": [
        {
          "output_type": "execute_result",
          "data": {
            "text/plain": [
              "(4760, 17258)"
            ]
          },
          "metadata": {},
          "execution_count": 186
        }
      ]
    },
    {
      "cell_type": "code",
      "source": [
        "print(x)"
      ],
      "metadata": {
        "colab": {
          "base_uri": "https://localhost:8080/"
        },
        "id": "M07-tJXMwluV",
        "outputId": "567b7acf-d12e-4f7f-9629-cd4ae77c0560"
      },
      "execution_count": 187,
      "outputs": [
        {
          "output_type": "stream",
          "name": "stdout",
          "text": [
            "  (0, 617)\t0.1633382144407513\n",
            "  (0, 492)\t0.1432591540388685\n",
            "  (0, 15413)\t0.1465525095337543\n",
            "  (0, 9675)\t0.14226057295252661\n",
            "  (0, 9465)\t0.1659841367820977\n",
            "  (0, 1390)\t0.16898383612799558\n",
            "  (0, 7825)\t0.09799561597509843\n",
            "  (0, 1214)\t0.13865857545144072\n",
            "  (0, 729)\t0.13415063359531618\n",
            "  (0, 13093)\t0.1432591540388685\n",
            "  (0, 15355)\t0.10477815972666779\n",
            "  (0, 9048)\t0.0866842116160778\n",
            "  (0, 11161)\t0.06250380151644369\n",
            "  (0, 16773)\t0.17654247479915475\n",
            "  (0, 5612)\t0.08603537588547631\n",
            "  (0, 16735)\t0.10690083751525419\n",
            "  (0, 7904)\t0.13348000542112332\n",
            "  (0, 15219)\t0.09800472886453934\n",
            "  (0, 11242)\t0.07277788238484746\n",
            "  (0, 3878)\t0.11998399582562203\n",
            "  (0, 5499)\t0.11454057510303811\n",
            "  (0, 7071)\t0.19822417598406614\n",
            "  (0, 7454)\t0.14745635785412262\n",
            "  (0, 1495)\t0.19712637387361423\n",
            "  (0, 9206)\t0.15186283580984414\n",
            "  :\t:\n",
            "  (4757, 5455)\t0.12491480594769522\n",
            "  (4757, 2967)\t0.16273475835631626\n",
            "  (4757, 8464)\t0.23522565554066333\n",
            "  (4757, 6938)\t0.17088173678136628\n",
            "  (4757, 8379)\t0.17480603856721913\n",
            "  (4757, 15303)\t0.07654356007668191\n",
            "  (4757, 15384)\t0.09754322497537371\n",
            "  (4757, 7649)\t0.11479421494340192\n",
            "  (4757, 10896)\t0.14546473055066447\n",
            "  (4757, 4494)\t0.05675298448720501\n",
            "  (4758, 5238)\t1.0\n",
            "  (4759, 11264)\t0.33947721804318337\n",
            "  (4759, 11708)\t0.33947721804318337\n",
            "  (4759, 205)\t0.3237911628497312\n",
            "  (4759, 8902)\t0.3040290704566037\n",
            "  (4759, 14062)\t0.3237911628497312\n",
            "  (4759, 3058)\t0.2812896191863103\n",
            "  (4759, 7130)\t0.26419662449963793\n",
            "  (4759, 10761)\t0.3126617295732147\n",
            "  (4759, 4358)\t0.18306542312175342\n",
            "  (4759, 14051)\t0.20084315377640435\n",
            "  (4759, 5690)\t0.19534291014627303\n",
            "  (4759, 15431)\t0.19628653185946862\n",
            "  (4759, 1490)\t0.21197258705292082\n",
            "  (4759, 10666)\t0.15888268987343043\n"
          ]
        }
      ]
    },
    {
      "cell_type": "markdown",
      "source": [
        "# **Get Simiarity Score using Cosine Similarity**"
      ],
      "metadata": {
        "id": "imYB6Lnjwwdp"
      }
    },
    {
      "cell_type": "code",
      "source": [
        "from sklearn.metrics.pairwise import cosine_similarity"
      ],
      "metadata": {
        "id": "vyJJa4YIwyi0"
      },
      "execution_count": 188,
      "outputs": []
    },
    {
      "cell_type": "code",
      "source": [
        "similarity_score = cosine_similarity(x)"
      ],
      "metadata": {
        "id": "dXbxzUcjxD7a"
      },
      "execution_count": 189,
      "outputs": []
    },
    {
      "cell_type": "code",
      "source": [
        "similarity_score"
      ],
      "metadata": {
        "colab": {
          "base_uri": "https://localhost:8080/"
        },
        "id": "MahF5BcUxIwh",
        "outputId": "00575a8c-1b3a-410a-ef90-4f630a49c89a"
      },
      "execution_count": 190,
      "outputs": [
        {
          "output_type": "execute_result",
          "data": {
            "text/plain": [
              "array([[1.        , 0.01351235, 0.03570468, ..., 0.        , 0.        ,\n",
              "        0.        ],\n",
              "       [0.01351235, 1.        , 0.00806674, ..., 0.        , 0.        ,\n",
              "        0.        ],\n",
              "       [0.03570468, 0.00806674, 1.        , ..., 0.        , 0.08014876,\n",
              "        0.        ],\n",
              "       ...,\n",
              "       [0.        , 0.        , 0.        , ..., 1.        , 0.        ,\n",
              "        0.        ],\n",
              "       [0.        , 0.        , 0.08014876, ..., 0.        , 1.        ,\n",
              "        0.        ],\n",
              "       [0.        , 0.        , 0.        , ..., 0.        , 0.        ,\n",
              "        1.        ]])"
            ]
          },
          "metadata": {},
          "execution_count": 190
        }
      ]
    },
    {
      "cell_type": "code",
      "source": [
        "similarity_score.shape"
      ],
      "metadata": {
        "colab": {
          "base_uri": "https://localhost:8080/"
        },
        "id": "Apc8MBMqxK5_",
        "outputId": "7bd1a9e6-d504-4f86-863c-e381eeb86b0b"
      },
      "execution_count": 191,
      "outputs": [
        {
          "output_type": "execute_result",
          "data": {
            "text/plain": [
              "(4760, 4760)"
            ]
          },
          "metadata": {},
          "execution_count": 191
        }
      ]
    },
    {
      "cell_type": "markdown",
      "source": [
        "# **Get Movie Name form user and validate for closest spelling**"
      ],
      "metadata": {
        "id": "SxZnSjrKxRVW"
      }
    },
    {
      "cell_type": "code",
      "source": [
        "movie_name = input(\"Enter the Movie Name: \")"
      ],
      "metadata": {
        "colab": {
          "base_uri": "https://localhost:8080/"
        },
        "id": "mzuMdl5CxRgg",
        "outputId": "36db990a-3aff-4047-b09f-315caacd8d1d"
      },
      "execution_count": 192,
      "outputs": [
        {
          "name": "stdout",
          "output_type": "stream",
          "text": [
            "Enter the Movie Name: Avengers\n"
          ]
        }
      ]
    },
    {
      "cell_type": "code",
      "source": [
        "all_movies_title_list = df['Movie_Title'].tolist()"
      ],
      "metadata": {
        "id": "9fWEWum-xhmE"
      },
      "execution_count": 193,
      "outputs": []
    },
    {
      "cell_type": "code",
      "source": [
        "import difflib"
      ],
      "metadata": {
        "id": "zC5MmBfPxxME"
      },
      "execution_count": 194,
      "outputs": []
    },
    {
      "cell_type": "code",
      "source": [
        "movie_recommendation =difflib.get_close_matches(movie_name, all_movies_title_list)\n",
        "print(movie_recommendation)"
      ],
      "metadata": {
        "colab": {
          "base_uri": "https://localhost:8080/"
        },
        "id": "BpotPIKLx7VB",
        "outputId": "892575b1-2a07-4aa3-ddb4-625853f6843f"
      },
      "execution_count": 195,
      "outputs": [
        {
          "output_type": "stream",
          "name": "stdout",
          "text": [
            "['The Avengers', 'Swingers']\n"
          ]
        }
      ]
    },
    {
      "cell_type": "code",
      "source": [
        "close_match = movie_recommendation[0]\n",
        "print(close_match)"
      ],
      "metadata": {
        "colab": {
          "base_uri": "https://localhost:8080/"
        },
        "id": "EtG9OkRYyHc4",
        "outputId": "f058dc48-5304-46e9-a1e5-78386504e4df"
      },
      "execution_count": 196,
      "outputs": [
        {
          "output_type": "stream",
          "name": "stdout",
          "text": [
            "The Avengers\n"
          ]
        }
      ]
    },
    {
      "cell_type": "code",
      "source": [
        "\n",
        "index_of_close_match_movie = df[df.Movie_Title == close_match]['Movie_ID'].values[0]\n",
        "print(index_of_close_match_movie)"
      ],
      "metadata": {
        "colab": {
          "base_uri": "https://localhost:8080/"
        },
        "id": "5TFVYzDryVUx",
        "outputId": "492e7e68-f5a4-4fb5-a732-7fe7be7d55f3"
      },
      "execution_count": 197,
      "outputs": [
        {
          "output_type": "stream",
          "name": "stdout",
          "text": [
            "2851\n"
          ]
        }
      ]
    },
    {
      "cell_type": "code",
      "source": [
        "\n",
        "# Getting list of Similar Movies\n",
        "recommendation_score = list(enumerate(similarity_score[index_of_close_match_movie]))\n",
        "print(recommendation_score)"
      ],
      "metadata": {
        "colab": {
          "base_uri": "https://localhost:8080/"
        },
        "id": "pm4ObMXny0Yd",
        "outputId": "cb55e0ed-6c5b-4103-88ff-843afc8c5090"
      },
      "execution_count": 198,
      "outputs": [
        {
          "output_type": "stream",
          "name": "stdout",
          "text": [
            "[(0, 0.0), (1, 0.0), (2, 0.029175928462707112), (3, 0.0), (4, 0.0), (5, 0.010646595509281006), (6, 0.0), (7, 0.0), (8, 0.0), (9, 0.009823178934154868), (10, 0.0), (11, 0.010992268650837975), (12, 0.0), (13, 0.0), (14, 0.04494381396830523), (15, 0.0), (16, 0.0), (17, 0.0), (18, 0.023044349700439632), (19, 0.050618671871964754), (20, 0.0), (21, 0.0), (22, 0.0), (23, 0.0), (24, 0.0), (25, 0.008780727050744543), (26, 0.0), (27, 0.0), (28, 0.0), (29, 0.0), (30, 0.023446610183816732), (31, 0.0), (32, 0.0), (33, 0.0), (34, 0.029585177768751914), (35, 0.0), (36, 0.0), (37, 0.0), (38, 0.0), (39, 0.0), (40, 0.0), (41, 0.0), (42, 0.010857719260326703), (43, 0.0), (44, 0.0), (45, 0.04562444507958086), (46, 0.0), (47, 0.0), (48, 0.0), (49, 0.010289021218276516), (50, 0.0), (51, 0.0), (52, 0.032396908362410826), (53, 0.010172269271289617), (54, 0.010780037242209533), (55, 0.0), (56, 0.0), (57, 0.0), (58, 0.017901621792190264), (59, 0.0), (60, 0.0), (61, 0.0), (62, 0.0), (63, 0.0), (64, 0.032045216917798866), (65, 0.0238319107610025), (66, 0.010594305835588087), (67, 0.02179236876771161), (68, 0.0), (69, 0.02638760812366272), (70, 0.025449325571834606), (71, 0.0), (72, 0.0), (73, 0.009293760918439302), (74, 0.0), (75, 0.029100786809105543), (76, 0.008661275824831786), (77, 0.0), (78, 0.04040250581055551), (79, 0.0), (80, 0.022020133190469186), (81, 0.0), (82, 0.020979338422468036), (83, 0.0), (84, 0.0), (85, 0.0), (86, 0.0), (87, 0.0), (88, 0.0), (89, 0.0), (90, 0.03505853495205413), (91, 0.00950355561688598), (92, 0.0), (93, 0.03433858882946302), (94, 0.03292366621780032), (95, 0.03687942591086447), (96, 0.0), (97, 0.0), (98, 0.0), (99, 0.0), (100, 0.0), (101, 0.0), (102, 0.0), (103, 0.0), (104, 0.0), (105, 0.03794607054019646), (106, 0.008171276003650748), (107, 0.0), (108, 0.01655437908018826), (109, 0.0), (110, 0.0), (111, 0.009860757214361632), (112, 0.0), (113, 0.022734185125095095), (114, 0.0), (115, 0.05305071577089131), (116, 0.09906297631171815), (117, 0.010572193402650473), (118, 0.0), (119, 0.0), (120, 0.01107117595746021), (121, 0.0), (122, 0.0), (123, 0.0), (124, 0.009692704194685627), (125, 0.0), (126, 0.02892057963059834), (127, 0.0), (128, 0.0), (129, 0.0), (130, 0.0), (131, 0.010754491801617902), (132, 0.0), (133, 0.0), (134, 0.0), (135, 0.0), (136, 0.0), (137, 0.03488423050429526), (138, 0.0), (139, 0.0), (140, 0.0), (141, 0.0), (142, 0.0), (143, 0.0), (144, 0.0), (145, 0.0), (146, 0.05931315818512499), (147, 0.0), (148, 0.0), (149, 0.019214260270103718), (150, 0.0), (151, 0.0), (152, 0.07151425920740774), (153, 0.012616885610326244), (154, 0.11066168627636311), (155, 0.023763232689850804), (156, 0.02309671512649123), (157, 0.0), (158, 0.0), (159, 0.0), (160, 0.0), (161, 0.009541333088119146), (162, 0.0), (163, 0.0), (164, 0.0), (165, 0.0), (166, 0.0), (167, 0.0), (168, 0.0), (169, 0.0), (170, 0.0), (171, 0.0), (172, 0.0), (173, 0.025187163812811095), (174, 0.0), (175, 0.0), (176, 0.0), (177, 0.00915129506827343), (178, 0.024476869243771987), (179, 0.033418340615818186), (180, 0.0), (181, 0.0), (182, 0.0), (183, 0.03795673913553395), (184, 0.0), (185, 0.010148756953568483), (186, 0.0), (187, 0.0), (188, 0.010664806254159121), (189, 0.0), (190, 0.0), (191, 0.009470969073743502), (192, 0.025165780182783096), (193, 0.011223153765605781), (194, 0.0), (195, 0.017844520477399477), (196, 0.01783196006138066), (197, 0.0), (198, 0.051497074703965987), (199, 0.009788230012289947), (200, 0.0), (201, 0.0), (202, 0.02510589146045194), (203, 0.0), (204, 0.011089784233832696), (205, 0.011240161388161547), (206, 0.03251534789875357), (207, 0.0), (208, 0.0), (209, 0.0), (210, 0.0), (211, 0.0), (212, 0.0), (213, 0.022367459884113854), (214, 0.0), (215, 0.010428463844947776), (216, 0.0), (217, 0.026046265029116812), (218, 0.0), (219, 0.01092226225193945), (220, 0.0), (221, 0.0), (222, 0.0), (223, 0.0), (224, 0.0), (225, 0.0), (226, 0.0), (227, 0.011344418780064636), (228, 0.0), (229, 0.0), (230, 0.0), (231, 0.0), (232, 0.0), (233, 0.0), (234, 0.0), (235, 0.0), (236, 0.02566980112629491), (237, 0.02810867627991637), (238, 0.0), (239, 0.0), (240, 0.009825275959995551), (241, 0.0), (242, 0.018484820196900054), (243, 0.007473291935356739), (244, 0.0), (245, 0.011011193606337311), (246, 0.029400920734849387), (247, 0.0), (248, 0.0), (249, 0.027927934911526217), (250, 0.0), (251, 0.0), (252, 0.0), (253, 0.0), (254, 0.0), (255, 0.0), (256, 0.0), (257, 0.009372526686106377), (258, 0.0), (259, 0.010554231821431413), (260, 0.0), (261, 0.0), (262, 0.0), (263, 0.0), (264, 0.0), (265, 0.0), (266, 0.021876293076620357), (267, 0.0), (268, 0.0), (269, 0.020621399144193243), (270, 0.011101591218257057), (271, 0.0), (272, 0.0), (273, 0.029745189038692502), (274, 0.0), (275, 0.0), (276, 0.0), (277, 0.04571078230517442), (278, 0.0), (279, 0.0), (280, 0.0), (281, 0.0), (282, 0.0), (283, 0.0), (284, 0.0), (285, 0.0), (286, 0.0), (287, 0.0), (288, 0.00901468361679798), (289, 0.0), (290, 0.0), (291, 0.0), (292, 0.0), (293, 0.0), (294, 0.00845190613554589), (295, 0.0), (296, 0.0), (297, 0.0414363347632596), (298, 0.04091381632591791), (299, 0.039160294023615504), (300, 0.03731413249996142), (301, 0.04143086767481953), (302, 0.04413396033042183), (303, 0.0), (304, 0.0214517015259556), (305, 0.04956038425030481), (306, 0.009780211187989664), (307, 0.0), (308, 0.012004090234153726), (309, 0.008442886971994374), (310, 0.0), (311, 0.0), (312, 0.010809160427977324), (313, 0.0), (314, 0.008898273429404668), (315, 0.010647659105873154), (316, 0.0), (317, 0.009294750255203167), (318, 0.0), (319, 0.0), (320, 0.0), (321, 0.010303010880563216), (322, 0.010452738280752395), (323, 0.0), (324, 0.009783681248125117), (325, 0.010030833818428979), (326, 0.0), (327, 0.0), (328, 0.0), (329, 0.0), (330, 0.007334543562383757), (331, 0.0), (332, 0.0), (333, 0.009441846879550304), (334, 0.009551636323914198), (335, 0.009924213476259734), (336, 0.0), (337, 0.0), (338, 0.009684605522931794), (339, 0.0), (340, 0.04208203989266561), (341, 0.011558614337469896), (342, 0.0), (343, 0.0), (344, 0.06377403422749126), (345, 0.03795989124336799), (346, 0.02133375438775845), (347, 0.0), (348, 0.0), (349, 0.0), (350, 0.0), (351, 0.008190052609269608), (352, 0.0), (353, 0.0), (354, 0.0), (355, 0.0), (356, 0.0), (357, 0.018320184868095463), (358, 0.0), (359, 0.0), (360, 0.010072303326474047), (361, 0.01139525410914724), (362, 0.011852226280459616), (363, 0.011730266953565936), (364, 0.0), (365, 0.04595994277038081), (366, 0.008656605278025491), (367, 0.0), (368, 0.0), (369, 0.0), (370, 0.0), (371, 0.0), (372, 0.0), (373, 0.0), (374, 0.023710967708354964), (375, 0.0), (376, 0.0), (377, 0.0), (378, 0.02336748917578841), (379, 0.0), (380, 0.027608496209710252), (381, 0.0), (382, 0.0), (383, 0.009567319687214975), (384, 0.03595524339533705), (385, 0.011750887542257973), (386, 0.025024455198869127), (387, 0.0), (388, 0.0), (389, 0.0), (390, 0.0), (391, 0.013748582019945917), (392, 0.036118999154052686), (393, 0.024200855491675905), (394, 0.00907161192564103), (395, 0.0), (396, 0.0), (397, 0.0), (398, 0.0), (399, 0.17410875104127688), (400, 0.0), (401, 0.010879958738854735), (402, 0.0), (403, 0.020369611491113434), (404, 0.02083534660789919), (405, 0.05153614591508854), (406, 0.0), (407, 0.008613309965203673), (408, 0.025265109024014538), (409, 0.009883200169247545), (410, 0.03983690467731425), (411, 0.0), (412, 0.0), (413, 0.011462982605457866), (414, 0.020067382264588627), (415, 0.0), (416, 0.0), (417, 0.0), (418, 0.0), (419, 0.0), (420, 0.0), (421, 0.026888577374498658), (422, 0.0), (423, 0.010654622554921537), (424, 0.031029350568155367), (425, 0.0), (426, 0.0), (427, 0.0), (428, 0.0), (429, 0.0), (430, 0.0385884018389282), (431, 0.0), (432, 0.0), (433, 0.008683015008079002), (434, 0.0), (435, 0.03835441969241245), (436, 0.0), (437, 0.01018592830293466), (438, 0.0), (439, 0.010552541167416742), (440, 0.0), (441, 0.0), (442, 0.0), (443, 0.0269123938930157), (444, 0.0), (445, 0.009087188706455954), (446, 0.0), (447, 0.011022317808904262), (448, 0.0), (449, 0.0), (450, 0.0), (451, 0.03842638571149154), (452, 0.0), (453, 0.017792153122839653), (454, 0.0), (455, 0.0), (456, 0.011246458266140562), (457, 0.009852583304666873), (458, 0.0), (459, 0.01051683882204808), (460, 0.0), (461, 0.05516881284845136), (462, 0.0), (463, 0.03545929433494813), (464, 0.010492419431106561), (465, 0.0), (466, 0.010494486883320898), (467, 0.0), (468, 0.0), (469, 0.008772389356909936), (470, 0.01132190878068477), (471, 0.0), (472, 0.01092818637155947), (473, 0.0), (474, 0.0), (475, 0.02226538863012282), (476, 0.0), (477, 0.024450485179820063), (478, 0.0), (479, 0.0), (480, 0.0), (481, 0.0), (482, 0.0), (483, 0.0), (484, 0.0), (485, 0.011375584746048405), (486, 0.010193823407395823), (487, 0.0), (488, 0.0), (489, 0.0), (490, 0.010630009990448655), (491, 0.0), (492, 0.009910593495233077), (493, 0.0), (494, 0.02414268926370648), (495, 0.020579521627277605), (496, 0.0), (497, 0.009552857327027037), (498, 0.03241636754017429), (499, 0.0), (500, 0.0), (501, 0.009532007794350867), (502, 0.0), (503, 0.0), (504, 0.0), (505, 0.0), (506, 0.008602184502649502), (507, 0.0), (508, 0.012343281304204031), (509, 0.024645671249862257), (510, 0.008484988102064385), (511, 0.019444158818116435), (512, 0.0), (513, 0.0), (514, 0.026062078738704145), (515, 0.0), (516, 0.0), (517, 0.011031164767504553), (518, 0.03593450294374758), (519, 0.009478332598459375), (520, 0.029605130116494564), (521, 0.0), (522, 0.07497591548519393), (523, 0.0), (524, 0.03520974505089801), (525, 0.0), (526, 0.0), (527, 0.016996857681019214), (528, 0.021738951487853327), (529, 0.0), (530, 0.0), (531, 0.0), (532, 0.0), (533, 0.0), (534, 0.0), (535, 0.010473882656835985), (536, 0.0), (537, 0.0), (538, 0.0), (539, 0.02614955219685597), (540, 0.024663328170457185), (541, 0.02250586101125704), (542, 0.007443736639826137), (543, 0.0), (544, 0.0), (545, 0.03361101657464163), (546, 0.0559947039353674), (547, 0.0), (548, 0.0), (549, 0.00995986647491334), (550, 0.0), (551, 0.0), (552, 0.0), (553, 0.027209501985607232), (554, 0.0), (555, 0.0), (556, 0.010261024568656282), (557, 0.0), (558, 0.022160680042198705), (559, 0.02072940605855432), (560, 0.0), (561, 0.007827551037533862), (562, 0.03896469007031817), (563, 0.019143558490954716), (564, 0.0), (565, 0.022446401609277883), (566, 0.0), (567, 0.02664936857521156), (568, 0.0), (569, 0.03505744360330243), (570, 0.0), (571, 0.0), (572, 0.0), (573, 0.0), (574, 0.0), (575, 0.0), (576, 0.012101271600221484), (577, 0.009507005364193015), (578, 0.010018396011172933), (579, 0.0), (580, 0.0), (581, 0.0), (582, 0.0), (583, 0.009623090098294184), (584, 0.0), (585, 0.0), (586, 0.0), (587, 0.0), (588, 0.028397456560313523), (589, 0.0), (590, 0.0), (591, 0.0), (592, 0.0), (593, 0.0), (594, 0.0), (595, 0.0), (596, 0.0), (597, 0.03125304519136779), (598, 0.0), (599, 0.0), (600, 0.0), (601, 0.0), (602, 0.0), (603, 0.0), (604, 0.0), (605, 0.0), (606, 0.0), (607, 0.0), (608, 0.0), (609, 0.008422320631609548), (610, 0.028268363504015518), (611, 0.02220872794240013), (612, 0.011270237807791574), (613, 0.0), (614, 0.0), (615, 0.0), (616, 0.0), (617, 0.0), (618, 0.0), (619, 0.0), (620, 0.0), (621, 0.02866783570339636), (622, 0.022558704870030047), (623, 0.0), (624, 0.0), (625, 0.02068125923804787), (626, 0.0), (627, 0.0), (628, 0.0), (629, 0.0), (630, 0.0), (631, 0.0), (632, 0.0), (633, 0.023543630250062304), (634, 0.0), (635, 0.0), (636, 0.0), (637, 0.010992310253610232), (638, 0.009783447396047678), (639, 0.04708468594935202), (640, 0.008886404371139345), (641, 0.007687229107173853), (642, 0.11212844421607168), (643, 0.0), (644, 0.0), (645, 0.008669722906620032), (646, 0.0), (647, 0.0), (648, 0.0), (649, 0.0), (650, 0.0), (651, 0.06518755367989308), (652, 0.05074191073365432), (653, 0.0), (654, 0.0), (655, 0.009912598383684815), (656, 0.03559684034734364), (657, 0.07492743150923914), (658, 0.021558162256276152), (659, 0.009887794147828475), (660, 0.028878566078927272), (661, 0.05127262552338807), (662, 0.020700139002835634), (663, 0.0), (664, 0.0), (665, 0.04910536704400388), (666, 0.0), (667, 0.0), (668, 0.0), (669, 0.0), (670, 0.0), (671, 0.0), (672, 0.0), (673, 0.0), (674, 0.0), (675, 0.0), (676, 0.0), (677, 0.0), (678, 0.03341605792769314), (679, 0.012233556813790935), (680, 0.025558015000293234), (681, 0.0), (682, 0.0), (683, 0.0), (684, 0.0), (685, 0.0), (686, 0.038425106534007505), (687, 0.03154397806286384), (688, 0.011758994035865705), (689, 0.06632705379053425), (690, 0.00987627500937458), (691, 0.05822369584667427), (692, 0.0), (693, 0.0), (694, 0.0), (695, 0.0), (696, 0.010684602102211864), (697, 0.0), (698, 0.0), (699, 0.046492660798666374), (700, 0.011777689713621146), (701, 0.0), (702, 0.009931332677407789), (703, 0.00953554489951609), (704, 0.0), (705, 0.0), (706, 0.008526348587498329), (707, 0.0), (708, 0.0), (709, 0.017777408942848846), (710, 0.009861368461899505), (711, 0.0), (712, 0.0424718569765544), (713, 0.020326276365212538), (714, 0.0), (715, 0.011845855326040326), (716, 0.0), (717, 0.011194689671375437), (718, 0.0), (719, 0.008527873984507432), (720, 0.010324506417439509), (721, 0.0), (722, 0.0), (723, 0.024068797305577046), (724, 0.03452750866698541), (725, 0.009131941392533151), (726, 0.026727612671392086), (727, 0.0), (728, 0.0), (729, 0.0), (730, 0.01105341483240556), (731, 0.0), (732, 0.0), (733, 0.00918439619857884), (734, 0.0), (735, 0.0), (736, 0.0), (737, 0.0), (738, 0.01748926806970713), (739, 0.0), (740, 0.007120982859398179), (741, 0.026250979000265833), (742, 0.025119312980995186), (743, 0.010907895280234628), (744, 0.0), (745, 0.00992524434862027), (746, 0.026095490118438404), (747, 0.026793688005532192), (748, 0.03016957604588359), (749, 0.028448823505768488), (750, 0.0), (751, 0.0), (752, 0.06314685171733359), (753, 0.01230494927220816), (754, 0.0), (755, 0.0), (756, 0.024276437084841125), (757, 0.0220832964198768), (758, 0.052079351650178254), (759, 0.0), (760, 0.0), (761, 0.04961589715859653), (762, 0.0), (763, 0.0), (764, 0.0), (765, 0.0), (766, 0.0), (767, 0.010069439206606834), (768, 0.0), (769, 0.0), (770, 0.0), (771, 0.057579525643847294), (772, 0.029405904475128017), (773, 0.010384689751906392), (774, 0.0), (775, 0.0), (776, 0.0), (777, 0.0), (778, 0.0), (779, 0.0), (780, 0.0), (781, 0.03366324594634721), (782, 0.0), (783, 0.0), (784, 0.0), (785, 0.0412916850152569), (786, 0.008890644610808822), (787, 0.006492893832212491), (788, 0.061061685642643374), (789, 0.0), (790, 0.0), (791, 0.059057359976277424), (792, 0.030243618800757897), (793, 0.0), (794, 0.011601169165850071), (795, 0.028404782552778042), (796, 0.02544813178420062), (797, 0.011078275453962975), (798, 0.0), (799, 0.0), (800, 0.0), (801, 0.05677093963674538), (802, 0.011614800654102633), (803, 0.0), (804, 0.08530881066860195), (805, 0.0), (806, 0.0109544387346589), (807, 0.12223784054880153), (808, 0.0), (809, 0.010897709776964344), (810, 0.009917499992357734), (811, 0.0), (812, 0.0), (813, 0.0), (814, 0.01090417565664971), (815, 0.0), (816, 0.02250145636487531), (817, 0.0), (818, 0.0), (819, 0.0), (820, 0.02993002975149429), (821, 0.0), (822, 0.010659925374423033), (823, 0.0), (824, 0.014867367736602334), (825, 0.0), (826, 0.0), (827, 0.0321437169551834), (828, 0.0), (829, 0.009751254960008227), (830, 0.0), (831, 0.01642610382573057), (832, 0.0), (833, 0.0), (834, 0.0), (835, 0.0), (836, 0.0335555043009138), (837, 0.0), (838, 0.0), (839, 0.0), (840, 0.0), (841, 0.0), (842, 0.03267523324984089), (843, 0.0), (844, 0.0), (845, 0.011112935812347732), (846, 0.01086930807200482), (847, 0.0), (848, 0.02867346453907508), (849, 0.0), (850, 0.0), (851, 0.0), (852, 0.0), (853, 0.05578005602599034), (854, 0.010130471797145796), (855, 0.0), (856, 0.0), (857, 0.0), (858, 0.0), (859, 0.04631400724884957), (860, 0.0415394337581797), (861, 0.0), (862, 0.0), (863, 0.0), (864, 0.0), (865, 0.010899478865803992), (866, 0.0), (867, 0.0), (868, 0.0), (869, 0.0), (870, 0.0), (871, 0.0), (872, 0.025728035085338108), (873, 0.0), (874, 0.0), (875, 0.0), (876, 0.03245236382500684), (877, 0.02273694956723895), (878, 0.0), (879, 0.07044284644084575), (880, 0.0), (881, 0.0), (882, 0.0), (883, 0.0), (884, 0.0), (885, 0.0), (886, 0.0), (887, 0.0), (888, 0.0), (889, 0.0), (890, 0.0), (891, 0.011181528907454346), (892, 0.009195999975651016), (893, 0.0), (894, 0.03356455707033992), (895, 0.009889571253732484), (896, 0.011596125010020344), (897, 0.0), (898, 0.00956242609028477), (899, 0.0), (900, 0.0), (901, 0.0), (902, 0.0), (903, 0.0), (904, 0.0), (905, 0.03091246547936565), (906, 0.0), (907, 0.0), (908, 0.010844190068642555), (909, 0.010849813717797583), (910, 0.0), (911, 0.0), (912, 0.018773704919026128), (913, 0.0), (914, 0.0), (915, 0.0), (916, 0.0), (917, 0.0), (918, 0.010985180465622777), (919, 0.0), (920, 0.01959955010939265), (921, 0.02236653608470526), (922, 0.0), (923, 0.0), (924, 0.0), (925, 0.0), (926, 0.008279219709093823), (927, 0.0), (928, 0.0), (929, 0.007657294682983602), (930, 0.0), (931, 0.03474324981806217), (932, 0.027400831739073074), (933, 0.0), (934, 0.0), (935, 0.022353141170091736), (936, 0.0), (937, 0.0), (938, 0.06513791145091584), (939, 0.03521746447174212), (940, 0.007512878561188992), (941, 0.0), (942, 0.0), (943, 0.0), (944, 0.0), (945, 0.0), (946, 0.021245856512859575), (947, 0.0), (948, 0.0), (949, 0.0), (950, 0.0), (951, 0.0), (952, 0.0), (953, 0.06827462694148134), (954, 0.0), (955, 0.0), (956, 0.01163004396901723), (957, 0.009802221001197431), (958, 0.0), (959, 0.0), (960, 0.0), (961, 0.03875502694326366), (962, 0.0), (963, 0.0), (964, 0.0255530964375422), (965, 0.02397981676360243), (966, 0.0), (967, 0.0), (968, 0.0), (969, 0.0), (970, 0.0), (971, 0.03938248303893871), (972, 0.0), (973, 0.0), (974, 0.02501589275829629), (975, 0.0), (976, 0.0), (977, 0.08062518389368711), (978, 0.009818366685491171), (979, 0.0), (980, 0.024838077536242956), (981, 0.034445602168361), (982, 0.0), (983, 0.0), (984, 0.03639419759989031), (985, 0.02661668197627245), (986, 0.0), (987, 0.011010040798740708), (988, 0.0), (989, 0.022885668470669716), (990, 0.0), (991, 0.0), (992, 0.0), (993, 0.0), (994, 0.0), (995, 0.0), (996, 0.0), (997, 0.0), (998, 0.0), (999, 0.0), (1000, 0.0), (1001, 0.029213921344324382), (1002, 0.026341087952413373), (1003, 0.0), (1004, 0.025483881812362507), (1005, 0.0), (1006, 0.0), (1007, 0.07752555007288339), (1008, 0.009198587432745875), (1009, 0.03958156109068076), (1010, 0.0), (1011, 0.012123399399684792), (1012, 0.0), (1013, 0.011342846478712107), (1014, 0.024874109556957364), (1015, 0.025978323275507337), (1016, 0.009642517811390887), (1017, 0.0537429321289547), (1018, 0.0), (1019, 0.0), (1020, 0.0), (1021, 0.0), (1022, 0.0), (1023, 0.0), (1024, 0.0), (1025, 0.03098219875097931), (1026, 0.010416237914885985), (1027, 0.0), (1028, 0.0), (1029, 0.0), (1030, 0.0), (1031, 0.0), (1032, 0.0), (1033, 0.0), (1034, 0.010165526895769605), (1035, 0.01031222096862423), (1036, 0.010011531354434729), (1037, 0.0), (1038, 0.0), (1039, 0.0), (1040, 0.0), (1041, 0.009964044010816728), (1042, 0.008865487183981748), (1043, 0.0), (1044, 0.010282987248430195), (1045, 0.0), (1046, 0.0), (1047, 0.0), (1048, 0.0), (1049, 0.0), (1050, 0.0), (1051, 0.0), (1052, 0.0), (1053, 0.0), (1054, 0.0), (1055, 0.0), (1056, 0.0), (1057, 0.0), (1058, 0.0), (1059, 0.0), (1060, 0.0), (1061, 0.009556353296580802), (1062, 0.06345185419687611), (1063, 0.0), (1064, 0.0), (1065, 0.0), (1066, 0.0), (1067, 0.02047705613572419), (1068, 0.0), (1069, 0.0), (1070, 0.0), (1071, 0.0), (1072, 0.0), (1073, 0.02284797835679704), (1074, 0.030746372322783953), (1075, 0.0), (1076, 0.010232254063395327), (1077, 0.0), (1078, 0.0), (1079, 0.07592250506817766), (1080, 0.02460173033822092), (1081, 0.0), (1082, 0.02285191083093941), (1083, 0.0), (1084, 0.020920112568383387), (1085, 0.010943729453058614), (1086, 0.057320401676414855), (1087, 0.0), (1088, 0.009176603200898376), (1089, 0.029379817377955326), (1090, 0.009312631177113541), (1091, 0.0), (1092, 0.0), (1093, 0.0), (1094, 0.0), (1095, 0.0), (1096, 0.0), (1097, 0.0), (1098, 0.022543774447118976), (1099, 0.0), (1100, 0.0), (1101, 0.04730058092878188), (1102, 0.0), (1103, 0.028795909674425354), (1104, 0.0), (1105, 0.0), (1106, 0.0), (1107, 0.02645310342956219), (1108, 0.0), (1109, 0.0), (1110, 0.026861861180247068), (1111, 0.0), (1112, 0.0), (1113, 0.0), (1114, 0.009887502131265793), (1115, 0.0), (1116, 0.02261794799034347), (1117, 0.0), (1118, 0.010199202827699259), (1119, 0.01133329206703859), (1120, 0.0), (1121, 0.0), (1122, 0.06264201091869498), (1123, 0.0), (1124, 0.02833242925576704), (1125, 0.0), (1126, 0.0), (1127, 0.0), (1128, 0.0), (1129, 0.0), (1130, 0.036586999150082504), (1131, 0.0), (1132, 0.0228395203087021), (1133, 0.0), (1134, 0.0), (1135, 0.0), (1136, 0.04349104264383766), (1137, 0.00871526194819286), (1138, 0.03626671774826208), (1139, 0.0), (1140, 0.011365752833038752), (1141, 0.011472069267293033), (1142, 0.03924140297925272), (1143, 0.0), (1144, 0.00855856556893086), (1145, 0.0), (1146, 0.0), (1147, 0.0), (1148, 0.0321013064092311), (1149, 0.0), (1150, 0.0), (1151, 0.0), (1152, 0.022280422285351938), (1153, 0.0), (1154, 0.0), (1155, 0.011133777376115057), (1156, 0.0), (1157, 0.060471991839229626), (1158, 0.0), (1159, 0.0), (1160, 0.0), (1161, 0.0), (1162, 0.0), (1163, 0.0), (1164, 0.0), (1165, 0.011119742290404732), (1166, 0.03818234013167008), (1167, 0.0), (1168, 0.012890758315676173), (1169, 0.0), (1170, 0.0), (1171, 0.0), (1172, 0.0), (1173, 0.02418312055143741), (1174, 0.0), (1175, 0.03618174712578496), (1176, 0.0), (1177, 0.0), (1178, 0.0), (1179, 0.0), (1180, 0.009887383173192588), (1181, 0.0), (1182, 0.010952489533813685), (1183, 0.0), (1184, 0.0), (1185, 0.0), (1186, 0.009320625519261442), (1187, 0.0), (1188, 0.0), (1189, 0.0), (1190, 0.0), (1191, 0.010656875858709652), (1192, 0.0), (1193, 0.0), (1194, 0.0), (1195, 0.011127495915942004), (1196, 0.010664810194928083), (1197, 0.009759882241774051), (1198, 0.03876972341845705), (1199, 0.0), (1200, 0.0), (1201, 0.030264206980792095), (1202, 0.0), (1203, 0.05932079225125956), (1204, 0.010891598937086498), (1205, 0.0), (1206, 0.038689246210702466), (1207, 0.03236981662269687), (1208, 0.0), (1209, 0.0), (1210, 0.0), (1211, 0.022771977106605036), (1212, 0.0), (1213, 0.03887305682579215), (1214, 0.0), (1215, 0.009086061442490398), (1216, 0.0), (1217, 0.041838939556364516), (1218, 0.0), (1219, 0.009522772630943368), (1220, 0.0), (1221, 0.01765013578859621), (1222, 0.008999101070080359), (1223, 0.010656069043513954), (1224, 0.0), (1225, 0.011198229990833008), (1226, 0.0), (1227, 0.07356617642803143), (1228, 0.0), (1229, 0.011082017642246353), (1230, 0.02306714153239065), (1231, 0.0), (1232, 0.0905963650265361), (1233, 0.01112207933926944), (1234, 0.0), (1235, 0.010425723791444208), (1236, 0.0), (1237, 0.0), (1238, 0.02386854484980193), (1239, 0.0), (1240, 0.0), (1241, 0.0), (1242, 0.0), (1243, 0.05829426960405321), (1244, 0.0), (1245, 0.0693856658527156), (1246, 0.011596912011459308), (1247, 0.026395300705692838), (1248, 0.0), (1249, 0.04157324707039997), (1250, 0.05269366658645202), (1251, 0.009499246207013553), (1252, 0.0), (1253, 0.0), (1254, 0.0), (1255, 0.03547657486567435), (1256, 0.03612552769407745), (1257, 0.010460125202684363), (1258, 0.0), (1259, 0.0), (1260, 0.0), (1261, 0.02967746150147169), (1262, 0.0), (1263, 0.0), (1264, 0.0), (1265, 0.0), (1266, 0.0), (1267, 0.0), (1268, 0.008594004181073497), (1269, 0.0), (1270, 0.050300440637838846), (1271, 0.0), (1272, 0.02692642795823511), (1273, 0.027058994093436473), (1274, 0.0), (1275, 0.0), (1276, 0.0), (1277, 0.0), (1278, 0.0), (1279, 0.048117327328605554), (1280, 0.0), (1281, 0.0), (1282, 0.0), (1283, 0.0), (1284, 0.010333198141621792), (1285, 0.02722022639526079), (1286, 0.0), (1287, 0.0), (1288, 0.0), (1289, 0.0), (1290, 0.07347756405040416), (1291, 0.03525777917962159), (1292, 0.05406027982933538), (1293, 0.0), (1294, 0.07559755302321516), (1295, 0.0), (1296, 0.008724492744021001), (1297, 0.02405249661790042), (1298, 0.021350819592882063), (1299, 0.0), (1300, 0.038374044580507714), (1301, 0.0), (1302, 0.0), (1303, 0.0), (1304, 0.010618538905018607), (1305, 0.0), (1306, 0.030952746962294813), (1307, 0.01010217896769685), (1308, 0.019587686371599907), (1309, 0.009084881729596279), (1310, 0.009688775748770301), (1311, 0.0), (1312, 0.032288467577200844), (1313, 0.0), (1314, 0.0), (1315, 0.0), (1316, 0.0), (1317, 0.008600559136950712), (1318, 0.033299332611876516), (1319, 0.0), (1320, 0.0), (1321, 0.02677883556495663), (1322, 0.0), (1323, 0.0), (1324, 0.0), (1325, 0.0), (1326, 0.0), (1327, 0.010208078710638458), (1328, 0.011320337590554811), (1329, 0.0), (1330, 0.0104202370593456), (1331, 0.0), (1332, 0.0), (1333, 0.011447583466934655), (1334, 0.0), (1335, 0.03864208747381955), (1336, 0.01127161702737108), (1337, 0.0), (1338, 0.0), (1339, 0.02473181899935166), (1340, 0.0), (1341, 0.0), (1342, 0.02006824727233858), (1343, 0.0), (1344, 0.07136217508011111), (1345, 0.0), (1346, 0.0), (1347, 0.023212853825864525), (1348, 0.0), (1349, 0.0), (1350, 0.0), (1351, 0.02555147623535331), (1352, 0.0), (1353, 0.034716618321715825), (1354, 0.01958449518287621), (1355, 0.0), (1356, 0.0), (1357, 0.009782234064619613), (1358, 0.010579840234688432), (1359, 0.0), (1360, 0.0), (1361, 0.010904441497013409), (1362, 0.03971656600958567), (1363, 0.0), (1364, 0.0), (1365, 0.008963768020106217), (1366, 0.0), (1367, 0.0), (1368, 0.039931912917447875), (1369, 0.0), (1370, 0.0092561149500458), (1371, 0.0), (1372, 0.0), (1373, 0.010399937293695795), (1374, 0.0), (1375, 0.0), (1376, 0.0), (1377, 0.0), (1378, 0.0), (1379, 0.03856872749106942), (1380, 0.0), (1381, 0.0), (1382, 0.01095664956810064), (1383, 0.0), (1384, 0.00944747838444994), (1385, 0.0), (1386, 0.0), (1387, 0.009582621659431023), (1388, 0.026839101399780296), (1389, 0.0226083161985703), (1390, 0.029401409469867686), (1391, 0.0), (1392, 0.0), (1393, 0.0841774318664957), (1394, 0.009510875044321365), (1395, 0.0), (1396, 0.0), (1397, 0.0), (1398, 0.0), (1399, 0.0), (1400, 0.0), (1401, 0.0), (1402, 0.011131014542596792), (1403, 0.0), (1404, 0.0), (1405, 0.009332177711908763), (1406, 0.0), (1407, 0.024726823933099645), (1408, 0.0), (1409, 0.0), (1410, 0.0), (1411, 0.010489413551943069), (1412, 0.010103544266932461), (1413, 0.0), (1414, 0.0), (1415, 0.0), (1416, 0.010143844986993193), (1417, 0.0), (1418, 0.0), (1419, 0.026754585097452623), (1420, 0.0), (1421, 0.010233233895257555), (1422, 0.026608207421042317), (1423, 0.009527113337454823), (1424, 0.0), (1425, 0.02171905374298871), (1426, 0.0), (1427, 0.0), (1428, 0.020124750176292786), (1429, 0.0), (1430, 0.0), (1431, 0.010869603197815589), (1432, 0.0), (1433, 0.06281686589141844), (1434, 0.0), (1435, 0.06157045126623419), (1436, 0.07791717748930932), (1437, 0.0), (1438, 0.0), (1439, 0.0), (1440, 0.0), (1441, 0.029460272709414582), (1442, 0.0), (1443, 0.07597714938736795), (1444, 0.0), (1445, 0.0), (1446, 0.0), (1447, 0.0), (1448, 0.0), (1449, 0.0), (1450, 0.0), (1451, 0.01008341822864306), (1452, 0.0), (1453, 0.0), (1454, 0.030016455518758235), (1455, 0.0), (1456, 0.009852731288408823), (1457, 0.009885500253837531), (1458, 0.0), (1459, 0.01044859322929141), (1460, 0.011884084091047905), (1461, 0.010733784909931198), (1462, 0.0), (1463, 0.020584681461695984), (1464, 0.02264609633284395), (1465, 0.0), (1466, 0.012514358403508641), (1467, 0.0), (1468, 0.06527440220559977), (1469, 0.0), (1470, 0.0), (1471, 0.0), (1472, 0.010738423825092993), (1473, 0.0), (1474, 0.05195414262466788), (1475, 0.0), (1476, 0.03844156794410807), (1477, 0.009901415883289562), (1478, 0.0), (1479, 0.02930916991247024), (1480, 0.009866437996504404), (1481, 0.025863952611128734), (1482, 0.018661597402599664), (1483, 0.0), (1484, 0.0), (1485, 0.020992500942447898), (1486, 0.033756894727493866), (1487, 0.03223849503813242), (1488, 0.0), (1489, 0.03807295349351484), (1490, 0.10028616556773204), (1491, 0.0), (1492, 0.009186129780851477), (1493, 0.0), (1494, 0.027529524556522113), (1495, 0.010921459900968166), (1496, 0.020174993085331532), (1497, 0.0), (1498, 0.0), (1499, 0.04013354588027262), (1500, 0.027001655107194218), (1501, 0.04883071391449216), (1502, 0.0), (1503, 0.0), (1504, 0.0), (1505, 0.010765955665183865), (1506, 0.007269298418549315), (1507, 0.0), (1508, 0.0), (1509, 0.016417688529891793), (1510, 0.028702868755618796), (1511, 0.0), (1512, 0.0), (1513, 0.04311305827658263), (1514, 0.0), (1515, 0.0), (1516, 0.02814426949427212), (1517, 0.10762660423517009), (1518, 0.011432382390174054), (1519, 0.0), (1520, 0.01152369094443354), (1521, 0.03235086859718974), (1522, 0.01084018865098392), (1523, 0.018239786698130124), (1524, 0.02927518811784919), (1525, 0.011006484019061175), (1526, 0.0), (1527, 0.0), (1528, 0.05022092260825693), (1529, 0.019601981245049614), (1530, 0.0), (1531, 0.011342416107045644), (1532, 0.0), (1533, 0.0), (1534, 0.01104730171904967), (1535, 0.0), (1536, 0.0), (1537, 0.03435095274949146), (1538, 0.0), (1539, 0.009572166165015005), (1540, 0.0), (1541, 0.010474709662717728), (1542, 0.028294240006753128), (1543, 0.009779764827680481), (1544, 0.0), (1545, 0.0230454880563766), (1546, 0.018263714443796597), (1547, 0.0), (1548, 0.0), (1549, 0.0), (1550, 0.022943632930214383), (1551, 0.0), (1552, 0.010263622026387852), (1553, 0.0), (1554, 0.0116871551608199), (1555, 0.056175301226061736), (1556, 0.0), (1557, 0.02193830045861183), (1558, 0.0), (1559, 0.04445050174501565), (1560, 0.0), (1561, 0.01020303069708797), (1562, 0.0), (1563, 0.0), (1564, 0.0), (1565, 0.0), (1566, 0.0), (1567, 0.0), (1568, 0.024938587628975117), (1569, 0.0), (1570, 0.0), (1571, 0.031632881680470085), (1572, 0.0), (1573, 0.0), (1574, 0.0), (1575, 0.024913215508204505), (1576, 0.0), (1577, 0.0), (1578, 0.022612481005340485), (1579, 0.025687651448326052), (1580, 0.0), (1581, 0.03219932649492144), (1582, 0.0), (1583, 0.0), (1584, 0.02124922325971069), (1585, 0.0), (1586, 0.0), (1587, 0.035268074350287434), (1588, 0.0), (1589, 0.010398070553457492), (1590, 0.0), (1591, 0.0), (1592, 0.05536100060641516), (1593, 0.0), (1594, 0.026051217095562365), (1595, 0.0), (1596, 0.0), (1597, 0.010225331721521772), (1598, 0.010596882426971741), (1599, 0.0), (1600, 0.011583522155721273), (1601, 0.009528583968200595), (1602, 0.011137804192482384), (1603, 0.0), (1604, 0.010643365835724016), (1605, 0.025685956205956928), (1606, 0.009986283647913976), (1607, 0.01045398448709125), (1608, 0.0), (1609, 0.0), (1610, 0.019766949473943106), (1611, 0.030976928533275164), (1612, 0.0), (1613, 0.04304904603317783), (1614, 0.024891494656747677), (1615, 0.012712412218788837), (1616, 0.0), (1617, 0.0), (1618, 0.026461541705505926), (1619, 0.0), (1620, 0.0), (1621, 0.04362504503063298), (1622, 0.0), (1623, 0.0), (1624, 0.0), (1625, 0.0), (1626, 0.02505022164015643), (1627, 0.0), (1628, 0.0), (1629, 0.0), (1630, 0.0), (1631, 0.0), (1632, 0.0), (1633, 0.0), (1634, 0.03358200240612087), (1635, 0.0), (1636, 0.0), (1637, 0.0), (1638, 0.0), (1639, 0.008986287718418518), (1640, 0.011594375993832926), (1641, 0.0), (1642, 0.0), (1643, 0.0), (1644, 0.0), (1645, 0.05208997562890172), (1646, 0.10845101517900768), (1647, 0.0), (1648, 0.020645786931095006), (1649, 0.009892794624407762), (1650, 0.0), (1651, 0.0), (1652, 0.0), (1653, 0.0), (1654, 0.03564021824375725), (1655, 0.0), (1656, 0.0), (1657, 0.053744660626430095), (1658, 0.0), (1659, 0.0), (1660, 0.0), (1661, 0.0), (1662, 0.0), (1663, 0.010113040354158869), (1664, 0.010166934211641445), (1665, 0.0), (1666, 0.0), (1667, 0.0), (1668, 0.0), (1669, 0.0), (1670, 0.011298570714167167), (1671, 0.0), (1672, 0.0), (1673, 0.03225526429684308), (1674, 0.0), (1675, 0.0), (1676, 0.008571300253122993), (1677, 0.016702480729532766), (1678, 0.021108729681716246), (1679, 0.0), (1680, 0.0), (1681, 0.0), (1682, 0.036642069812848815), (1683, 0.011487299063401058), (1684, 0.00940328079702048), (1685, 0.0), (1686, 0.0), (1687, 0.0), (1688, 0.0), (1689, 0.0), (1690, 0.03457993609512886), (1691, 0.02280140529025697), (1692, 0.026440161321085374), (1693, 0.0), (1694, 0.0), (1695, 0.025872388626154187), (1696, 0.026204286846791026), (1697, 0.011049767521577623), (1698, 0.03225121098450858), (1699, 0.0), (1700, 0.010230681043201401), (1701, 0.0), (1702, 0.0), (1703, 0.0), (1704, 0.01094273715080712), (1705, 0.0), (1706, 0.021544344051180657), (1707, 0.0), (1708, 0.0), (1709, 0.0), (1710, 0.029035588541614688), (1711, 0.013461785103231177), (1712, 0.0), (1713, 0.012189758889238022), (1714, 0.019519710037390677), (1715, 0.0), (1716, 0.0), (1717, 0.0), (1718, 0.0), (1719, 0.0), (1720, 0.010691988900930512), (1721, 0.0), (1722, 0.0), (1723, 0.0), (1724, 0.0), (1725, 0.0), (1726, 0.011015758504527887), (1727, 0.0), (1728, 0.0), (1729, 0.0), (1730, 0.0), (1731, 0.011509036875905937), (1732, 0.0), (1733, 0.0), (1734, 0.0), (1735, 0.0), (1736, 0.0), (1737, 0.01132308510389034), (1738, 0.0), (1739, 0.009544480398201423), (1740, 0.024515455880625828), (1741, 0.0), (1742, 0.0), (1743, 0.0), (1744, 0.02036737538335753), (1745, 0.03195821130923493), (1746, 0.0), (1747, 0.0), (1748, 0.0), (1749, 0.0), (1750, 0.0), (1751, 0.0), (1752, 0.025342779564309907), (1753, 0.0), (1754, 0.0), (1755, 0.010215168014757836), (1756, 0.0), (1757, 0.037691214256481184), (1758, 0.012413343876099879), (1759, 0.02582130088029235), (1760, 0.0), (1761, 0.0), (1762, 0.0), (1763, 0.0), (1764, 0.009201217566839679), (1765, 0.024855807368198975), (1766, 0.011846003597179884), (1767, 0.020394075159361643), (1768, 0.010913723784096102), (1769, 0.010848003751411974), (1770, 0.0), (1771, 0.137217345399716), (1772, 0.0), (1773, 0.0), (1774, 0.0), (1775, 0.0), (1776, 0.0), (1777, 0.021810773126494494), (1778, 0.0), (1779, 0.0), (1780, 0.020773694541672435), (1781, 0.04704616223997471), (1782, 0.06735279022657266), (1783, 0.020088427151418804), (1784, 0.019495553992966742), (1785, 0.0), (1786, 0.0), (1787, 0.03536384836726398), (1788, 0.0), (1789, 0.026254246728420198), (1790, 0.0), (1791, 0.0), (1792, 0.0), (1793, 0.022524709107802174), (1794, 0.028047755088744672), (1795, 0.02499781791756645), (1796, 0.0), (1797, 0.0), (1798, 0.0), (1799, 0.0), (1800, 0.009605718467039647), (1801, 0.0), (1802, 0.0), (1803, 0.03347505607979846), (1804, 0.010767464348908865), (1805, 0.0), (1806, 0.0), (1807, 0.0), (1808, 0.0), (1809, 0.0), (1810, 0.01026312079154729), (1811, 0.0), (1812, 0.0), (1813, 0.0), (1814, 0.021423923881740043), (1815, 0.0), (1816, 0.0), (1817, 0.04176219421454346), (1818, 0.010059040230392707), (1819, 0.0), (1820, 0.00998295453941009), (1821, 0.0), (1822, 0.0), (1823, 0.024724535456278847), (1824, 0.00997793712983026), (1825, 0.0), (1826, 0.0), (1827, 0.009598961786989574), (1828, 0.0), (1829, 0.030092888441397805), (1830, 0.00951178970692732), (1831, 0.0), (1832, 0.0), (1833, 0.024345747765319548), (1834, 0.0), (1835, 0.0), (1836, 0.0), (1837, 0.010629520375014198), (1838, 0.0), (1839, 0.010251489149250368), (1840, 0.019316224034133727), (1841, 0.011165095075418434), (1842, 0.185112154007765), (1843, 0.012175618549920216), (1844, 0.02357140566686714), (1845, 0.008976543008863035), (1846, 0.010340653598498586), (1847, 0.0), (1848, 0.0), (1849, 0.010567978153427152), (1850, 0.027674030861663215), (1851, 0.0), (1852, 0.0), (1853, 0.0), (1854, 0.010249304996010997), (1855, 0.0), (1856, 0.0), (1857, 0.010450066646700826), (1858, 0.0), (1859, 0.0), (1860, 0.0), (1861, 0.05449846300844867), (1862, 0.0), (1863, 0.009271103581132265), (1864, 0.0), (1865, 0.0), (1866, 0.0), (1867, 0.037786376267145906), (1868, 0.0), (1869, 0.027752515105123082), (1870, 0.0), (1871, 0.0), (1872, 0.0), (1873, 0.023290866844745333), (1874, 0.0), (1875, 0.009857829065412738), (1876, 0.0), (1877, 0.0), (1878, 0.020271538712839297), (1879, 0.0), (1880, 0.0), (1881, 0.0), (1882, 0.0), (1883, 0.026550940008752542), (1884, 0.0), (1885, 0.0), (1886, 0.0), (1887, 0.0), (1888, 0.0), (1889, 0.04201810881691457), (1890, 0.030676404663605664), (1891, 0.010522908666940329), (1892, 0.0), (1893, 0.025347603488631486), (1894, 0.0), (1895, 0.07937066753962653), (1896, 0.0), (1897, 0.0), (1898, 0.010037730250234803), (1899, 0.009895792898245243), (1900, 0.0), (1901, 0.0), (1902, 0.011157478579470644), (1903, 0.0), (1904, 0.0), (1905, 0.030997147548774664), (1906, 0.0), (1907, 0.0), (1908, 0.0), (1909, 0.0), (1910, 0.0), (1911, 0.011147863367855159), (1912, 0.0), (1913, 0.021069000950274232), (1914, 0.0), (1915, 0.04617932695314465), (1916, 0.0), (1917, 0.0), (1918, 0.011212418828708078), (1919, 0.007419251165063902), (1920, 0.0), (1921, 0.0), (1922, 0.0), (1923, 0.011788973232169191), (1924, 0.0), (1925, 0.01853299729475021), (1926, 0.0), (1927, 0.0), (1928, 0.0346535019650335), (1929, 0.0), (1930, 0.010730708694191876), (1931, 0.0), (1932, 0.05399791607345919), (1933, 0.0), (1934, 0.0), (1935, 0.025094443563623784), (1936, 0.010971510372123832), (1937, 0.052963407130944246), (1938, 0.0), (1939, 0.0), (1940, 0.04049443187501987), (1941, 0.0), (1942, 0.0), (1943, 0.009343699433619386), (1944, 0.0), (1945, 0.0), (1946, 0.0), (1947, 0.0), (1948, 0.0), (1949, 0.0), (1950, 0.03370775754841456), (1951, 0.1541416167860301), (1952, 0.029427785183702784), (1953, 0.0), (1954, 0.00940306321254693), (1955, 0.011275921520618034), (1956, 0.0), (1957, 0.0), (1958, 0.03262725674677207), (1959, 0.0), (1960, 0.03147937078933478), (1961, 0.011058896242390377), (1962, 0.0), (1963, 0.008588347512848806), (1964, 0.053792327844592515), (1965, 0.0), (1966, 0.0), (1967, 0.0), (1968, 0.012465927441307896), (1969, 0.029580957794258615), (1970, 0.0), (1971, 0.008997264333052521), (1972, 0.0), (1973, 0.050276955419382235), (1974, 0.0), (1975, 0.0), (1976, 0.0), (1977, 0.0), (1978, 0.009460969169802361), (1979, 0.019644556025087936), (1980, 0.0), (1981, 0.017729417879740725), (1982, 0.0), (1983, 0.0), (1984, 0.0), (1985, 0.0), (1986, 0.0), (1987, 0.009743855874280614), (1988, 0.0), (1989, 0.0), (1990, 0.0), (1991, 0.0), (1992, 0.009916905607720301), (1993, 0.0), (1994, 0.0), (1995, 0.0), (1996, 0.0), (1997, 0.0), (1998, 0.02354859074239024), (1999, 0.012126127874980665), (2000, 0.0), (2001, 0.0), (2002, 0.0), (2003, 0.0), (2004, 0.0), (2005, 0.0095448986699595), (2006, 0.00915491474538468), (2007, 0.009689063750751195), (2008, 0.0), (2009, 0.05790778294380407), (2010, 0.0), (2011, 0.0), (2012, 0.0), (2013, 0.008457466566813471), (2014, 0.023142120512178174), (2015, 0.0), (2016, 0.0), (2017, 0.0), (2018, 0.0), (2019, 0.0381177336444702), (2020, 0.0), (2021, 0.0), (2022, 0.06528457714006591), (2023, 0.0), (2024, 0.0), (2025, 0.030800444129422525), (2026, 0.0), (2027, 0.0), (2028, 0.0), (2029, 0.0), (2030, 0.010955161285535066), (2031, 0.0), (2032, 0.0), (2033, 0.021860065727639277), (2034, 0.02791516767817679), (2035, 0.017985100970028305), (2036, 0.0), (2037, 0.0), (2038, 0.0), (2039, 0.019572131389555367), (2040, 0.0), (2041, 0.010886876987389965), (2042, 0.0), (2043, 0.009612445158429565), (2044, 0.02552731407949731), (2045, 0.0), (2046, 0.010721500058325496), (2047, 0.009380112259150622), (2048, 0.0), (2049, 0.011834618537474468), (2050, 0.03571682719911257), (2051, 0.0), (2052, 0.010011322741343752), (2053, 0.0), (2054, 0.011146074702013552), (2055, 0.009729302926188807), (2056, 0.0), (2057, 0.0), (2058, 0.0), (2059, 0.0), (2060, 0.0), (2061, 0.0), (2062, 0.06439512159723507), (2063, 0.0), (2064, 0.0), (2065, 0.0), (2066, 0.0), (2067, 0.0), (2068, 0.0), (2069, 0.0), (2070, 0.032454572200843496), (2071, 0.0), (2072, 0.0), (2073, 0.023713800106888252), (2074, 0.07694054212172785), (2075, 0.0), (2076, 0.0), (2077, 0.0), (2078, 0.008442192248590335), (2079, 0.012117673688960301), (2080, 0.0), (2081, 0.0), (2082, 0.011645797116503006), (2083, 0.0), (2084, 0.0), (2085, 0.02424218916832843), (2086, 0.0362147910934561), (2087, 0.01049947027114836), (2088, 0.0), (2089, 0.03211183693196403), (2090, 0.028521617877468496), (2091, 0.0), (2092, 0.0), (2093, 0.009817333477484378), (2094, 0.029006139139560284), (2095, 0.010367455211811146), (2096, 0.0), (2097, 0.02615200177944928), (2098, 0.0), (2099, 0.010033666684539312), (2100, 0.020529711715356135), (2101, 0.0), (2102, 0.0), (2103, 0.0), (2104, 0.0), (2105, 0.0), (2106, 0.0), (2107, 0.0), (2108, 0.0), (2109, 0.0), (2110, 0.0), (2111, 0.03728435251225247), (2112, 0.01171601047534688), (2113, 0.0), (2114, 0.00893657180975976), (2115, 0.0), (2116, 0.0), (2117, 0.010297042167867065), (2118, 0.006601834442851733), (2119, 0.0), (2120, 0.009891415233543876), (2121, 0.0), (2122, 0.0), (2123, 0.1217615212844581), (2124, 0.0), (2125, 0.009817981726293543), (2126, 0.0), (2127, 0.0), (2128, 0.0), (2129, 0.009835936002972343), (2130, 0.010730145913209144), (2131, 0.010197202677361813), (2132, 0.008868121846657332), (2133, 0.0), (2134, 0.0), (2135, 0.019469415805866214), (2136, 0.0), (2137, 0.0), (2138, 0.0), (2139, 0.0), (2140, 0.09980220997474615), (2141, 0.0), (2142, 0.0), (2143, 0.010148945318723852), (2144, 0.0), (2145, 0.0), (2146, 0.0), (2147, 0.011267133431613724), (2148, 0.0), (2149, 0.0), (2150, 0.04511384037735656), (2151, 0.029475925809117315), (2152, 0.0), (2153, 0.010793557009690447), (2154, 0.013750263571959792), (2155, 0.0), (2156, 0.0), (2157, 0.03217231800905496), (2158, 0.0), (2159, 0.0), (2160, 0.0), (2161, 0.024616592518491173), (2162, 0.02869698096998324), (2163, 0.009471615983583972), (2164, 0.0), (2165, 0.0), (2166, 0.0), (2167, 0.0), (2168, 0.0), (2169, 0.0), (2170, 0.0), (2171, 0.011597031788522106), (2172, 0.0), (2173, 0.0), (2174, 0.0), (2175, 0.0), (2176, 0.011850440115636513), (2177, 0.0), (2178, 0.010324994268005767), (2179, 0.0), (2180, 0.0), (2181, 0.0), (2182, 0.0), (2183, 0.019909272031221736), (2184, 0.0), (2185, 0.04478412790223108), (2186, 0.0), (2187, 0.11536340042575871), (2188, 0.13826961272466123), (2189, 0.0), (2190, 0.02590466068810301), (2191, 0.0), (2192, 0.0), (2193, 0.0), (2194, 0.0), (2195, 0.02320648624085337), (2196, 0.07608256277468568), (2197, 0.0), (2198, 0.010755334697496673), (2199, 0.013973803282574686), (2200, 0.0), (2201, 0.009986082625081567), (2202, 0.0), (2203, 0.009713174366648264), (2204, 0.023166284232428072), (2205, 0.00993611248047757), (2206, 0.0), (2207, 0.03513815501288109), (2208, 0.0112506215367366), (2209, 0.0), (2210, 0.02182892894709089), (2211, 0.0), (2212, 0.0), (2213, 0.0), (2214, 0.0), (2215, 0.0), (2216, 0.02080656282887602), (2217, 0.0), (2218, 0.03038156989330901), (2219, 0.0), (2220, 0.0), (2221, 0.0), (2222, 0.0), (2223, 0.052969549604085446), (2224, 0.025931923537295173), (2225, 0.0), (2226, 0.0), (2227, 0.0), (2228, 0.0), (2229, 0.0), (2230, 0.0), (2231, 0.0), (2232, 0.0), (2233, 0.0), (2234, 0.0), (2235, 0.0), (2236, 0.009741148101012561), (2237, 0.0), (2238, 0.0), (2239, 0.010354417552783263), (2240, 0.009315202585890072), (2241, 0.0), (2242, 0.0), (2243, 0.0), (2244, 0.0), (2245, 0.010252695126336867), (2246, 0.0), (2247, 0.0), (2248, 0.0), (2249, 0.0), (2250, 0.010592098555967112), (2251, 0.0), (2252, 0.0), (2253, 0.0), (2254, 0.0), (2255, 0.0), (2256, 0.0), (2257, 0.01382097255070756), (2258, 0.0), (2259, 0.011159692826185095), (2260, 0.011483565005419352), (2261, 0.012443117204259738), (2262, 0.009671161379602554), (2263, 0.04441930006465303), (2264, 0.009430487596443275), (2265, 0.009745344679164174), (2266, 0.028650140191336857), (2267, 0.012240038198216056), (2268, 0.0), (2269, 0.05267129719859133), (2270, 0.024565524213327593), (2271, 0.010045789341822889), (2272, 0.0), (2273, 0.012528858302151146), (2274, 0.031176302774094618), (2275, 0.01437500118490614), (2276, 0.0), (2277, 0.0), (2278, 0.0), (2279, 0.010342699018527083), (2280, 0.0), (2281, 0.02832465620970933), (2282, 0.0), (2283, 0.011439896030962533), (2284, 0.0), (2285, 0.0), (2286, 0.0), (2287, 0.03776195052807457), (2288, 0.0), (2289, 0.0), (2290, 0.03822404356820633), (2291, 0.0), (2292, 0.0), (2293, 0.0), (2294, 0.0), (2295, 0.0), (2296, 0.009017652573483411), (2297, 0.0), (2298, 0.043668169782395905), (2299, 0.0), (2300, 0.0), (2301, 0.009819690905332818), (2302, 0.0), (2303, 0.022665753298764364), (2304, 0.0), (2305, 0.0), (2306, 0.0), (2307, 0.0), (2308, 0.0), (2309, 0.0), (2310, 0.0), (2311, 0.0), (2312, 0.0), (2313, 0.0), (2314, 0.0), (2315, 0.009784088964325423), (2316, 0.011498351779811223), (2317, 0.009821744320615264), (2318, 0.0), (2319, 0.011151865072818757), (2320, 0.0), (2321, 0.0), (2322, 0.031253806109336334), (2323, 0.00957923793639151), (2324, 0.0), (2325, 0.08332094896568493), (2326, 0.008335223018818172), (2327, 0.019905452976114388), (2328, 0.0), (2329, 0.010529369368937837), (2330, 0.011223227324423907), (2331, 0.02632511521677664), (2332, 0.01106240841523886), (2333, 0.0), (2334, 0.010925739283930865), (2335, 0.010829732083411996), (2336, 0.0), (2337, 0.011365303858024166), (2338, 0.0), (2339, 0.0), (2340, 0.0), (2341, 0.0), (2342, 0.02864802325502308), (2343, 0.0), (2344, 0.0), (2345, 0.0), (2346, 0.0), (2347, 0.0), (2348, 0.0), (2349, 0.03783832658093827), (2350, 0.0), (2351, 0.012813358906515904), (2352, 0.05606554638805408), (2353, 0.0), (2354, 0.0), (2355, 0.0), (2356, 0.0), (2357, 0.040701046827330806), (2358, 0.015468651512105884), (2359, 0.019420621590312007), (2360, 0.0), (2361, 0.0), (2362, 0.0), (2363, 0.0), (2364, 0.008631056325832935), (2365, 0.014594132993360924), (2366, 0.0), (2367, 0.010275721285999264), (2368, 0.0), (2369, 0.0), (2370, 0.0), (2371, 0.04057664907002669), (2372, 0.1286504148742411), (2373, 0.0), (2374, 0.0276961087847224), (2375, 0.042033569454876615), (2376, 0.0), (2377, 0.0540019893201514), (2378, 0.0334598560315377), (2379, 0.015492453916799378), (2380, 0.0), (2381, 0.011968671659810212), (2382, 0.0), (2383, 0.0), (2384, 0.0), (2385, 0.028783454528771336), (2386, 0.0), (2387, 0.023217239350958267), (2388, 0.0), (2389, 0.009575494211316923), (2390, 0.011768132947443848), (2391, 0.01133740140326123), (2392, 0.0), (2393, 0.022784111340258283), (2394, 0.0), (2395, 0.0), (2396, 0.010711487845055281), (2397, 0.038589411520074224), (2398, 0.0), (2399, 0.0), (2400, 0.012006141136678963), (2401, 0.020749244215886496), (2402, 0.00961319038100255), (2403, 0.0), (2404, 0.0), (2405, 0.011040271315307762), (2406, 0.012468621990224638), (2407, 0.0), (2408, 0.010629907798309792), (2409, 0.0), (2410, 0.011644986003023971), (2411, 0.0), (2412, 0.0), (2413, 0.0), (2414, 0.010820914567165097), (2415, 0.03316084663371441), (2416, 0.0), (2417, 0.0), (2418, 0.0), (2419, 0.011278091157830555), (2420, 0.0), (2421, 0.04746641287362904), (2422, 0.0), (2423, 0.013528608430599184), (2424, 0.0), (2425, 0.0), (2426, 0.0), (2427, 0.031743605645072476), (2428, 0.0), (2429, 0.0), (2430, 0.010891368410199194), (2431, 0.03689886036097207), (2432, 0.0), (2433, 0.03429854297088281), (2434, 0.0), (2435, 0.010600386858084402), (2436, 0.0), (2437, 0.0), (2438, 0.0), (2439, 0.0), (2440, 0.04360793576726679), (2441, 0.0), (2442, 0.0), (2443, 0.015281005199007061), (2444, 0.0), (2445, 0.08193010002490628), (2446, 0.02567757892201619), (2447, 0.0273126599422734), (2448, 0.014019450763823925), (2449, 0.021488161563736195), (2450, 0.009979300667668143), (2451, 0.0115294330640974), (2452, 0.0), (2453, 0.0), (2454, 0.0), (2455, 0.0), (2456, 0.011079632187541193), (2457, 0.030479026559724412), (2458, 0.0), (2459, 0.03460606102762119), (2460, 0.03306699953087901), (2461, 0.0207005370464498), (2462, 0.011501947450881888), (2463, 0.030129831726340685), (2464, 0.11511463315096931), (2465, 0.0), (2466, 0.011024566558976066), (2467, 0.0), (2468, 0.07626356981241539), (2469, 0.0), (2470, 0.0), (2471, 0.0), (2472, 0.0), (2473, 0.03238312627652784), (2474, 0.0), (2475, 0.0), (2476, 0.0), (2477, 0.0), (2478, 0.0), (2479, 0.034228472508098254), (2480, 0.050161166343422256), (2481, 0.02275798681360005), (2482, 0.0), (2483, 0.0), (2484, 0.073521825649114), (2485, 0.012013921518118831), (2486, 0.0), (2487, 0.010757824280966864), (2488, 0.012972711763498367), (2489, 0.0), (2490, 0.0), (2491, 0.0), (2492, 0.0), (2493, 0.07325529900960077), (2494, 0.040255319804183703), (2495, 0.0), (2496, 0.0), (2497, 0.0), (2498, 0.0), (2499, 0.0), (2500, 0.0), (2501, 0.0), (2502, 0.009365525650333256), (2503, 0.0), (2504, 0.010481044743036922), (2505, 0.0), (2506, 0.0), (2507, 0.04664516121309265), (2508, 0.0), (2509, 0.019120968673081818), (2510, 0.0), (2511, 0.04047303490521349), (2512, 0.021077683915842534), (2513, 0.0), (2514, 0.0), (2515, 0.0), (2516, 0.011374279861595157), (2517, 0.010204812765751239), (2518, 0.0), (2519, 0.027564386486734163), (2520, 0.0), (2521, 0.013975834574809488), (2522, 0.0), (2523, 0.030982844477421178), (2524, 0.0), (2525, 0.010108434605423277), (2526, 0.0), (2527, 0.0), (2528, 0.0), (2529, 0.0), (2530, 0.01364394745366907), (2531, 0.02225042804390141), (2532, 0.012118987048442392), (2533, 0.0), (2534, 0.010720598239160698), (2535, 0.0), (2536, 0.0), (2537, 0.0), (2538, 0.0), (2539, 0.03939609044591155), (2540, 0.0), (2541, 0.009007927221800388), (2542, 0.0), (2543, 0.0), (2544, 0.0), (2545, 0.0), (2546, 0.0), (2547, 0.0), (2548, 0.0), (2549, 0.010872547999633204), (2550, 0.0), (2551, 0.0), (2552, 0.02658186275192406), (2553, 0.0), (2554, 0.0343022099849953), (2555, 0.012207312958352645), (2556, 0.0), (2557, 0.0), (2558, 0.0), (2559, 0.0), (2560, 0.0), (2561, 0.0), (2562, 0.008082581052687478), (2563, 0.0), (2564, 0.0), (2565, 0.0), (2566, 0.0), (2567, 0.0), (2568, 0.013129120139326872), (2569, 0.0), (2570, 0.02738552158657276), (2571, 0.010255650737089833), (2572, 0.02588725015958719), (2573, 0.0), (2574, 0.02771499912310408), (2575, 0.0), (2576, 0.0), (2577, 0.03358579745821138), (2578, 0.021748920657769018), (2579, 0.012032723169701234), (2580, 0.009479570164358015), (2581, 0.0), (2582, 0.010951499262254775), (2583, 0.010764275464528485), (2584, 0.019685879409514467), (2585, 0.0), (2586, 0.0), (2587, 0.024533919559488044), (2588, 0.0723224236309703), (2589, 0.0), (2590, 0.009993116016311749), (2591, 0.009630839687079097), (2592, 0.02376841117173324), (2593, 0.009904213648894421), (2594, 0.0), (2595, 0.0), (2596, 0.0), (2597, 0.0), (2598, 0.0), (2599, 0.0), (2600, 0.0), (2601, 0.0), (2602, 0.0), (2603, 0.017931314921962066), (2604, 0.011682447255010045), (2605, 0.0), (2606, 0.07414949060317341), (2607, 0.0), (2608, 0.0), (2609, 0.038240431698239645), (2610, 0.0), (2611, 0.0), (2612, 0.020619480211427788), (2613, 0.0), (2614, 0.011656120994276549), (2615, 0.019943933967039255), (2616, 0.010496059668125262), (2617, 0.04238356482966837), (2618, 0.0), (2619, 0.03218084997605985), (2620, 0.0), (2621, 0.023249194191756535), (2622, 0.018011828707981885), (2623, 0.0), (2624, 0.0), (2625, 0.0), (2626, 0.0), (2627, 0.0), (2628, 0.0), (2629, 0.0), (2630, 0.0), (2631, 0.0), (2632, 0.0), (2633, 0.0), (2634, 0.0), (2635, 0.02815931578444736), (2636, 0.025438001089565045), (2637, 0.011525448867390944), (2638, 0.0), (2639, 0.0), (2640, 0.0), (2641, 0.0), (2642, 0.02739274895242339), (2643, 0.013883463918048415), (2644, 0.0), (2645, 0.030928517934537405), (2646, 0.027321263026366203), (2647, 0.0), (2648, 0.0), (2649, 0.0506422622721418), (2650, 0.022181955413314483), (2651, 0.0), (2652, 0.010852586762377955), (2653, 0.0), (2654, 0.009783285852931747), (2655, 0.0), (2656, 0.013553797491351867), (2657, 0.0), (2658, 0.0), (2659, 0.0704271349008167), (2660, 0.037318146890352864), (2661, 0.01139524098407953), (2662, 0.0), (2663, 0.027027985637206035), (2664, 0.0), (2665, 0.0), (2666, 0.00986826155648225), (2667, 0.038742242785920984), (2668, 0.011045398311342797), (2669, 0.0), (2670, 0.0), (2671, 0.007796545442168323), (2672, 0.042662637552851816), (2673, 0.03677683632078158), (2674, 0.0), (2675, 0.011127642019774755), (2676, 0.0), (2677, 0.022670406298328623), (2678, 0.0), (2679, 0.025286874250812264), (2680, 0.0), (2681, 0.026273231658723455), (2682, 0.0), (2683, 0.0), (2684, 0.0), (2685, 0.0), (2686, 0.0), (2687, 0.0), (2688, 0.03265548368422928), (2689, 0.0), (2690, 0.0), (2691, 0.0), (2692, 0.0), (2693, 0.0), (2694, 0.0), (2695, 0.0), (2696, 0.0), (2697, 0.02327591051455645), (2698, 0.0), (2699, 0.06062576257618202), (2700, 0.0), (2701, 0.0), (2702, 0.0), (2703, 0.0), (2704, 0.011442470133372002), (2705, 0.0), (2706, 0.010091657148730336), (2707, 0.0), (2708, 0.010942061208709816), (2709, 0.0), (2710, 0.05238095370729738), (2711, 0.020200755646800208), (2712, 0.0), (2713, 0.0), (2714, 0.052502475172375884), (2715, 0.0), (2716, 0.0), (2717, 0.01174411122894005), (2718, 0.020972365804720915), (2719, 0.034176507733747294), (2720, 0.0697443214132514), (2721, 0.009327697490846071), (2722, 0.0), (2723, 0.0), (2724, 0.0), (2725, 0.0), (2726, 0.0), (2727, 0.0), (2728, 0.009662068796601725), (2729, 0.011452614597974748), (2730, 0.0), (2731, 0.0), (2732, 0.0), (2733, 0.0), (2734, 0.008436852086727566), (2735, 0.0), (2736, 0.047236340423519506), (2737, 0.0), (2738, 0.0), (2739, 0.031201318568779418), (2740, 0.03201229569445522), (2741, 0.009665566195416548), (2742, 0.02231295754924738), (2743, 0.0), (2744, 0.0), (2745, 0.0), (2746, 0.0), (2747, 0.0), (2748, 0.0), (2749, 0.009660710239728375), (2750, 0.0), (2751, 0.0), (2752, 0.010267389874485328), (2753, 0.0), (2754, 0.0), (2755, 0.0), (2756, 0.05898274928257768), (2757, 0.0), (2758, 0.009117043605096988), (2759, 0.0), (2760, 0.01629489221679884), (2761, 0.02379060503182284), (2762, 0.02033753741351113), (2763, 0.010483673970871478), (2764, 0.0), (2765, 0.0), (2766, 0.008517903360130651), (2767, 0.0), (2768, 0.0), (2769, 0.0), (2770, 0.028118020505937265), (2771, 0.0), (2772, 0.04118444127273764), (2773, 0.0), (2774, 0.0213536207315609), (2775, 0.08129661338226796), (2776, 0.0), (2777, 0.03612971283924209), (2778, 0.03706388206561019), (2779, 0.029261115348016356), (2780, 0.0), (2781, 0.05793387017954474), (2782, 0.011949688724928619), (2783, 0.0), (2784, 0.0), (2785, 0.0), (2786, 0.0), (2787, 0.0), (2788, 0.023688107313565243), (2789, 0.01934060248994843), (2790, 0.04338912731211235), (2791, 0.0), (2792, 0.0), (2793, 0.035957822278605334), (2794, 0.0), (2795, 0.0), (2796, 0.03507859523974184), (2797, 0.03751798461962045), (2798, 0.01077921568840924), (2799, 0.012014939946759269), (2800, 0.0), (2801, 0.0), (2802, 0.0), (2803, 0.0), (2804, 0.0), (2805, 0.0), (2806, 0.011888641936781396), (2807, 0.0), (2808, 0.03676626445142773), (2809, 0.0), (2810, 0.012031047187275646), (2811, 0.0), (2812, 0.010116779317119098), (2813, 0.0340752340001524), (2814, 0.007680001137735869), (2815, 0.0), (2816, 0.0), (2817, 0.04079809116904339), (2818, 0.0), (2819, 0.0), (2820, 0.0), (2821, 0.02470131803680407), (2822, 0.009161031470016746), (2823, 0.0), (2824, 0.02769950503887121), (2825, 0.02374110353425493), (2826, 0.0), (2827, 0.0), (2828, 0.0), (2829, 0.0), (2830, 0.03990099329178234), (2831, 0.03842508254250077), (2832, 0.0), (2833, 0.08946018657951482), (2834, 0.0), (2835, 0.009810118621681359), (2836, 0.0), (2837, 0.0), (2838, 0.0), (2839, 0.010649660425663478), (2840, 0.025951012974241593), (2841, 0.04264184209963229), (2842, 0.03280517962972203), (2843, 0.0), (2844, 0.008866045368135764), (2845, 0.009770180395545286), (2846, 0.0), (2847, 0.0), (2848, 0.0), (2849, 0.0), (2850, 0.0), (2851, 1.0000000000000002), (2852, 0.0), (2853, 0.026588854442263925), (2854, 0.011788992099445629), (2855, 0.0), (2856, 0.011026088112436208), (2857, 0.013103033200024398), (2858, 0.0), (2859, 0.0), (2860, 0.0), (2861, 0.0), (2862, 0.0), (2863, 0.0), (2864, 0.0), (2865, 0.0), (2866, 0.0), (2867, 0.008371711596599659), (2868, 0.009820851316277997), (2869, 0.03311718459756341), (2870, 0.0), (2871, 0.0), (2872, 0.0), (2873, 0.15217639005994807), (2874, 0.0), (2875, 0.0), (2876, 0.023089588472185094), (2877, 0.017823530125008546), (2878, 0.0), (2879, 0.0), (2880, 0.0), (2881, 0.0), (2882, 0.0), (2883, 0.0), (2884, 0.039113776554543594), (2885, 0.007632433231814686), (2886, 0.0), (2887, 0.03522830619567804), (2888, 0.0), (2889, 0.06730572428168996), (2890, 0.0), (2891, 0.0), (2892, 0.010076216009706096), (2893, 0.0), (2894, 0.0), (2895, 0.0), (2896, 0.010901217964837551), (2897, 0.022224715422234018), (2898, 0.0), (2899, 0.02187270776939377), (2900, 0.0), (2901, 0.013782618286454065), (2902, 0.0), (2903, 0.031884254181948145), (2904, 0.0), (2905, 0.0), (2906, 0.0), (2907, 0.046008743581017), (2908, 0.018698153413297627), (2909, 0.0403641274166769), (2910, 0.0), (2911, 0.0), (2912, 0.0), (2913, 0.0), (2914, 0.0), (2915, 0.0), (2916, 0.012024260738427077), (2917, 0.0), (2918, 0.0), (2919, 0.0), (2920, 0.0), (2921, 0.01187767163474004), (2922, 0.0), (2923, 0.03830797721548826), (2924, 0.026984669993831013), (2925, 0.05604496584018037), (2926, 0.0), (2927, 0.013008709472175759), (2928, 0.0), (2929, 0.062194835355969855), (2930, 0.0), (2931, 0.02891486516046876), (2932, 0.0), (2933, 0.009014625072845554), (2934, 0.0), (2935, 0.0), (2936, 0.0), (2937, 0.039242153656691134), (2938, 0.01004951042378039), (2939, 0.0), (2940, 0.029209469495505437), (2941, 0.0), (2942, 0.0), (2943, 0.0), (2944, 0.0), (2945, 0.02615817258173861), (2946, 0.0), (2947, 0.0), (2948, 0.0), (2949, 0.0), (2950, 0.0), (2951, 0.0), (2952, 0.03877742734271353), (2953, 0.0), (2954, 0.027988078929421928), (2955, 0.0), (2956, 0.0), (2957, 0.0), (2958, 0.06337670214629872), (2959, 0.029930765808843227), (2960, 0.0), (2961, 0.0), (2962, 0.022141755912814295), (2963, 0.011333912666637525), (2964, 0.0), (2965, 0.0704019737582434), (2966, 0.0), (2967, 0.0), (2968, 0.0), (2969, 0.0), (2970, 0.0), (2971, 0.0), (2972, 0.010118678024179442), (2973, 0.0), (2974, 0.0), (2975, 0.009325700229754902), (2976, 0.019232727191869577), (2977, 0.0), (2978, 0.0), (2979, 0.0), (2980, 0.010528184767138361), (2981, 0.018135649062150795), (2982, 0.012080273749747517), (2983, 0.0), (2984, 0.0), (2985, 0.008854104605560565), (2986, 0.0), (2987, 0.0), (2988, 0.021896339043846927), (2989, 0.0), (2990, 0.0), (2991, 0.0), (2992, 0.0), (2993, 0.0), (2994, 0.0), (2995, 0.0), (2996, 0.0), (2997, 0.0), (2998, 0.016115855734539827), (2999, 0.0), (3000, 0.09610129948394655), (3001, 0.011763294002657973), (3002, 0.0), (3003, 0.011925085138915345), (3004, 0.0), (3005, 0.0), (3006, 0.027412023811530378), (3007, 0.03274607243917923), (3008, 0.0), (3009, 0.0), (3010, 0.0), (3011, 0.010250325607237458), (3012, 0.03187626504568909), (3013, 0.0), (3014, 0.0), (3015, 0.0), (3016, 0.0), (3017, 0.058940910769253334), (3018, 0.011085540409131501), (3019, 0.0), (3020, 0.0), (3021, 0.0226812104630659), (3022, 0.0), (3023, 0.022737490612132143), (3024, 0.008781061359170107), (3025, 0.0), (3026, 0.0), (3027, 0.10411043487548835), (3028, 0.027474931338285127), (3029, 0.0), (3030, 0.0), (3031, 0.043795022121055724), (3032, 0.0), (3033, 0.14294341366939736), (3034, 0.0), (3035, 0.0), (3036, 0.0), (3037, 0.0), (3038, 0.0), (3039, 0.0), (3040, 0.0), (3041, 0.0), (3042, 0.0), (3043, 0.0), (3044, 0.0), (3045, 0.0), (3046, 0.10294581685162776), (3047, 0.0), (3048, 0.0), (3049, 0.0), (3050, 0.0), (3051, 0.0), (3052, 0.0), (3053, 0.0), (3054, 0.0), (3055, 0.0), (3056, 0.04049019666888645), (3057, 0.0), (3058, 0.010638710054730542), (3059, 0.0), (3060, 0.048743700644373764), (3061, 0.0), (3062, 0.0), (3063, 0.04002715707210597), (3064, 0.0), (3065, 0.0), (3066, 0.010488168797677184), (3067, 0.02699729176239465), (3068, 0.0), (3069, 0.0), (3070, 0.0), (3071, 0.11819772068732619), (3072, 0.0), (3073, 0.027276592910607363), (3074, 0.0), (3075, 0.0), (3076, 0.04011520021212372), (3077, 0.025236005204876198), (3078, 0.013794339010830235), (3079, 0.0), (3080, 0.038752683282345005), (3081, 0.012633490590690126), (3082, 0.009441029275564622), (3083, 0.061822275224415704), (3084, 0.011385527183729937), (3085, 0.0), (3086, 0.011467049313740166), (3087, 0.0), (3088, 0.0), (3089, 0.013042801553840515), (3090, 0.020876611274245723), (3091, 0.008985251119312554), (3092, 0.0), (3093, 0.0), (3094, 0.0319762380170878), (3095, 0.0), (3096, 0.009331510582197524), (3097, 0.0), (3098, 0.02427610592527752), (3099, 0.009441790240461113), (3100, 0.0), (3101, 0.0), (3102, 0.0), (3103, 0.0), (3104, 0.0), (3105, 0.0), (3106, 0.0), (3107, 0.0), (3108, 0.02751106585570663), (3109, 0.011305201072966894), (3110, 0.02617495397106407), (3111, 0.04395962357990032), (3112, 0.011543335151478124), (3113, 0.0), (3114, 0.0), (3115, 0.0), (3116, 0.011796344313834636), (3117, 0.042803675663218334), (3118, 0.0), (3119, 0.0), (3120, 0.0), (3121, 0.019938640289208772), (3122, 0.0), (3123, 0.0), (3124, 0.029518451042677325), (3125, 0.0), (3126, 0.0), (3127, 0.029691048341975494), (3128, 0.0), (3129, 0.0), (3130, 0.0), (3131, 0.0), (3132, 0.03801087056669105), (3133, 0.06554623122771469), (3134, 0.03741911400433299), (3135, 0.0), (3136, 0.0), (3137, 0.019926856113777664), (3138, 0.009637324013598675), (3139, 0.0), (3140, 0.0), (3141, 0.010342324963285727), (3142, 0.029518241928441262), (3143, 0.0), (3144, 0.015896658447434535), (3145, 0.0), (3146, 0.0), (3147, 0.009882010119252048), (3148, 0.0), (3149, 0.03601472146031792), (3150, 0.0), (3151, 0.010225736471320527), (3152, 0.034532427488525086), (3153, 0.010930687249426283), (3154, 0.0), (3155, 0.023427003967293664), (3156, 0.0), (3157, 0.0), (3158, 0.0), (3159, 0.0), (3160, 0.0), (3161, 0.0), (3162, 0.0), (3163, 0.030946090722077328), (3164, 0.0), (3165, 0.0), (3166, 0.0), (3167, 0.03343792032801905), (3168, 0.0), (3169, 0.0), (3170, 0.0), (3171, 0.0), (3172, 0.0), (3173, 0.0), (3174, 0.0), (3175, 0.0), (3176, 0.0), (3177, 0.0), (3178, 0.0), (3179, 0.0), (3180, 0.0), (3181, 0.011697771720550903), (3182, 0.028162542727883266), (3183, 0.0), (3184, 0.030537690137735864), (3185, 0.0), (3186, 0.0), (3187, 0.011296629649971062), (3188, 0.01060291313540426), (3189, 0.08334712598174349), (3190, 0.03096522164122685), (3191, 0.03690953760562593), (3192, 0.0), (3193, 0.0), (3194, 0.0), (3195, 0.02797952478927643), (3196, 0.0), (3197, 0.0), (3198, 0.0), (3199, 0.016440378240422868), (3200, 0.0), (3201, 0.0), (3202, 0.0), (3203, 0.0), (3204, 0.014370064952046884), (3205, 0.017876234121223907), (3206, 0.02907672351851122), (3207, 0.0), (3208, 0.022443201860150985), (3209, 0.010856201701968646), (3210, 0.0), (3211, 0.009294466374343282), (3212, 0.00889916922003162), (3213, 0.01950427004599092), (3214, 0.022213586919464057), (3215, 0.03785359862828428), (3216, 0.0), (3217, 0.0), (3218, 0.0), (3219, 0.0593077360255657), (3220, 0.0), (3221, 0.012006519137978202), (3222, 0.0), (3223, 0.0), (3224, 0.0), (3225, 0.02738406345343303), (3226, 0.0), (3227, 0.0), (3228, 0.0), (3229, 0.011148955722392799), (3230, 0.0), (3231, 0.0), (3232, 0.009280912146313042), (3233, 0.0), (3234, 0.011733827992461511), (3235, 0.0), (3236, 0.011417350277784576), (3237, 0.010484527894497202), (3238, 0.009238254047423362), (3239, 0.0), (3240, 0.04793867406821199), (3241, 0.02507197504512458), (3242, 0.011144647688112), (3243, 0.0), (3244, 0.009723945059483305), (3245, 0.0), (3246, 0.010176231362431301), (3247, 0.009600442032891064), (3248, 0.0), (3249, 0.0), (3250, 0.0), (3251, 0.0), (3252, 0.0), (3253, 0.0), (3254, 0.008679307933220309), (3255, 0.0), (3256, 0.01251364413980917), (3257, 0.0), (3258, 0.0), (3259, 0.011194784798219264), (3260, 0.010414761446198038), (3261, 0.0), (3262, 0.0), (3263, 0.0), (3264, 0.0), (3265, 0.0), (3266, 0.0), (3267, 0.0), (3268, 0.0), (3269, 0.03665142390157846), (3270, 0.02311654523535471), (3271, 0.0), (3272, 0.0217293809289216), (3273, 0.030424505875005184), (3274, 0.0), (3275, 0.0), (3276, 0.0), (3277, 0.0), (3278, 0.0), (3279, 0.0), (3280, 0.0), (3281, 0.0), (3282, 0.0), (3283, 0.0), (3284, 0.0), (3285, 0.0), (3286, 0.010422281106044064), (3287, 0.011097574614185117), (3288, 0.0), (3289, 0.03826473090637199), (3290, 0.0), (3291, 0.0), (3292, 0.0), (3293, 0.0), (3294, 0.0), (3295, 0.0), (3296, 0.0), (3297, 0.011406591956622497), (3298, 0.0), (3299, 0.0), (3300, 0.009975428437248492), (3301, 0.024003251101217676), (3302, 0.0), (3303, 0.021604473815551948), (3304, 0.025033192056298108), (3305, 0.0299606325651142), (3306, 0.0), (3307, 0.0), (3308, 0.0), (3309, 0.0), (3310, 0.0), (3311, 0.021739283906164173), (3312, 0.06262702169625393), (3313, 0.0), (3314, 0.0), (3315, 0.010140328728796182), (3316, 0.0), (3317, 0.0), (3318, 0.009566955736829344), (3319, 0.0), (3320, 0.0), (3321, 0.009821591343179106), (3322, 0.09556076930409677), (3323, 0.0), (3324, 0.0), (3325, 0.0), (3326, 0.0), (3327, 0.00952129748644534), (3328, 0.0), (3329, 0.0), (3330, 0.010578861691664354), (3331, 0.0), (3332, 0.0), (3333, 0.038491065463006645), (3334, 0.02991413280239809), (3335, 0.010846276354677975), (3336, 0.0), (3337, 0.0), (3338, 0.0412279082489556), (3339, 0.0), (3340, 0.0), (3341, 0.0), (3342, 0.009856919609478376), (3343, 0.0), (3344, 0.019760501928332546), (3345, 0.0), (3346, 0.0), (3347, 0.0), (3348, 0.010272779087026573), (3349, 0.0), (3350, 0.010590463369470777), (3351, 0.0), (3352, 0.0), (3353, 0.0), (3354, 0.0), (3355, 0.0), (3356, 0.026132174003359973), (3357, 0.0), (3358, 0.0), (3359, 0.0), (3360, 0.009535506413914771), (3361, 0.0), (3362, 0.024272098857596323), (3363, 0.0), (3364, 0.0), (3365, 0.0), (3366, 0.010367547895228684), (3367, 0.0), (3368, 0.0), (3369, 0.0), (3370, 0.020723670902312776), (3371, 0.0), (3372, 0.0), (3373, 0.0), (3374, 0.0), (3375, 0.0), (3376, 0.0), (3377, 0.0), (3378, 0.0), (3379, 0.010524567799389949), (3380, 0.0), (3381, 0.0), (3382, 0.0), (3383, 0.0), (3384, 0.0), (3385, 0.0), (3386, 0.02357600258446078), (3387, 0.025694315710400786), (3388, 0.01118408399648327), (3389, 0.00987295482465065), (3390, 0.02034193432261507), (3391, 0.0), (3392, 0.028292234363115197), (3393, 0.0), (3394, 0.0), (3395, 0.009861546302649325), (3396, 0.03535575345516298), (3397, 0.009633908319182833), (3398, 0.0), (3399, 0.0), (3400, 0.0), (3401, 0.0), (3402, 0.0), (3403, 0.026854782100813067), (3404, 0.0), (3405, 0.0), (3406, 0.0), (3407, 0.0), (3408, 0.0), (3409, 0.0), (3410, 0.0), (3411, 0.0), (3412, 0.0), (3413, 0.0), (3414, 0.0), (3415, 0.0), (3416, 0.02400987989814582), (3417, 0.0), (3418, 0.025089201968787993), (3419, 0.0), (3420, 0.0), (3421, 0.0073438234270870205), (3422, 0.02916038813826194), (3423, 0.0), (3424, 0.0), (3425, 0.0), (3426, 0.02851393389498351), (3427, 0.010655107245473628), (3428, 0.0), (3429, 0.0), (3430, 0.0), (3431, 0.0), (3432, 0.0), (3433, 0.0), (3434, 0.030247570500019354), (3435, 0.0), (3436, 0.0), (3437, 0.0), (3438, 0.030352606905455312), (3439, 0.0), (3440, 0.0), (3441, 0.0), (3442, 0.0), (3443, 0.0), (3444, 0.011833046923292847), (3445, 0.0), (3446, 0.0), (3447, 0.0), (3448, 0.0), (3449, 0.0), (3450, 0.0), (3451, 0.0), (3452, 0.0), (3453, 0.0), (3454, 0.0), (3455, 0.0), (3456, 0.04706568475828753), (3457, 0.011444444161472502), (3458, 0.025580277270210457), (3459, 0.009754352227786292), (3460, 0.0), (3461, 0.02288536841254172), (3462, 0.0), (3463, 0.0), (3464, 0.011250032830133878), (3465, 0.0), (3466, 0.0), (3467, 0.0), (3468, 0.0), (3469, 0.0), (3470, 0.0), (3471, 0.0), (3472, 0.013600010295263755), (3473, 0.012192707048737948), (3474, 0.024282082957103678), (3475, 0.0), (3476, 0.01058690590979042), (3477, 0.03702398889032492), (3478, 0.0), (3479, 0.0), (3480, 0.0), (3481, 0.009034634115680765), (3482, 0.0108006057094877), (3483, 0.07797008052280885), (3484, 0.008827739703030262), (3485, 0.009539165650734207), (3486, 0.0), (3487, 0.0), (3488, 0.0), (3489, 0.0), (3490, 0.0), (3491, 0.0), (3492, 0.0358078004352002), (3493, 0.0), (3494, 0.0), (3495, 0.0), (3496, 0.0), (3497, 0.011598016511066199), (3498, 0.025532476532437447), (3499, 0.0), (3500, 0.0), (3501, 0.0), (3502, 0.0), (3503, 0.03591817468387689), (3504, 0.0), (3505, 0.011996763829081363), (3506, 0.012242765615104845), (3507, 0.027702014196281627), (3508, 0.0), (3509, 0.02018718835894949), (3510, 0.028808743775741), (3511, 0.0), (3512, 0.0), (3513, 0.0), (3514, 0.0), (3515, 0.0), (3516, 0.011544565998142034), (3517, 0.0), (3518, 0.0), (3519, 0.0), (3520, 0.0), (3521, 0.0), (3522, 0.0), (3523, 0.0), (3524, 0.040905589536094286), (3525, 0.009228435359809058), (3526, 0.0), (3527, 0.0), (3528, 0.0), (3529, 0.0), (3530, 0.0), (3531, 0.02757672806288013), (3532, 0.0), (3533, 0.036158351169425805), (3534, 0.0), (3535, 0.0), (3536, 0.011138427432749327), (3537, 0.0), (3538, 0.0), (3539, 0.03990671949149158), (3540, 0.012520545428969191), (3541, 0.0), (3542, 0.024588700426992478), (3543, 0.0), (3544, 0.0), (3545, 0.04624049747524403), (3546, 0.04022849679926958), (3547, 0.0), (3548, 0.0), (3549, 0.0), (3550, 0.0), (3551, 0.0), (3552, 0.0), (3553, 0.023060551775068067), (3554, 0.012994829420804257), (3555, 0.0), (3556, 0.0), (3557, 0.044620601566915205), (3558, 0.0), (3559, 0.0), (3560, 0.0), (3561, 0.0), (3562, 0.010340016401311125), (3563, 0.053488478495019136), (3564, 0.010656195550933698), (3565, 0.0), (3566, 0.0), (3567, 0.0), (3568, 0.02304789667084435), (3569, 0.0), (3570, 0.028253849414457695), (3571, 0.0), (3572, 0.0), (3573, 0.0), (3574, 0.02670212498979147), (3575, 0.02296937483137819), (3576, 0.0), (3577, 0.0), (3578, 0.0), (3579, 0.009060759609007266), (3580, 0.0), (3581, 0.011800750489229588), (3582, 0.027389708280923342), (3583, 0.0), (3584, 0.0), (3585, 0.0), (3586, 0.0), (3587, 0.04038611275556459), (3588, 0.029527218119916435), (3589, 0.0), (3590, 0.0), (3591, 0.0), (3592, 0.0), (3593, 0.046200457712072575), (3594, 0.033748990602366476), (3595, 0.0), (3596, 0.010505333364511885), (3597, 0.0), (3598, 0.0), (3599, 0.0), (3600, 0.0), (3601, 0.0), (3602, 0.02795580298348492), (3603, 0.0), (3604, 0.0), (3605, 0.0), (3606, 0.01094530873798317), (3607, 0.055976392972505555), (3608, 0.0), (3609, 0.0), (3610, 0.02521584582795126), (3611, 0.026437487291089173), (3612, 0.0), (3613, 0.013240765290770532), (3614, 0.0), (3615, 0.0), (3616, 0.013349257205733857), (3617, 0.0), (3618, 0.0), (3619, 0.0), (3620, 0.013071787040335564), (3621, 0.0), (3622, 0.0), (3623, 0.0), (3624, 0.0), (3625, 0.0), (3626, 0.03749814192600487), (3627, 0.0), (3628, 0.011738959793638357), (3629, 0.0), (3630, 0.0), (3631, 0.011325738184871618), (3632, 0.010972534717644755), (3633, 0.009614229887238814), (3634, 0.0), (3635, 0.0), (3636, 0.0), (3637, 0.0), (3638, 0.0), (3639, 0.0), (3640, 0.0), (3641, 0.0), (3642, 0.01151080733618161), (3643, 0.010905533377453269), (3644, 0.0), (3645, 0.0), (3646, 0.020187726147858583), (3647, 0.0), (3648, 0.0), (3649, 0.0), (3650, 0.010877243075843356), (3651, 0.0), (3652, 0.0), (3653, 0.0), (3654, 0.0), (3655, 0.009237958092220304), (3656, 0.050957085677748266), (3657, 0.0), (3658, 0.008919871957913541), (3659, 0.0), (3660, 0.02243798397660529), (3661, 0.0), (3662, 0.027314509642273655), (3663, 0.0), (3664, 0.0), (3665, 0.0), (3666, 0.029521018480091657), (3667, 0.008115614752068212), (3668, 0.0), (3669, 0.0), (3670, 0.028674798082227986), (3671, 0.013362526241820686), (3672, 0.0), (3673, 0.010691406447903453), (3674, 0.01964098025269054), (3675, 0.0), (3676, 0.0), (3677, 0.0), (3678, 0.0), (3679, 0.0), (3680, 0.03466167345032704), (3681, 0.0), (3682, 0.01191919107220601), (3683, 0.023817384359553922), (3684, 0.09180334483949215), (3685, 0.07089361544188998), (3686, 0.0), (3687, 0.0), (3688, 0.0), (3689, 0.0), (3690, 0.0), (3691, 0.0), (3692, 0.0), (3693, 0.009056913571279747), (3694, 0.0), (3695, 0.011741784251697373), (3696, 0.0), (3697, 0.0), (3698, 0.0), (3699, 0.0), (3700, 0.02700601437717492), (3701, 0.011005253096294854), (3702, 0.0), (3703, 0.0), (3704, 0.011600684537486807), (3705, 0.02572741790006115), (3706, 0.0), (3707, 0.0), (3708, 0.0), (3709, 0.0), (3710, 0.0), (3711, 0.0), (3712, 0.022764586411592083), (3713, 0.0), (3714, 0.0), (3715, 0.03526391376324579), (3716, 0.00964818387660411), (3717, 0.0), (3718, 0.00984306541078592), (3719, 0.0), (3720, 0.0), (3721, 0.0), (3722, 0.06384437828801823), (3723, 0.0), (3724, 0.0), (3725, 0.0333823551037364), (3726, 0.009682762820268857), (3727, 0.06744931735440023), (3728, 0.011479215151414727), (3729, 0.0), (3730, 0.0), (3731, 0.0), (3732, 0.009889592413753258), (3733, 0.0), (3734, 0.0), (3735, 0.011878936654117541), (3736, 0.025962876730636807), (3737, 0.0), (3738, 0.021282371187943933), (3739, 0.010731712090631753), (3740, 0.0), (3741, 0.0), (3742, 0.0), (3743, 0.0), (3744, 0.03325883966531819), (3745, 0.0), (3746, 0.010567474747440377), (3747, 0.025382645683915902), (3748, 0.0), (3749, 0.0), (3750, 0.007178216514162678), (3751, 0.04964146986279881), (3752, 0.018239616025139814), (3753, 0.019778340811911387), (3754, 0.0), (3755, 0.0), (3756, 0.01965801535492813), (3757, 0.0), (3758, 0.0), (3759, 0.0), (3760, 0.0), (3761, 0.0), (3762, 0.0), (3763, 0.012651364889041845), (3764, 0.0), (3765, 0.0), (3766, 0.0), (3767, 0.0), (3768, 0.0), (3769, 0.024328314269209984), (3770, 0.0), (3771, 0.03320018474932871), (3772, 0.0), (3773, 0.0), (3774, 0.011366748119113491), (3775, 0.0), (3776, 0.0), (3777, 0.0), (3778, 0.0), (3779, 0.0), (3780, 0.011333891904797364), (3781, 0.0), (3782, 0.0), (3783, 0.0), (3784, 0.0), (3785, 0.05061775610852545), (3786, 0.0), (3787, 0.0), (3788, 0.022464530365503825), (3789, 0.0), (3790, 0.04996524010831113), (3791, 0.0), (3792, 0.010794944627871396), (3793, 0.0), (3794, 0.0), (3795, 0.0), (3796, 0.014847150965381063), (3797, 0.025748073795162835), (3798, 0.0), (3799, 0.0), (3800, 0.0), (3801, 0.0), (3802, 0.0), (3803, 0.00939224117632639), (3804, 0.030484890779035996), (3805, 0.010703662582354204), (3806, 0.0), (3807, 0.021237950870782868), (3808, 0.0), (3809, 0.03673277094189317), (3810, 0.0), (3811, 0.0), (3812, 0.07612847654665068), (3813, 0.023294936821093223), (3814, 0.0), (3815, 0.0), (3816, 0.011755937045111301), (3817, 0.011941571074753946), (3818, 0.0), (3819, 0.010022570563079598), (3820, 0.11866110819617565), (3821, 0.0), (3822, 0.01205338428010781), (3823, 0.0), (3824, 0.0), (3825, 0.0), (3826, 0.010320245234064983), (3827, 0.0), (3828, 0.030393696414435192), (3829, 0.0), (3830, 0.009351956162146065), (3831, 0.0), (3832, 0.0), (3833, 0.0), (3834, 0.0), (3835, 0.014013557171305962), (3836, 0.0), (3837, 0.0), (3838, 0.0), (3839, 0.0), (3840, 0.0), (3841, 0.009626871343271648), (3842, 0.0), (3843, 0.009874292197773646), (3844, 0.0), (3845, 0.0), (3846, 0.01143963938664837), (3847, 0.011118185133912469), (3848, 0.0), (3849, 0.011025222351553524), (3850, 0.0), (3851, 0.0), (3852, 0.0), (3853, 0.0), (3854, 0.0), (3855, 0.009006970124485938), (3856, 0.0), (3857, 0.03157898914910806), (3858, 0.012309974841447798), (3859, 0.0), (3860, 0.0), (3861, 0.0), (3862, 0.0), (3863, 0.0), (3864, 0.025218038999331855), (3865, 0.009573475926402918), (3866, 0.0), (3867, 0.0), (3868, 0.020313528480573984), (3869, 0.0), (3870, 0.0), (3871, 0.011204301100793632), (3872, 0.0), (3873, 0.0), (3874, 0.0), (3875, 0.0), (3876, 0.009743885493989284), (3877, 0.0399172706883059), (3878, 0.0), (3879, 0.0), (3880, 0.0), (3881, 0.0), (3882, 0.0), (3883, 0.0), (3884, 0.0), (3885, 0.0), (3886, 0.02624514057109539), (3887, 0.0), (3888, 0.03032878943429295), (3889, 0.0), (3890, 0.026746485903715263), (3891, 0.0), (3892, 0.050915226199529894), (3893, 0.02513622841679716), (3894, 0.009414723812481334), (3895, 0.0), (3896, 0.0), (3897, 0.0), (3898, 0.0), (3899, 0.043183548781086434), (3900, 0.0), (3901, 0.0), (3902, 0.0), (3903, 0.0), (3904, 0.02570515504582202), (3905, 0.0), (3906, 0.0), (3907, 0.0), (3908, 0.0), (3909, 0.0), (3910, 0.0), (3911, 0.0), (3912, 0.02181202184043323), (3913, 0.0), (3914, 0.0), (3915, 0.0), (3916, 0.026118762453225964), (3917, 0.0), (3918, 0.0), (3919, 0.0), (3920, 0.0), (3921, 0.0), (3922, 0.0), (3923, 0.009863664984047355), (3924, 0.0), (3925, 0.0), (3926, 0.021384200161074347), (3927, 0.0), (3928, 0.0), (3929, 0.0), (3930, 0.0), (3931, 0.0), (3932, 0.0), (3933, 0.0), (3934, 0.0), (3935, 0.0), (3936, 0.0), (3937, 0.0), (3938, 0.011639315063612123), (3939, 0.0), (3940, 0.0), (3941, 0.0), (3942, 0.0), (3943, 0.011538728695327322), (3944, 0.0), (3945, 0.0), (3946, 0.0), (3947, 0.0), (3948, 0.009491326392309454), (3949, 0.0), (3950, 0.0), (3951, 0.0), (3952, 0.0), (3953, 0.025868866403773637), (3954, 0.0), (3955, 0.0), (3956, 0.0), (3957, 0.0), (3958, 0.0), (3959, 0.0), (3960, 0.0), (3961, 0.0), (3962, 0.0), (3963, 0.0), (3964, 0.0), (3965, 0.022951936332082534), (3966, 0.009899957214354587), (3967, 0.06776954895766743), (3968, 0.0), (3969, 0.024443677803251847), (3970, 0.0), (3971, 0.0), (3972, 0.0), (3973, 0.0), (3974, 0.00955413352550375), (3975, 0.0), (3976, 0.0), (3977, 0.0), (3978, 0.0), (3979, 0.0), (3980, 0.008611817911218164), (3981, 0.0), (3982, 0.026716043073448006), (3983, 0.007952407688195537), (3984, 0.0), (3985, 0.010147536776233425), (3986, 0.0), (3987, 0.0), (3988, 0.0), (3989, 0.022904723541876944), (3990, 0.05253800351377476), (3991, 0.010123596776283064), (3992, 0.0), (3993, 0.009807520977269328), (3994, 0.02261145832405311), (3995, 0.0), (3996, 0.03258391097253461), (3997, 0.0), (3998, 0.0), (3999, 0.0), (4000, 0.0), (4001, 0.0), (4002, 0.0), (4003, 0.0), (4004, 0.0), (4005, 0.0), (4006, 0.0), (4007, 0.038858519291806386), (4008, 0.0), (4009, 0.009918866236791328), (4010, 0.012386548328772336), (4011, 0.009969104800149425), (4012, 0.0), (4013, 0.0), (4014, 0.0), (4015, 0.019193730799189523), (4016, 0.0), (4017, 0.0), (4018, 0.0), (4019, 0.0), (4020, 0.010531406704886441), (4021, 0.015003579146960898), (4022, 0.0), (4023, 0.0), (4024, 0.0), (4025, 0.0763983914466677), (4026, 0.0), (4027, 0.028217713802516965), (4028, 0.0), (4029, 0.0), (4030, 0.0), (4031, 0.012548898383598822), (4032, 0.0), (4033, 0.011198522436072996), (4034, 0.011909487127689593), (4035, 0.009236245324264982), (4036, 0.0), (4037, 0.010169357189649434), (4038, 0.0), (4039, 0.0), (4040, 0.04626297179851444), (4041, 0.0), (4042, 0.0), (4043, 0.0), (4044, 0.0), (4045, 0.05066022272712844), (4046, 0.0), (4047, 0.0), (4048, 0.0), (4049, 0.0), (4050, 0.0), (4051, 0.0), (4052, 0.0), (4053, 0.0), (4054, 0.0), (4055, 0.0), (4056, 0.0), (4057, 0.0), (4058, 0.0), (4059, 0.00992680452926508), (4060, 0.030453516052790494), (4061, 0.0), (4062, 0.0), (4063, 0.0), (4064, 0.0), (4065, 0.0), (4066, 0.009427279074156997), (4067, 0.0), (4068, 0.0), (4069, 0.0), (4070, 0.010616965556008964), (4071, 0.0), (4072, 0.0), (4073, 0.010346181350835421), (4074, 0.07380769722272264), (4075, 0.0), (4076, 0.0), (4077, 0.0), (4078, 0.03154855591148268), (4079, 0.0), (4080, 0.0), (4081, 0.0), (4082, 0.0), (4083, 0.0), (4084, 0.0), (4085, 0.0), (4086, 0.023102943082215797), (4087, 0.0), (4088, 0.0), (4089, 0.03950731516380368), (4090, 0.03863274238826303), (4091, 0.0), (4092, 0.0), (4093, 0.0), (4094, 0.0), (4095, 0.0), (4096, 0.0), (4097, 0.04155173042248653), (4098, 0.0), (4099, 0.010732046772876914), (4100, 0.0), (4101, 0.026230096712120784), (4102, 0.0), (4103, 0.0), (4104, 0.0), (4105, 0.0), (4106, 0.0), (4107, 0.0), (4108, 0.0), (4109, 0.009604751869610946), (4110, 0.00942097038150494), (4111, 0.030436718251826603), (4112, 0.010478250538214693), (4113, 0.0), (4114, 0.009212635073448763), (4115, 0.0), (4116, 0.0), (4117, 0.0), (4118, 0.011576250747657108), (4119, 0.0), (4120, 0.0), (4121, 0.0), (4122, 0.10031509514158024), (4123, 0.0), (4124, 0.0), (4125, 0.0), (4126, 0.0), (4127, 0.0), (4128, 0.010576248900563273), (4129, 0.0), (4130, 0.0), (4131, 0.0), (4132, 0.0), (4133, 0.0), (4134, 0.0), (4135, 0.021774290727426534), (4136, 0.011182889392673876), (4137, 0.010712445808672331), (4138, 0.0), (4139, 0.0), (4140, 0.023458224257465965), (4141, 0.0), (4142, 0.0), (4143, 0.0), (4144, 0.0), (4145, 0.0), (4146, 0.010991537434513785), (4147, 0.043654354449426815), (4148, 0.0), (4149, 0.0), (4150, 0.0), (4151, 0.0), (4152, 0.010127581040140957), (4153, 0.0), (4154, 0.0), (4155, 0.010140975319974961), (4156, 0.0), (4157, 0.010519630250001953), (4158, 0.0), (4159, 0.009948330825904926), (4160, 0.01203582978508739), (4161, 0.0), (4162, 0.03272460311703253), (4163, 0.0), (4164, 0.021249311750290642), (4165, 0.0), (4166, 0.0), (4167, 0.04747081944263539), (4168, 0.010978962535789701), (4169, 0.022614509331982818), (4170, 0.0), (4171, 0.0075020508179457724), (4172, 0.0), (4173, 0.022842734713335845), (4174, 0.009770258315083378), (4175, 0.0), (4176, 0.026143359670155655), (4177, 0.0), (4178, 0.0), (4179, 0.0), (4180, 0.0), (4181, 0.0), (4182, 0.0), (4183, 0.0), (4184, 0.0), (4185, 0.0), (4186, 0.009716930287363514), (4187, 0.012044455866217224), (4188, 0.0), (4189, 0.10041950390241319), (4190, 0.012802870831955712), (4191, 0.009723761279585741), (4192, 0.0), (4193, 0.0), (4194, 0.04258337082831379), (4195, 0.01072835882523008), (4196, 0.011688733191573372), (4197, 0.039005098302613166), (4198, 0.0), (4199, 0.06038843463225657), (4200, 0.0), (4201, 0.0), (4202, 0.0), (4203, 0.03097556829070489), (4204, 0.0), (4205, 0.0), (4206, 0.0), (4207, 0.07700873669967487), (4208, 0.0), (4209, 0.0), (4210, 0.03972689708690921), (4211, 0.0), (4212, 0.0), (4213, 0.0), (4214, 0.0), (4215, 0.0), (4216, 0.02747648976487143), (4217, 0.0), (4218, 0.02088363580987796), (4219, 0.0), (4220, 0.0), (4221, 0.0), (4222, 0.0), (4223, 0.0), (4224, 0.0), (4225, 0.0), (4226, 0.0), (4227, 0.0), (4228, 0.0), (4229, 0.0), (4230, 0.0), (4231, 0.0), (4232, 0.0), (4233, 0.0), (4234, 0.0), (4235, 0.0), (4236, 0.0), (4237, 0.0), (4238, 0.0), (4239, 0.0), (4240, 0.041768027621936404), (4241, 0.0), (4242, 0.013336231299257336), (4243, 0.0), (4244, 0.0), (4245, 0.0), (4246, 0.0), (4247, 0.009329784675368151), (4248, 0.0), (4249, 0.0), (4250, 0.0), (4251, 0.0), (4252, 0.08490981651283293), (4253, 0.0), (4254, 0.0), (4255, 0.0), (4256, 0.0), (4257, 0.0), (4258, 0.023392817584111124), (4259, 0.011923977755396508), (4260, 0.0), (4261, 0.0), (4262, 0.050412838575326704), (4263, 0.0), (4264, 0.0), (4265, 0.0), (4266, 0.0), (4267, 0.0), (4268, 0.023173865482957714), (4269, 0.02577794174606671), (4270, 0.010014626191585937), (4271, 0.013134793377987624), (4272, 0.0), (4273, 0.0), (4274, 0.009733383448105176), (4275, 0.0), (4276, 0.0), (4277, 0.03103517457636749), (4278, 0.0), (4279, 0.0), (4280, 0.0), (4281, 0.0), (4282, 0.0), (4283, 0.0), (4284, 0.0), (4285, 0.0), (4286, 0.039476126409537945), (4287, 0.03500520757250229), (4288, 0.0), (4289, 0.030261182037601878), (4290, 0.02100044150769187), (4291, 0.0), (4292, 0.0), (4293, 0.0), (4294, 0.0), (4295, 0.0), (4296, 0.0), (4297, 0.0), (4298, 0.0), (4299, 0.0), (4300, 0.0), (4301, 0.0), (4302, 0.0), (4303, 0.03655066333466974), (4304, 0.025517707949867668), (4305, 0.0), (4306, 0.0), (4307, 0.0), (4308, 0.0), (4309, 0.022710099083393512), (4310, 0.010625765818776542), (4311, 0.0), (4312, 0.0), (4313, 0.0), (4314, 0.010350973392448342), (4315, 0.0), (4316, 0.0), (4317, 0.030989009642313204), (4318, 0.06676167517555441), (4319, 0.08524707353303324), (4320, 0.0), (4321, 0.010105956791630406), (4322, 0.0), (4323, 0.0), (4324, 0.0), (4325, 0.06262734323064008), (4326, 0.0), (4327, 0.0), (4328, 0.0), (4329, 0.05030850452842141), (4330, 0.01074086863012127), (4331, 0.0), (4332, 0.0), (4333, 0.01194453205958463), (4334, 0.0), (4335, 0.0), (4336, 0.0), (4337, 0.0), (4338, 0.011725136192330496), (4339, 0.0), (4340, 0.011102606416095359), (4341, 0.04443281477833343), (4342, 0.009892120674173591), (4343, 0.0), (4344, 0.02430387084932549), (4345, 0.025922005099567838), (4346, 0.01245423991366104), (4347, 0.011487368378017044), (4348, 0.009872041959715897), (4349, 0.0), (4350, 0.0), (4351, 0.011512053884339436), (4352, 0.0), (4353, 0.03242515082069988), (4354, 0.0), (4355, 0.0), (4356, 0.01985558989172625), (4357, 0.0), (4358, 0.04598622788042746), (4359, 0.02439706570209979), (4360, 0.030815744940548555), (4361, 0.0), (4362, 0.0), (4363, 0.02862230182913101), (4364, 0.010745077591522026), (4365, 0.0), (4366, 0.037105344078408556), (4367, 0.0), (4368, 0.0), (4369, 0.0), (4370, 0.0), (4371, 0.040167808352053185), (4372, 0.0), (4373, 0.0), (4374, 0.035442436036199065), (4375, 0.0), (4376, 0.0), (4377, 0.0), (4378, 0.0), (4379, 0.0), (4380, 0.010924650972880378), (4381, 0.0), (4382, 0.0), (4383, 0.024116308084190706), (4384, 0.0), (4385, 0.0), (4386, 0.0), (4387, 0.0), (4388, 0.06327400516070768), (4389, 0.0), (4390, 0.0), (4391, 0.0), (4392, 0.0), (4393, 0.0), (4394, 0.07307481066441551), (4395, 0.020886741810875135), (4396, 0.012010270618971246), (4397, 0.011947138569593136), (4398, 0.0), (4399, 0.02006390350493264), (4400, 0.0), (4401, 0.0), (4402, 0.009815370732033058), (4403, 0.0), (4404, 0.0), (4405, 0.009756196447619683), (4406, 0.0), (4407, 0.013884707772465164), (4408, 0.0), (4409, 0.0), (4410, 0.0), (4411, 0.0578447437195032), (4412, 0.032012695793896866), (4413, 0.0), (4414, 0.0), (4415, 0.0), (4416, 0.028288452086908545), (4417, 0.0), (4418, 0.0), (4419, 0.0), (4420, 0.0), (4421, 0.02852742038861924), (4422, 0.0), (4423, 0.0), (4424, 0.0), (4425, 0.0), (4426, 0.0), (4427, 0.02132593164279154), (4428, 0.0), (4429, 0.0), (4430, 0.0), (4431, 0.03040601806077537), (4432, 0.0), (4433, 0.0), (4434, 0.0767967387504058), (4435, 0.0), (4436, 0.0), (4437, 0.04935402665693148), (4438, 0.0204685781954342), (4439, 0.0), (4440, 0.0), (4441, 0.0), (4442, 0.0), (4443, 0.0), (4444, 0.0), (4445, 0.023906373284096415), (4446, 0.0), (4447, 0.00973922269242581), (4448, 0.0), (4449, 0.0), (4450, 0.0), (4451, 0.0), (4452, 0.0), (4453, 0.0), (4454, 0.039228330279867156), (4455, 0.012918368049474658), (4456, 0.0), (4457, 0.010695314144940713), (4458, 0.0), (4459, 0.0), (4460, 0.012032424444537919), (4461, 0.0), (4462, 0.0), (4463, 0.0), (4464, 0.0), (4465, 0.0), (4466, 0.0), (4467, 0.0), (4468, 0.009268160075983235), (4469, 0.0), (4470, 0.075922999284703), (4471, 0.0), (4472, 0.010261025769068923), (4473, 0.009244982101067145), (4474, 0.0), (4475, 0.0), (4476, 0.0), (4477, 0.0), (4478, 0.011476966597456853), (4479, 0.0), (4480, 0.0), (4481, 0.0), (4482, 0.01064707786126328), (4483, 0.012805671168982484), (4484, 0.0), (4485, 0.0), (4486, 0.0), (4487, 0.0), (4488, 0.024649264895025252), (4489, 0.0), (4490, 0.012588594540742041), (4491, 0.0), (4492, 0.011531741581871808), (4493, 0.0), (4494, 0.0), (4495, 0.0), (4496, 0.0), (4497, 0.022226824441428778), (4498, 0.019068552287303104), (4499, 0.0), (4500, 0.014186834961785898), (4501, 0.010845567940664668), (4502, 0.0), (4503, 0.038266821104979934), (4504, 0.0), (4505, 0.0), (4506, 0.0), (4507, 0.0), (4508, 0.0), (4509, 0.0), (4510, 0.0), (4511, 0.0), (4512, 0.0), (4513, 0.019879905435880005), (4514, 0.0), (4515, 0.023757456239524608), (4516, 0.04364693081150949), (4517, 0.0), (4518, 0.0), (4519, 0.018666903658762026), (4520, 0.0), (4521, 0.0), (4522, 0.0540621297411472), (4523, 0.0), (4524, 0.0), (4525, 0.026035825277412786), (4526, 0.012244015235921824), (4527, 0.0), (4528, 0.0), (4529, 0.048070095806185), (4530, 0.0), (4531, 0.0), (4532, 0.0), (4533, 0.0), (4534, 0.0), (4535, 0.0), (4536, 0.05106144135361412), (4537, 0.0), (4538, 0.030725283016235606), (4539, 0.0), (4540, 0.0), (4541, 0.04515592079562232), (4542, 0.010494830672550623), (4543, 0.0), (4544, 0.0), (4545, 0.02600677963179027), (4546, 0.0), (4547, 0.0), (4548, 0.0), (4549, 0.0), (4550, 0.0), (4551, 0.0), (4552, 0.0), (4553, 0.0), (4554, 0.0), (4555, 0.0), (4556, 0.0), (4557, 0.02898854852528709), (4558, 0.024223277113376396), (4559, 0.0111429855655324), (4560, 0.0), (4561, 0.0), (4562, 0.0), (4563, 0.0), (4564, 0.0), (4565, 0.0), (4566, 0.0), (4567, 0.0), (4568, 0.0), (4569, 0.041883555206117695), (4570, 0.012832388862657411), (4571, 0.0), (4572, 0.0), (4573, 0.0), (4574, 0.011365720016969642), (4575, 0.0), (4576, 0.0), (4577, 0.0), (4578, 0.0), (4579, 0.0), (4580, 0.0), (4581, 0.0), (4582, 0.0), (4583, 0.0), (4584, 0.033425639050966426), (4585, 0.0), (4586, 0.0), (4587, 0.020233843944522528), (4588, 0.0), (4589, 0.03327816366709651), (4590, 0.009505130373520644), (4591, 0.0), (4592, 0.0), (4593, 0.0), (4594, 0.0), (4595, 0.0), (4596, 0.0), (4597, 0.0), (4598, 0.016749615288251578), (4599, 0.012313675047569295), (4600, 0.009714232072552002), (4601, 0.0), (4602, 0.0), (4603, 0.0), (4604, 0.010792866558712862), (4605, 0.0), (4606, 0.0), (4607, 0.0), (4608, 0.0), (4609, 0.0), (4610, 0.0), (4611, 0.03642615530102696), (4612, 0.0), (4613, 0.0), (4614, 0.0), (4615, 0.0), (4616, 0.0), (4617, 0.0), (4618, 0.0), (4619, 0.0), (4620, 0.0), (4621, 0.028557099969472005), (4622, 0.0), (4623, 0.0), (4624, 0.0), (4625, 0.0), (4626, 0.0), (4627, 0.0), (4628, 0.0), (4629, 0.0), (4630, 0.03437432444018185), (4631, 0.0), (4632, 0.0), (4633, 0.0), (4634, 0.0), (4635, 0.0), (4636, 0.0), (4637, 0.0), (4638, 0.025218818507023143), (4639, 0.03625458559981898), (4640, 0.0), (4641, 0.0), (4642, 0.0), (4643, 0.02472045766071982), (4644, 0.0), (4645, 0.0), (4646, 0.0), (4647, 0.021040178217761885), (4648, 0.0), (4649, 0.0), (4650, 0.08486659049822319), (4651, 0.0), (4652, 0.0), (4653, 0.0), (4654, 0.0), (4655, 0.0), (4656, 0.0), (4657, 0.0), (4658, 0.027333768135441243), (4659, 0.0701252408955985), (4660, 0.0), (4661, 0.0), (4662, 0.011358302256360054), (4663, 0.02380899198547048), (4664, 0.0), (4665, 0.0), (4666, 0.03253576569650131), (4667, 0.0), (4668, 0.0), (4669, 0.0), (4670, 0.0), (4671, 0.0), (4672, 0.0), (4673, 0.0), (4674, 0.0), (4675, 0.04277808688448033), (4676, 0.0), (4677, 0.0), (4678, 0.0), (4679, 0.009332277717077316), (4680, 0.0), (4681, 0.0), (4682, 0.0), (4683, 0.0), (4684, 0.010832477649696371), (4685, 0.0), (4686, 0.0), (4687, 0.0), (4688, 0.06273379885368986), (4689, 0.0), (4690, 0.0), (4691, 0.0), (4692, 0.0), (4693, 0.0), (4694, 0.0), (4695, 0.0), (4696, 0.0), (4697, 0.0), (4698, 0.0), (4699, 0.07296142488885476), (4700, 0.041503709237089716), (4701, 0.0), (4702, 0.0), (4703, 0.0), (4704, 0.037333661547020024), (4705, 0.034360059597052524), (4706, 0.0), (4707, 0.0), (4708, 0.05444838263783113), (4709, 0.0), (4710, 0.0), (4711, 0.012669881867166244), (4712, 0.0), (4713, 0.0), (4714, 0.0), (4715, 0.0), (4716, 0.0), (4717, 0.0), (4718, 0.012039515159717417), (4719, 0.05354437010886629), (4720, 0.0), (4721, 0.0), (4722, 0.0), (4723, 0.0), (4724, 0.0), (4725, 0.012958094680611487), (4726, 0.0), (4727, 0.0), (4728, 0.0), (4729, 0.0), (4730, 0.012787813054616145), (4731, 0.0), (4732, 0.0), (4733, 0.0), (4734, 0.0), (4735, 0.0), (4736, 0.0), (4737, 0.043158071407210646), (4738, 0.0), (4739, 0.0216462300384395), (4740, 0.013936425221299582), (4741, 0.0), (4742, 0.02668021357177286), (4743, 0.0), (4744, 0.0), (4745, 0.0), (4746, 0.0), (4747, 0.0), (4748, 0.0), (4749, 0.0), (4750, 0.0), (4751, 0.0), (4752, 0.007603604153287322), (4753, 0.027403555619224113), (4754, 0.010570315892593213), (4755, 0.0), (4756, 0.0649942278601857), (4757, 0.011147313964335997), (4758, 0.11492420890753376), (4759, 0.03793512353348034)]\n"
          ]
        }
      ]
    },
    {
      "cell_type": "code",
      "source": [
        "len(recommendation_score)"
      ],
      "metadata": {
        "colab": {
          "base_uri": "https://localhost:8080/"
        },
        "id": "njle6twNzJ14",
        "outputId": "3db17b2f-587a-4fbd-b2f1-2fee361a0e30"
      },
      "execution_count": 199,
      "outputs": [
        {
          "output_type": "execute_result",
          "data": {
            "text/plain": [
              "4760"
            ]
          },
          "metadata": {},
          "execution_count": 199
        }
      ]
    },
    {
      "cell_type": "markdown",
      "source": [
        "# **Get All Movies Sort based on Recommendations Score wrt Favourite Movie**"
      ],
      "metadata": {
        "id": "0dnMNCCFzqML"
      }
    },
    {
      "cell_type": "code",
      "source": [
        "#sorting the movies based on their similarity score\n",
        "sorted_similar_movies = sorted(recommendation_score, key = lambda x:x[1], reverse  = True)\n",
        "print(sorted_similar_movies)"
      ],
      "metadata": {
        "colab": {
          "base_uri": "https://localhost:8080/"
        },
        "id": "3uAbOyxgzqVG",
        "outputId": "67ada7b0-d00a-488a-8ee3-b07bbf710560"
      },
      "execution_count": 200,
      "outputs": [
        {
          "output_type": "stream",
          "name": "stdout",
          "text": [
            "[(2851, 1.0000000000000002), (1842, 0.185112154007765), (399, 0.17410875104127688), (1951, 0.1541416167860301), (2873, 0.15217639005994807), (3033, 0.14294341366939736), (2188, 0.13826961272466123), (1771, 0.137217345399716), (2372, 0.1286504148742411), (807, 0.12223784054880153), (2123, 0.1217615212844581), (3820, 0.11866110819617565), (3071, 0.11819772068732619), (2187, 0.11536340042575871), (2464, 0.11511463315096931), (4758, 0.11492420890753376), (642, 0.11212844421607168), (154, 0.11066168627636311), (1646, 0.10845101517900768), (1517, 0.10762660423517009), (3027, 0.10411043487548835), (3046, 0.10294581685162776), (4189, 0.10041950390241319), (4122, 0.10031509514158024), (1490, 0.10028616556773204), (2140, 0.09980220997474615), (116, 0.09906297631171815), (3000, 0.09610129948394655), (3322, 0.09556076930409677), (3684, 0.09180334483949215), (1232, 0.0905963650265361), (2833, 0.08946018657951482), (804, 0.08530881066860195), (4319, 0.08524707353303324), (4252, 0.08490981651283293), (4650, 0.08486659049822319), (1393, 0.0841774318664957), (3189, 0.08334712598174349), (2325, 0.08332094896568493), (2445, 0.08193010002490628), (2775, 0.08129661338226796), (977, 0.08062518389368711), (1895, 0.07937066753962653), (3483, 0.07797008052280885), (1436, 0.07791717748930932), (1007, 0.07752555007288339), (4207, 0.07700873669967487), (2074, 0.07694054212172785), (4434, 0.0767967387504058), (4025, 0.0763983914466677), (2468, 0.07626356981241539), (3812, 0.07612847654665068), (2196, 0.07608256277468568), (1443, 0.07597714938736795), (4470, 0.075922999284703), (1079, 0.07592250506817766), (1294, 0.07559755302321516), (522, 0.07497591548519393), (657, 0.07492743150923914), (2606, 0.07414949060317341), (4074, 0.07380769722272264), (1227, 0.07356617642803143), (2484, 0.073521825649114), (1290, 0.07347756405040416), (2493, 0.07325529900960077), (4394, 0.07307481066441551), (4699, 0.07296142488885476), (2588, 0.0723224236309703), (152, 0.07151425920740774), (1344, 0.07136217508011111), (3685, 0.07089361544188998), (879, 0.07044284644084575), (2659, 0.0704271349008167), (2965, 0.0704019737582434), (4659, 0.0701252408955985), (2720, 0.0697443214132514), (1245, 0.0693856658527156), (953, 0.06827462694148134), (3967, 0.06776954895766743), (3727, 0.06744931735440023), (1782, 0.06735279022657266), (2889, 0.06730572428168996), (4318, 0.06676167517555441), (689, 0.06632705379053425), (3133, 0.06554623122771469), (2022, 0.06528457714006591), (1468, 0.06527440220559977), (651, 0.06518755367989308), (938, 0.06513791145091584), (4756, 0.0649942278601857), (2062, 0.06439512159723507), (3722, 0.06384437828801823), (344, 0.06377403422749126), (1062, 0.06345185419687611), (2958, 0.06337670214629872), (4388, 0.06327400516070768), (752, 0.06314685171733359), (1433, 0.06281686589141844), (4688, 0.06273379885368986), (1122, 0.06264201091869498), (4325, 0.06262734323064008), (3312, 0.06262702169625393), (2929, 0.062194835355969855), (3083, 0.061822275224415704), (1435, 0.06157045126623419), (788, 0.061061685642643374), (2699, 0.06062576257618202), (1157, 0.060471991839229626), (4199, 0.06038843463225657), (1203, 0.05932079225125956), (146, 0.05931315818512499), (3219, 0.0593077360255657), (791, 0.059057359976277424), (2756, 0.05898274928257768), (3017, 0.058940910769253334), (1243, 0.05829426960405321), (691, 0.05822369584667427), (2781, 0.05793387017954474), (2009, 0.05790778294380407), (4411, 0.0578447437195032), (771, 0.057579525643847294), (1086, 0.057320401676414855), (801, 0.05677093963674538), (1555, 0.056175301226061736), (2352, 0.05606554638805408), (2925, 0.05604496584018037), (546, 0.0559947039353674), (3607, 0.055976392972505555), (853, 0.05578005602599034), (1592, 0.05536100060641516), (461, 0.05516881284845136), (1861, 0.05449846300844867), (4708, 0.05444838263783113), (4522, 0.0540621297411472), (1292, 0.05406027982933538), (2377, 0.0540019893201514), (1932, 0.05399791607345919), (1964, 0.053792327844592515), (1657, 0.053744660626430095), (1017, 0.0537429321289547), (4719, 0.05354437010886629), (3563, 0.053488478495019136), (115, 0.05305071577089131), (2223, 0.052969549604085446), (1937, 0.052963407130944246), (1250, 0.05269366658645202), (2269, 0.05267129719859133), (3990, 0.05253800351377476), (2714, 0.052502475172375884), (2710, 0.05238095370729738), (1645, 0.05208997562890172), (758, 0.052079351650178254), (1474, 0.05195414262466788), (405, 0.05153614591508854), (198, 0.051497074703965987), (661, 0.05127262552338807), (4536, 0.05106144135361412), (3656, 0.050957085677748266), (3892, 0.050915226199529894), (652, 0.05074191073365432), (4045, 0.05066022272712844), (2649, 0.0506422622721418), (19, 0.050618671871964754), (3785, 0.05061775610852545), (4262, 0.050412838575326704), (4329, 0.05030850452842141), (1270, 0.050300440637838846), (1973, 0.050276955419382235), (1528, 0.05022092260825693), (2480, 0.050161166343422256), (3790, 0.04996524010831113), (3751, 0.04964146986279881), (761, 0.04961589715859653), (305, 0.04956038425030481), (4437, 0.04935402665693148), (665, 0.04910536704400388), (1501, 0.04883071391449216), (3060, 0.048743700644373764), (1279, 0.048117327328605554), (4529, 0.048070095806185), (3240, 0.04793867406821199), (4167, 0.04747081944263539), (2421, 0.04746641287362904), (1101, 0.04730058092878188), (2736, 0.047236340423519506), (639, 0.04708468594935202), (3456, 0.04706568475828753), (1781, 0.04704616223997471), (2507, 0.04664516121309265), (699, 0.046492660798666374), (859, 0.04631400724884957), (4040, 0.04626297179851444), (3545, 0.04624049747524403), (3593, 0.046200457712072575), (1915, 0.04617932695314465), (2907, 0.046008743581017), (4358, 0.04598622788042746), (365, 0.04595994277038081), (277, 0.04571078230517442), (45, 0.04562444507958086), (4541, 0.04515592079562232), (2150, 0.04511384037735656), (14, 0.04494381396830523), (2185, 0.04478412790223108), (3557, 0.044620601566915205), (1559, 0.04445050174501565), (4341, 0.04443281477833343), (2263, 0.04441930006465303), (302, 0.04413396033042183), (3111, 0.04395962357990032), (3031, 0.043795022121055724), (2298, 0.043668169782395905), (4147, 0.043654354449426815), (4516, 0.04364693081150949), (1621, 0.04362504503063298), (2440, 0.04360793576726679), (1136, 0.04349104264383766), (2790, 0.04338912731211235), (3899, 0.043183548781086434), (4737, 0.043158071407210646), (1513, 0.04311305827658263), (1613, 0.04304904603317783), (3117, 0.042803675663218334), (4675, 0.04277808688448033), (2672, 0.042662637552851816), (2841, 0.04264184209963229), (4194, 0.04258337082831379), (712, 0.0424718569765544), (2617, 0.04238356482966837), (340, 0.04208203989266561), (2375, 0.042033569454876615), (1889, 0.04201810881691457), (4569, 0.041883555206117695), (1217, 0.041838939556364516), (4240, 0.041768027621936404), (1817, 0.04176219421454346), (1249, 0.04157324707039997), (4097, 0.04155173042248653), (860, 0.0415394337581797), (4700, 0.041503709237089716), (297, 0.0414363347632596), (301, 0.04143086767481953), (785, 0.0412916850152569), (3338, 0.0412279082489556), (2772, 0.04118444127273764), (298, 0.04091381632591791), (3524, 0.040905589536094286), (2817, 0.04079809116904339), (2357, 0.040701046827330806), (2371, 0.04057664907002669), (1940, 0.04049443187501987), (3056, 0.04049019666888645), (2511, 0.04047303490521349), (78, 0.04040250581055551), (3587, 0.04038611275556459), (2909, 0.0403641274166769), (2494, 0.040255319804183703), (3546, 0.04022849679926958), (4371, 0.040167808352053185), (1499, 0.04013354588027262), (3076, 0.04011520021212372), (3063, 0.04002715707210597), (1368, 0.039931912917447875), (3877, 0.0399172706883059), (3539, 0.03990671949149158), (2830, 0.03990099329178234), (410, 0.03983690467731425), (4210, 0.03972689708690921), (1362, 0.03971656600958567), (1009, 0.03958156109068076), (4089, 0.03950731516380368), (4286, 0.039476126409537945), (2539, 0.03939609044591155), (971, 0.03938248303893871), (2937, 0.039242153656691134), (1142, 0.03924140297925272), (4454, 0.039228330279867156), (299, 0.039160294023615504), (2884, 0.039113776554543594), (4197, 0.039005098302613166), (562, 0.03896469007031817), (1213, 0.03887305682579215), (4007, 0.038858519291806386), (2952, 0.03877742734271353), (1198, 0.03876972341845705), (961, 0.03875502694326366), (3080, 0.038752683282345005), (2667, 0.038742242785920984), (1206, 0.038689246210702466), (1335, 0.03864208747381955), (4090, 0.03863274238826303), (2397, 0.038589411520074224), (430, 0.0385884018389282), (1379, 0.03856872749106942), (3333, 0.038491065463006645), (1476, 0.03844156794410807), (451, 0.03842638571149154), (686, 0.038425106534007505), (2831, 0.03842508254250077), (1300, 0.038374044580507714), (435, 0.03835441969241245), (2923, 0.03830797721548826), (4503, 0.038266821104979934), (3289, 0.03826473090637199), (2609, 0.038240431698239645), (2290, 0.03822404356820633), (1166, 0.03818234013167008), (2019, 0.0381177336444702), (1489, 0.03807295349351484), (3132, 0.03801087056669105), (345, 0.03795989124336799), (183, 0.03795673913553395), (105, 0.03794607054019646), (4759, 0.03793512353348034), (3215, 0.03785359862828428), (2349, 0.03783832658093827), (1867, 0.037786376267145906), (2287, 0.03776195052807457), (1757, 0.037691214256481184), (2797, 0.03751798461962045), (3626, 0.03749814192600487), (3134, 0.03741911400433299), (4704, 0.037333661547020024), (2660, 0.037318146890352864), (300, 0.03731413249996142), (2111, 0.03728435251225247), (4366, 0.037105344078408556), (2778, 0.03706388206561019), (3477, 0.03702398889032492), (3191, 0.03690953760562593), (2431, 0.03689886036097207), (95, 0.03687942591086447), (2673, 0.03677683632078158), (2808, 0.03676626445142773), (3809, 0.03673277094189317), (3269, 0.03665142390157846), (1682, 0.036642069812848815), (1130, 0.036586999150082504), (4303, 0.03655066333466974), (4611, 0.03642615530102696), (984, 0.03639419759989031), (1138, 0.03626671774826208), (4639, 0.03625458559981898), (2086, 0.0362147910934561), (1175, 0.03618174712578496), (3533, 0.036158351169425805), (2777, 0.03612971283924209), (1256, 0.03612552769407745), (392, 0.036118999154052686), (3149, 0.03601472146031792), (2793, 0.035957822278605334), (384, 0.03595524339533705), (518, 0.03593450294374758), (3503, 0.03591817468387689), (3492, 0.0358078004352002), (2050, 0.03571682719911257), (1654, 0.03564021824375725), (656, 0.03559684034734364), (1255, 0.03547657486567435), (463, 0.03545929433494813), (4374, 0.035442436036199065), (1787, 0.03536384836726398), (3396, 0.03535575345516298), (1587, 0.035268074350287434), (3715, 0.03526391376324579), (1291, 0.03525777917962159), (2887, 0.03522830619567804), (939, 0.03521746447174212), (524, 0.03520974505089801), (2207, 0.03513815501288109), (2796, 0.03507859523974184), (90, 0.03505853495205413), (569, 0.03505744360330243), (4287, 0.03500520757250229), (137, 0.03488423050429526), (931, 0.03474324981806217), (1353, 0.034716618321715825), (3680, 0.03466167345032704), (1928, 0.0346535019650335), (2459, 0.03460606102762119), (1690, 0.03457993609512886), (3152, 0.034532427488525086), (724, 0.03452750866698541), (981, 0.034445602168361), (4630, 0.03437432444018185), (4705, 0.034360059597052524), (1537, 0.03435095274949146), (93, 0.03433858882946302), (2554, 0.0343022099849953), (2433, 0.03429854297088281), (2479, 0.034228472508098254), (2719, 0.034176507733747294), (2813, 0.0340752340001524), (1486, 0.033756894727493866), (3594, 0.033748990602366476), (1950, 0.03370775754841456), (781, 0.03366324594634721), (545, 0.03361101657464163), (2577, 0.03358579745821138), (1634, 0.03358200240612087), (894, 0.03356455707033992), (836, 0.0335555043009138), (1803, 0.03347505607979846), (2378, 0.0334598560315377), (3167, 0.03343792032801905), (4584, 0.033425639050966426), (179, 0.033418340615818186), (678, 0.03341605792769314), (3725, 0.0333823551037364), (1318, 0.033299332611876516), (4589, 0.03327816366709651), (3744, 0.03325883966531819), (3771, 0.03320018474932871), (2415, 0.03316084663371441), (2869, 0.03311718459756341), (2460, 0.03306699953087901), (94, 0.03292366621780032), (2842, 0.03280517962972203), (3007, 0.03274607243917923), (4162, 0.03272460311703253), (842, 0.03267523324984089), (2688, 0.03265548368422928), (1958, 0.03262725674677207), (3996, 0.03258391097253461), (4666, 0.03253576569650131), (206, 0.03251534789875357), (2070, 0.032454572200843496), (876, 0.03245236382500684), (4353, 0.03242515082069988), (498, 0.03241636754017429), (52, 0.032396908362410826), (2473, 0.03238312627652784), (1207, 0.03236981662269687), (1521, 0.03235086859718974), (1312, 0.032288467577200844), (1673, 0.03225526429684308), (1698, 0.03225121098450858), (1487, 0.03223849503813242), (1581, 0.03219932649492144), (2619, 0.03218084997605985), (2157, 0.03217231800905496), (827, 0.0321437169551834), (2089, 0.03211183693196403), (1148, 0.0321013064092311), (64, 0.032045216917798866), (4412, 0.032012695793896866), (2740, 0.03201229569445522), (3094, 0.0319762380170878), (1745, 0.03195821130923493), (2903, 0.031884254181948145), (3012, 0.03187626504568909), (2427, 0.031743605645072476), (1571, 0.031632881680470085), (3857, 0.03157898914910806), (4078, 0.03154855591148268), (687, 0.03154397806286384), (1960, 0.03147937078933478), (2322, 0.031253806109336334), (597, 0.03125304519136779), (2739, 0.031201318568779418), (2274, 0.031176302774094618), (4277, 0.03103517457636749), (424, 0.031029350568155367), (1905, 0.030997147548774664), (4317, 0.030989009642313204), (2523, 0.030982844477421178), (1025, 0.03098219875097931), (1611, 0.030976928533275164), (4203, 0.03097556829070489), (3190, 0.03096522164122685), (1306, 0.030952746962294813), (3163, 0.030946090722077328), (2645, 0.030928517934537405), (905, 0.03091246547936565), (4360, 0.030815744940548555), (2025, 0.030800444129422525), (1074, 0.030746372322783953), (4538, 0.030725283016235606), (1890, 0.030676404663605664), (3184, 0.030537690137735864), (3804, 0.030484890779035996), (2457, 0.030479026559724412), (4060, 0.030453516052790494), (4111, 0.030436718251826603), (3273, 0.030424505875005184), (4431, 0.03040601806077537), (3828, 0.030393696414435192), (2218, 0.03038156989330901), (3438, 0.030352606905455312), (3888, 0.03032878943429295), (1201, 0.030264206980792095), (4289, 0.030261182037601878), (3434, 0.030247570500019354), (792, 0.030243618800757897), (748, 0.03016957604588359), (2463, 0.030129831726340685), (1829, 0.030092888441397805), (1454, 0.030016455518758235), (3305, 0.0299606325651142), (2959, 0.029930765808843227), (820, 0.02993002975149429), (3334, 0.02991413280239809), (273, 0.029745189038692502), (3127, 0.029691048341975494), (1261, 0.02967746150147169), (520, 0.029605130116494564), (34, 0.029585177768751914), (1969, 0.029580957794258615), (3588, 0.029527218119916435), (3666, 0.029521018480091657), (3124, 0.029518451042677325), (3142, 0.029518241928441262), (2151, 0.029475925809117315), (1441, 0.029460272709414582), (1952, 0.029427785183702784), (772, 0.029405904475128017), (1390, 0.029401409469867686), (246, 0.029400920734849387), (1089, 0.029379817377955326), (1479, 0.02930916991247024), (1524, 0.02927518811784919), (2779, 0.029261115348016356), (1001, 0.029213921344324382), (2940, 0.029209469495505437), (2, 0.029175928462707112), (3422, 0.02916038813826194), (75, 0.029100786809105543), (3206, 0.02907672351851122), (1710, 0.029035588541614688), (2094, 0.029006139139560284), (4557, 0.02898854852528709), (126, 0.02892057963059834), (2931, 0.02891486516046876), (660, 0.028878566078927272), (3510, 0.028808743775741), (1103, 0.028795909674425354), (2385, 0.028783454528771336), (1510, 0.028702868755618796), (2162, 0.02869698096998324), (3670, 0.028674798082227986), (848, 0.02867346453907508), (621, 0.02866783570339636), (2266, 0.028650140191336857), (2342, 0.02864802325502308), (4363, 0.02862230182913101), (4621, 0.028557099969472005), (4421, 0.02852742038861924), (2090, 0.028521617877468496), (3426, 0.02851393389498351), (749, 0.028448823505768488), (795, 0.028404782552778042), (588, 0.028397456560313523), (1124, 0.02833242925576704), (2281, 0.02832465620970933), (1542, 0.028294240006753128), (3392, 0.028292234363115197), (4416, 0.028288452086908545), (610, 0.028268363504015518), (3570, 0.028253849414457695), (4027, 0.028217713802516965), (3182, 0.028162542727883266), (2635, 0.02815931578444736), (1516, 0.02814426949427212), (2770, 0.028118020505937265), (237, 0.02810867627991637), (1794, 0.028047755088744672), (2954, 0.027988078929421928), (3195, 0.02797952478927643), (3602, 0.02795580298348492), (249, 0.027927934911526217), (2034, 0.02791516767817679), (1869, 0.027752515105123082), (2574, 0.02771499912310408), (3507, 0.027702014196281627), (2824, 0.02769950503887121), (2374, 0.0276961087847224), (1850, 0.027674030861663215), (380, 0.027608496209710252), (3531, 0.02757672806288013), (2519, 0.027564386486734163), (1494, 0.027529524556522113), (3108, 0.02751106585570663), (4216, 0.02747648976487143), (3028, 0.027474931338285127), (3006, 0.027412023811530378), (4753, 0.027403555619224113), (932, 0.027400831739073074), (2642, 0.02739274895242339), (3582, 0.027389708280923342), (2570, 0.02738552158657276), (3225, 0.02738406345343303), (4658, 0.027333768135441243), (2646, 0.027321263026366203), (3662, 0.027314509642273655), (2447, 0.0273126599422734), (3073, 0.027276592910607363), (1285, 0.02722022639526079), (553, 0.027209501985607232), (1273, 0.027058994093436473), (2663, 0.027027985637206035), (3700, 0.02700601437717492), (1500, 0.027001655107194218), (3067, 0.02699729176239465), (2924, 0.026984669993831013), (1272, 0.02692642795823511), (443, 0.0269123938930157), (421, 0.026888577374498658), (1110, 0.026861861180247068), (3403, 0.026854782100813067), (1388, 0.026839101399780296), (747, 0.026793688005532192), (1321, 0.02677883556495663), (1419, 0.026754585097452623), (3890, 0.026746485903715263), (726, 0.026727612671392086), (3982, 0.026716043073448006), (3574, 0.02670212498979147), (4742, 0.02668021357177286), (567, 0.02664936857521156), (985, 0.02661668197627245), (1422, 0.026608207421042317), (2853, 0.026588854442263925), (2552, 0.02658186275192406), (1883, 0.026550940008752542), (1618, 0.026461541705505926), (1107, 0.02645310342956219), (1692, 0.026440161321085374), (3611, 0.026437487291089173), (1247, 0.026395300705692838), (69, 0.02638760812366272), (1002, 0.026341087952413373), (2331, 0.02632511521677664), (2681, 0.026273231658723455), (1789, 0.026254246728420198), (741, 0.026250979000265833), (3886, 0.02624514057109539), (4101, 0.026230096712120784), (1696, 0.026204286846791026), (3110, 0.02617495397106407), (2945, 0.02615817258173861), (2097, 0.02615200177944928), (539, 0.02614955219685597), (4176, 0.026143359670155655), (3356, 0.026132174003359973), (3916, 0.026118762453225964), (746, 0.026095490118438404), (514, 0.026062078738704145), (1594, 0.026051217095562365), (217, 0.026046265029116812), (4525, 0.026035825277412786), (4545, 0.02600677963179027), (1015, 0.025978323275507337), (3736, 0.025962876730636807), (2840, 0.025951012974241593), (2224, 0.025931923537295173), (4345, 0.025922005099567838), (2190, 0.02590466068810301), (2572, 0.02588725015958719), (1695, 0.025872388626154187), (3953, 0.025868866403773637), (1481, 0.025863952611128734), (1759, 0.02582130088029235), (4269, 0.02577794174606671), (3797, 0.025748073795162835), (872, 0.025728035085338108), (3705, 0.02572741790006115), (3904, 0.02570515504582202), (3387, 0.025694315710400786), (1579, 0.025687651448326052), (1605, 0.025685956205956928), (2446, 0.02567757892201619), (236, 0.02566980112629491), (3458, 0.025580277270210457), (680, 0.025558015000293234), (964, 0.0255530964375422), (1351, 0.02555147623535331), (3498, 0.025532476532437447), (2044, 0.02552731407949731), (4304, 0.025517707949867668), (1004, 0.025483881812362507), (70, 0.025449325571834606), (796, 0.02544813178420062), (2636, 0.025438001089565045), (3747, 0.025382645683915902), (1893, 0.025347603488631486), (1752, 0.025342779564309907), (2679, 0.025286874250812264), (408, 0.025265109024014538), (3077, 0.025236005204876198), (4638, 0.025218818507023143), (3864, 0.025218038999331855), (3610, 0.02521584582795126), (173, 0.025187163812811095), (192, 0.025165780182783096), (3893, 0.02513622841679716), (742, 0.025119312980995186), (202, 0.02510589146045194), (1935, 0.025094443563623784), (3418, 0.025089201968787993), (3241, 0.02507197504512458), (1626, 0.02505022164015643), (3304, 0.025033192056298108), (386, 0.025024455198869127), (974, 0.02501589275829629), (1795, 0.02499781791756645), (1568, 0.024938587628975117), (1575, 0.024913215508204505), (1614, 0.024891494656747677), (1014, 0.024874109556957364), (1765, 0.024855807368198975), (980, 0.024838077536242956), (1339, 0.02473181899935166), (1407, 0.024726823933099645), (1823, 0.024724535456278847), (4643, 0.02472045766071982), (2821, 0.02470131803680407), (540, 0.024663328170457185), (4488, 0.024649264895025252), (509, 0.024645671249862257), (2161, 0.024616592518491173), (1080, 0.02460173033822092), (3542, 0.024588700426992478), (2270, 0.024565524213327593), (2587, 0.024533919559488044), (1740, 0.024515455880625828), (178, 0.024476869243771987), (477, 0.024450485179820063), (3969, 0.024443677803251847), (4359, 0.02439706570209979), (1833, 0.024345747765319548), (3769, 0.024328314269209984), (4344, 0.02430387084932549), (3474, 0.024282082957103678), (756, 0.024276437084841125), (3098, 0.02427610592527752), (3362, 0.024272098857596323), (2085, 0.02424218916832843), (4558, 0.024223277113376396), (393, 0.024200855491675905), (1173, 0.02418312055143741), (494, 0.02414268926370648), (4383, 0.024116308084190706), (723, 0.024068797305577046), (1297, 0.02405249661790042), (3416, 0.02400987989814582), (3301, 0.024003251101217676), (965, 0.02397981676360243), (4445, 0.023906373284096415), (1238, 0.02386854484980193), (65, 0.0238319107610025), (3683, 0.023817384359553922), (4663, 0.02380899198547048), (2761, 0.02379060503182284), (2592, 0.02376841117173324), (155, 0.023763232689850804), (4515, 0.023757456239524608), (2825, 0.02374110353425493), (2073, 0.023713800106888252), (374, 0.023710967708354964), (2788, 0.023688107313565243), (3386, 0.02357600258446078), (1844, 0.02357140566686714), (1998, 0.02354859074239024), (633, 0.023543630250062304), (4140, 0.023458224257465965), (30, 0.023446610183816732), (3155, 0.023427003967293664), (4258, 0.023392817584111124), (378, 0.02336748917578841), (3813, 0.023294936821093223), (1873, 0.023290866844745333), (2697, 0.02327591051455645), (2621, 0.023249194191756535), (2387, 0.023217239350958267), (1347, 0.023212853825864525), (2195, 0.02320648624085337), (4268, 0.023173865482957714), (2204, 0.023166284232428072), (2014, 0.023142120512178174), (3270, 0.02311654523535471), (4086, 0.023102943082215797), (156, 0.02309671512649123), (2876, 0.023089588472185094), (1230, 0.02306714153239065), (3553, 0.023060551775068067), (3568, 0.02304789667084435), (1545, 0.0230454880563766), (18, 0.023044349700439632), (3575, 0.02296937483137819), (3965, 0.022951936332082534), (1550, 0.022943632930214383), (3989, 0.022904723541876944), (989, 0.022885668470669716), (3461, 0.02288536841254172), (1082, 0.02285191083093941), (1073, 0.02284797835679704), (4173, 0.022842734713335845), (1132, 0.0228395203087021), (1691, 0.02280140529025697), (2393, 0.022784111340258283), (1211, 0.022771977106605036), (3712, 0.022764586411592083), (2481, 0.02275798681360005), (3023, 0.022737490612132143), (877, 0.02273694956723895), (113, 0.022734185125095095), (4309, 0.022710099083393512), (3021, 0.0226812104630659), (2677, 0.022670406298328623), (2303, 0.022665753298764364), (1464, 0.02264609633284395), (1116, 0.02261794799034347), (4169, 0.022614509331982818), (1578, 0.022612481005340485), (3994, 0.02261145832405311), (1389, 0.0226083161985703), (622, 0.022558704870030047), (1098, 0.022543774447118976), (1793, 0.022524709107802174), (541, 0.02250586101125704), (816, 0.02250145636487531), (3788, 0.022464530365503825), (565, 0.022446401609277883), (3208, 0.022443201860150985), (3660, 0.02243798397660529), (213, 0.022367459884113854), (921, 0.02236653608470526), (935, 0.022353141170091736), (2742, 0.02231295754924738), (1152, 0.022280422285351938), (475, 0.02226538863012282), (2531, 0.02225042804390141), (4497, 0.022226824441428778), (2897, 0.022224715422234018), (3214, 0.022213586919464057), (611, 0.02220872794240013), (2650, 0.022181955413314483), (558, 0.022160680042198705), (2962, 0.022141755912814295), (757, 0.0220832964198768), (80, 0.022020133190469186), (1557, 0.02193830045861183), (2988, 0.021896339043846927), (266, 0.021876293076620357), (2899, 0.02187270776939377), (2033, 0.021860065727639277), (2210, 0.02182892894709089), (3912, 0.02181202184043323), (1777, 0.021810773126494494), (67, 0.02179236876771161), (4135, 0.021774290727426534), (2578, 0.021748920657769018), (3311, 0.021739283906164173), (528, 0.021738951487853327), (3272, 0.0217293809289216), (1425, 0.02171905374298871), (4739, 0.0216462300384395), (3303, 0.021604473815551948), (658, 0.021558162256276152), (1706, 0.021544344051180657), (2449, 0.021488161563736195), (304, 0.0214517015259556), (1814, 0.021423923881740043), (3926, 0.021384200161074347), (2774, 0.0213536207315609), (1298, 0.021350819592882063), (346, 0.02133375438775845), (4427, 0.02132593164279154), (3738, 0.021282371187943933), (4164, 0.021249311750290642), (1584, 0.02124922325971069), (946, 0.021245856512859575), (3807, 0.021237950870782868), (1678, 0.021108729681716246), (2512, 0.021077683915842534), (1913, 0.021069000950274232), (4647, 0.021040178217761885), (4290, 0.02100044150769187), (1485, 0.020992500942447898), (82, 0.020979338422468036), (2718, 0.020972365804720915), (1084, 0.020920112568383387), (4395, 0.020886741810875135), (4218, 0.02088363580987796), (3090, 0.020876611274245723), (404, 0.02083534660789919), (2216, 0.02080656282887602), (1780, 0.020773694541672435), (2401, 0.020749244215886496), (559, 0.02072940605855432), (3370, 0.020723670902312776), (2461, 0.0207005370464498), (662, 0.020700139002835634), (625, 0.02068125923804787), (1648, 0.020645786931095006), (269, 0.020621399144193243), (2612, 0.020619480211427788), (1463, 0.020584681461695984), (495, 0.020579521627277605), (2100, 0.020529711715356135), (1067, 0.02047705613572419), (4438, 0.0204685781954342), (1767, 0.020394075159361643), (403, 0.020369611491113434), (1744, 0.02036737538335753), (3390, 0.02034193432261507), (2762, 0.02033753741351113), (713, 0.020326276365212538), (3868, 0.020313528480573984), (1878, 0.020271538712839297), (4587, 0.020233843944522528), (2711, 0.020200755646800208), (3646, 0.020187726147858583), (3509, 0.02018718835894949), (1496, 0.020174993085331532), (1428, 0.020124750176292786), (1783, 0.020088427151418804), (1342, 0.02006824727233858), (414, 0.020067382264588627), (4399, 0.02006390350493264), (2615, 0.019943933967039255), (3121, 0.019938640289208772), (3137, 0.019926856113777664), (2183, 0.019909272031221736), (2327, 0.019905452976114388), (4513, 0.019879905435880005), (4356, 0.01985558989172625), (3753, 0.019778340811911387), (1610, 0.019766949473943106), (3344, 0.019760501928332546), (2584, 0.019685879409514467), (3756, 0.01965801535492813), (1979, 0.019644556025087936), (3674, 0.01964098025269054), (1529, 0.019601981245049614), (920, 0.01959955010939265), (1308, 0.019587686371599907), (1354, 0.01958449518287621), (2039, 0.019572131389555367), (1714, 0.019519710037390677), (3213, 0.01950427004599092), (1784, 0.019495553992966742), (2135, 0.019469415805866214), (511, 0.019444158818116435), (2359, 0.019420621590312007), (2789, 0.01934060248994843), (1840, 0.019316224034133727), (2976, 0.019232727191869577), (149, 0.019214260270103718), (4015, 0.019193730799189523), (563, 0.019143558490954716), (2509, 0.019120968673081818), (4498, 0.019068552287303104), (912, 0.018773704919026128), (2908, 0.018698153413297627), (4519, 0.018666903658762026), (1482, 0.018661597402599664), (1925, 0.01853299729475021), (242, 0.018484820196900054), (357, 0.018320184868095463), (1546, 0.018263714443796597), (1523, 0.018239786698130124), (3752, 0.018239616025139814), (2981, 0.018135649062150795), (2622, 0.018011828707981885), (2035, 0.017985100970028305), (2603, 0.017931314921962066), (58, 0.017901621792190264), (3205, 0.017876234121223907), (195, 0.017844520477399477), (196, 0.01783196006138066), (2877, 0.017823530125008546), (453, 0.017792153122839653), (709, 0.017777408942848846), (1981, 0.017729417879740725), (1221, 0.01765013578859621), (738, 0.01748926806970713), (527, 0.016996857681019214), (4598, 0.016749615288251578), (1677, 0.016702480729532766), (108, 0.01655437908018826), (3199, 0.016440378240422868), (831, 0.01642610382573057), (1509, 0.016417688529891793), (2760, 0.01629489221679884), (2998, 0.016115855734539827), (3144, 0.015896658447434535), (2379, 0.015492453916799378), (2358, 0.015468651512105884), (2443, 0.015281005199007061), (4021, 0.015003579146960898), (824, 0.014867367736602334), (3796, 0.014847150965381063), (2365, 0.014594132993360924), (2275, 0.01437500118490614), (3204, 0.014370064952046884), (4500, 0.014186834961785898), (2448, 0.014019450763823925), (3835, 0.014013557171305962), (2521, 0.013975834574809488), (2199, 0.013973803282574686), (4740, 0.013936425221299582), (4407, 0.013884707772465164), (2643, 0.013883463918048415), (2257, 0.01382097255070756), (3078, 0.013794339010830235), (2901, 0.013782618286454065), (2154, 0.013750263571959792), (391, 0.013748582019945917), (2530, 0.01364394745366907), (3472, 0.013600010295263755), (2656, 0.013553797491351867), (2423, 0.013528608430599184), (1711, 0.013461785103231177), (3671, 0.013362526241820686), (3616, 0.013349257205733857), (4242, 0.013336231299257336), (3613, 0.013240765290770532), (4271, 0.013134793377987624), (2568, 0.013129120139326872), (2857, 0.013103033200024398), (3620, 0.013071787040335564), (3089, 0.013042801553840515), (2927, 0.013008709472175759), (3554, 0.012994829420804257), (2488, 0.012972711763498367), (4725, 0.012958094680611487), (4455, 0.012918368049474658), (1168, 0.012890758315676173), (4570, 0.012832388862657411), (2351, 0.012813358906515904), (4483, 0.012805671168982484), (4190, 0.012802870831955712), (4730, 0.012787813054616145), (1615, 0.012712412218788837), (4711, 0.012669881867166244), (3763, 0.012651364889041845), (3081, 0.012633490590690126), (153, 0.012616885610326244), (4490, 0.012588594540742041), (4031, 0.012548898383598822), (2273, 0.012528858302151146), (3540, 0.012520545428969191), (1466, 0.012514358403508641), (3256, 0.01251364413980917), (2406, 0.012468621990224638), (1968, 0.012465927441307896), (4346, 0.01245423991366104), (2261, 0.012443117204259738), (1758, 0.012413343876099879), (4010, 0.012386548328772336), (508, 0.012343281304204031), (4599, 0.012313675047569295), (3858, 0.012309974841447798), (753, 0.01230494927220816), (4526, 0.012244015235921824), (3506, 0.012242765615104845), (2267, 0.012240038198216056), (679, 0.012233556813790935), (2555, 0.012207312958352645), (3473, 0.012192707048737948), (1713, 0.012189758889238022), (1843, 0.012175618549920216), (1999, 0.012126127874980665), (1011, 0.012123399399684792), (2532, 0.012118987048442392), (2079, 0.012117673688960301), (576, 0.012101271600221484), (2982, 0.012080273749747517), (3822, 0.01205338428010781), (4187, 0.012044455866217224), (4718, 0.012039515159717417), (4160, 0.01203582978508739), (2579, 0.012032723169701234), (4460, 0.012032424444537919), (2810, 0.012031047187275646), (2916, 0.012024260738427077), (2799, 0.012014939946759269), (2485, 0.012013921518118831), (4396, 0.012010270618971246), (3221, 0.012006519137978202), (2400, 0.012006141136678963), (308, 0.012004090234153726), (3505, 0.011996763829081363), (2381, 0.011968671659810212), (2782, 0.011949688724928619), (4397, 0.011947138569593136), (4333, 0.01194453205958463), (3817, 0.011941571074753946), (3003, 0.011925085138915345), (4259, 0.011923977755396508), (3682, 0.01191919107220601), (4034, 0.011909487127689593), (2806, 0.011888641936781396), (1460, 0.011884084091047905), (3735, 0.011878936654117541), (2921, 0.01187767163474004), (362, 0.011852226280459616), (2176, 0.011850440115636513), (1766, 0.011846003597179884), (715, 0.011845855326040326), (2049, 0.011834618537474468), (3444, 0.011833046923292847), (3581, 0.011800750489229588), (3116, 0.011796344313834636), (2854, 0.011788992099445629), (1923, 0.011788973232169191), (700, 0.011777689713621146), (2390, 0.011768132947443848), (3001, 0.011763294002657973), (688, 0.011758994035865705), (3816, 0.011755937045111301), (385, 0.011750887542257973), (2717, 0.01174411122894005), (3695, 0.011741784251697373), (3628, 0.011738959793638357), (3234, 0.011733827992461511), (363, 0.011730266953565936), (4338, 0.011725136192330496), (2112, 0.01171601047534688), (3181, 0.011697771720550903), (4196, 0.011688733191573372), (1554, 0.0116871551608199), (2604, 0.011682447255010045), (2614, 0.011656120994276549), (2082, 0.011645797116503006), (2410, 0.011644986003023971), (3938, 0.011639315063612123), (956, 0.01163004396901723), (802, 0.011614800654102633), (794, 0.011601169165850071), (3704, 0.011600684537486807), (3497, 0.011598016511066199), (2171, 0.011597031788522106), (1246, 0.011596912011459308), (896, 0.011596125010020344), (1640, 0.011594375993832926), (1600, 0.011583522155721273), (4118, 0.011576250747657108), (341, 0.011558614337469896), (3516, 0.011544565998142034), (3112, 0.011543335151478124), (3943, 0.011538728695327322), (4492, 0.011531741581871808), (2451, 0.0115294330640974), (2637, 0.011525448867390944), (1520, 0.01152369094443354), (4351, 0.011512053884339436), (3642, 0.01151080733618161), (1731, 0.011509036875905937), (2462, 0.011501947450881888), (2316, 0.011498351779811223), (4347, 0.011487368378017044), (1683, 0.011487299063401058), (2260, 0.011483565005419352), (3728, 0.011479215151414727), (4478, 0.011476966597456853), (1141, 0.011472069267293033), (3086, 0.011467049313740166), (413, 0.011462982605457866), (2729, 0.011452614597974748), (1333, 0.011447583466934655), (3457, 0.011444444161472502), (2704, 0.011442470133372002), (2283, 0.011439896030962533), (3846, 0.01143963938664837), (1518, 0.011432382390174054), (3236, 0.011417350277784576), (3297, 0.011406591956622497), (361, 0.01139525410914724), (2661, 0.01139524098407953), (3084, 0.011385527183729937), (485, 0.011375584746048405), (2516, 0.011374279861595157), (3774, 0.011366748119113491), (1140, 0.011365752833038752), (4574, 0.011365720016969642), (2337, 0.011365303858024166), (4662, 0.011358302256360054), (227, 0.011344418780064636), (1013, 0.011342846478712107), (1531, 0.011342416107045644), (2391, 0.01133740140326123), (2963, 0.011333912666637525), (3780, 0.011333891904797364), (1119, 0.01133329206703859), (3631, 0.011325738184871618), (1737, 0.01132308510389034), (470, 0.01132190878068477), (1328, 0.011320337590554811), (3109, 0.011305201072966894), (1670, 0.011298570714167167), (3187, 0.011296629649971062), (2419, 0.011278091157830555), (1955, 0.011275921520618034), (1336, 0.01127161702737108), (612, 0.011270237807791574), (2147, 0.011267133431613724), (2208, 0.0112506215367366), (3464, 0.011250032830133878), (456, 0.011246458266140562), (205, 0.011240161388161547), (2330, 0.011223227324423907), (193, 0.011223153765605781), (1918, 0.011212418828708078), (3871, 0.011204301100793632), (4033, 0.011198522436072996), (1225, 0.011198229990833008), (3259, 0.011194784798219264), (717, 0.011194689671375437), (3388, 0.01118408399648327), (4136, 0.011182889392673876), (891, 0.011181528907454346), (1841, 0.011165095075418434), (2259, 0.011159692826185095), (1902, 0.011157478579470644), (2319, 0.011151865072818757), (3229, 0.011148955722392799), (1911, 0.011147863367855159), (4757, 0.011147313964335997), (2054, 0.011146074702013552), (3242, 0.011144647688112), (4559, 0.0111429855655324), (3536, 0.011138427432749327), (1602, 0.011137804192482384), (1155, 0.011133777376115057), (1402, 0.011131014542596792), (2675, 0.011127642019774755), (1195, 0.011127495915942004), (1233, 0.01112207933926944), (1165, 0.011119742290404732), (3847, 0.011118185133912469), (845, 0.011112935812347732), (4340, 0.011102606416095359), (270, 0.011101591218257057), (3287, 0.011097574614185117), (204, 0.011089784233832696), (3018, 0.011085540409131501), (1229, 0.011082017642246353), (2456, 0.011079632187541193), (797, 0.011078275453962975), (120, 0.01107117595746021), (2332, 0.01106240841523886), (1961, 0.011058896242390377), (730, 0.01105341483240556), (1697, 0.011049767521577623), (1534, 0.01104730171904967), (2668, 0.011045398311342797), (2405, 0.011040271315307762), (517, 0.011031164767504553), (2856, 0.011026088112436208), (3849, 0.011025222351553524), (2466, 0.011024566558976066), (447, 0.011022317808904262), (1726, 0.011015758504527887), (245, 0.011011193606337311), (987, 0.011010040798740708), (1525, 0.011006484019061175), (3701, 0.011005253096294854), (637, 0.010992310253610232), (11, 0.010992268650837975), (4146, 0.010991537434513785), (918, 0.010985180465622777), (4168, 0.010978962535789701), (3632, 0.010972534717644755), (1936, 0.010971510372123832), (1382, 0.01095664956810064), (2030, 0.010955161285535066), (806, 0.0109544387346589), (1182, 0.010952489533813685), (2582, 0.010951499262254775), (3606, 0.01094530873798317), (1085, 0.010943729453058614), (1704, 0.01094273715080712), (2708, 0.010942061208709816), (3153, 0.010930687249426283), (472, 0.01092818637155947), (2334, 0.010925739283930865), (4380, 0.010924650972880378), (219, 0.01092226225193945), (1495, 0.010921459900968166), (1768, 0.010913723784096102), (743, 0.010907895280234628), (3643, 0.010905533377453269), (1361, 0.010904441497013409), (814, 0.01090417565664971), (2896, 0.010901217964837551), (865, 0.010899478865803992), (809, 0.010897709776964344), (1204, 0.010891598937086498), (2430, 0.010891368410199194), (2041, 0.010886876987389965), (401, 0.010879958738854735), (3650, 0.010877243075843356), (2549, 0.010872547999633204), (1431, 0.010869603197815589), (846, 0.01086930807200482), (42, 0.010857719260326703), (3209, 0.010856201701968646), (2652, 0.010852586762377955), (909, 0.010849813717797583), (1769, 0.010848003751411974), (3335, 0.010846276354677975), (4501, 0.010845567940664668), (908, 0.010844190068642555), (1522, 0.01084018865098392), (4684, 0.010832477649696371), (2335, 0.010829732083411996), (2414, 0.010820914567165097), (312, 0.010809160427977324), (3482, 0.0108006057094877), (3792, 0.010794944627871396), (2153, 0.010793557009690447), (4604, 0.010792866558712862), (54, 0.010780037242209533), (2798, 0.01077921568840924), (1804, 0.010767464348908865), (1505, 0.010765955665183865), (2583, 0.010764275464528485), (2487, 0.010757824280966864), (2198, 0.010755334697496673), (131, 0.010754491801617902), (4364, 0.010745077591522026), (4330, 0.01074086863012127), (1472, 0.010738423825092993), (1461, 0.010733784909931198), (4099, 0.010732046772876914), (3739, 0.010731712090631753), (1930, 0.010730708694191876), (2130, 0.010730145913209144), (4195, 0.01072835882523008), (2046, 0.010721500058325496), (2534, 0.010720598239160698), (4137, 0.010712445808672331), (2396, 0.010711487845055281), (3805, 0.010703662582354204), (4457, 0.010695314144940713), (1720, 0.010691988900930512), (3673, 0.010691406447903453), (696, 0.010684602102211864), (1196, 0.010664810194928083), (188, 0.010664806254159121), (822, 0.010659925374423033), (1191, 0.010656875858709652), (3564, 0.010656195550933698), (1223, 0.010656069043513954), (3427, 0.010655107245473628), (423, 0.010654622554921537), (2839, 0.010649660425663478), (315, 0.010647659105873154), (4482, 0.01064707786126328), (5, 0.010646595509281006), (1604, 0.010643365835724016), (3058, 0.010638710054730542), (490, 0.010630009990448655), (2408, 0.010629907798309792), (1837, 0.010629520375014198), (4310, 0.010625765818776542), (1304, 0.010618538905018607), (4070, 0.010616965556008964), (3188, 0.01060291313540426), (2435, 0.010600386858084402), (1598, 0.010596882426971741), (66, 0.010594305835588087), (2250, 0.010592098555967112), (3350, 0.010590463369470777), (3476, 0.01058690590979042), (1358, 0.010579840234688432), (3330, 0.010578861691664354), (4128, 0.010576248900563273), (117, 0.010572193402650473), (4754, 0.010570315892593213), (1849, 0.010567978153427152), (3746, 0.010567474747440377), (259, 0.010554231821431413), (439, 0.010552541167416742), (4020, 0.010531406704886441), (2329, 0.010529369368937837), (2980, 0.010528184767138361), (3379, 0.010524567799389949), (1891, 0.010522908666940329), (4157, 0.010519630250001953), (459, 0.01051683882204808), (3596, 0.010505333364511885), (2087, 0.01049947027114836), (2616, 0.010496059668125262), (4542, 0.010494830672550623), (466, 0.010494486883320898), (464, 0.010492419431106561), (1411, 0.010489413551943069), (3066, 0.010488168797677184), (3237, 0.010484527894497202), (2763, 0.010483673970871478), (2504, 0.010481044743036922), (4112, 0.010478250538214693), (1541, 0.010474709662717728), (535, 0.010473882656835985), (1257, 0.010460125202684363), (1607, 0.01045398448709125), (322, 0.010452738280752395), (1857, 0.010450066646700826), (1459, 0.01044859322929141), (215, 0.010428463844947776), (1235, 0.010425723791444208), (3286, 0.010422281106044064), (1330, 0.0104202370593456), (1026, 0.010416237914885985), (3260, 0.010414761446198038), (1373, 0.010399937293695795), (1589, 0.010398070553457492), (773, 0.010384689751906392), (3366, 0.010367547895228684), (2095, 0.010367455211811146), (2239, 0.010354417552783263), (4314, 0.010350973392448342), (4073, 0.010346181350835421), (2279, 0.010342699018527083), (3141, 0.010342324963285727), (1846, 0.010340653598498586), (3562, 0.010340016401311125), (1284, 0.010333198141621792), (2178, 0.010324994268005767), (720, 0.010324506417439509), (3826, 0.010320245234064983), (1035, 0.01031222096862423), (321, 0.010303010880563216), (2117, 0.010297042167867065), (49, 0.010289021218276516), (1044, 0.010282987248430195), (2367, 0.010275721285999264), (3348, 0.010272779087026573), (2752, 0.010267389874485328), (1552, 0.010263622026387852), (1810, 0.01026312079154729), (4472, 0.010261025769068923), (556, 0.010261024568656282), (2571, 0.010255650737089833), (2245, 0.010252695126336867), (1839, 0.010251489149250368), (3011, 0.010250325607237458), (1854, 0.010249304996010997), (1421, 0.010233233895257555), (1076, 0.010232254063395327), (1700, 0.010230681043201401), (3151, 0.010225736471320527), (1597, 0.010225331721521772), (1755, 0.010215168014757836), (1327, 0.010208078710638458), (2517, 0.010204812765751239), (1561, 0.01020303069708797), (1118, 0.010199202827699259), (2131, 0.010197202677361813), (486, 0.010193823407395823), (437, 0.01018592830293466), (3246, 0.010176231362431301), (53, 0.010172269271289617), (4037, 0.010169357189649434), (1664, 0.010166934211641445), (1034, 0.010165526895769605), (2143, 0.010148945318723852), (185, 0.010148756953568483), (3985, 0.010147536776233425), (1416, 0.010143844986993193), (4155, 0.010140975319974961), (3315, 0.010140328728796182), (854, 0.010130471797145796), (4152, 0.010127581040140957), (3991, 0.010123596776283064), (2972, 0.010118678024179442), (2812, 0.010116779317119098), (1663, 0.010113040354158869), (2525, 0.010108434605423277), (4321, 0.010105956791630406), (1412, 0.010103544266932461), (1307, 0.01010217896769685), (2706, 0.010091657148730336), (1451, 0.01008341822864306), (2892, 0.010076216009706096), (360, 0.010072303326474047), (767, 0.010069439206606834), (1818, 0.010059040230392707), (2938, 0.01004951042378039), (2271, 0.010045789341822889), (1898, 0.010037730250234803), (2099, 0.010033666684539312), (325, 0.010030833818428979), (3819, 0.010022570563079598), (578, 0.010018396011172933), (4270, 0.010014626191585937), (1036, 0.010011531354434729), (2052, 0.010011322741343752), (2590, 0.009993116016311749), (1606, 0.009986283647913976), (2201, 0.009986082625081567), (1820, 0.00998295453941009), (2450, 0.009979300667668143), (1824, 0.00997793712983026), (3300, 0.009975428437248492), (4011, 0.009969104800149425), (1041, 0.009964044010816728), (549, 0.00995986647491334), (4159, 0.009948330825904926), (2205, 0.00993611248047757), (702, 0.009931332677407789), (4059, 0.00992680452926508), (745, 0.00992524434862027), (335, 0.009924213476259734), (4009, 0.009918866236791328), (810, 0.009917499992357734), (1992, 0.009916905607720301), (655, 0.009912598383684815), (492, 0.009910593495233077), (2593, 0.009904213648894421), (1477, 0.009901415883289562), (3966, 0.009899957214354587), (1899, 0.009895792898245243), (1649, 0.009892794624407762), (4342, 0.009892120674173591), (2120, 0.009891415233543876), (3732, 0.009889592413753258), (895, 0.009889571253732484), (659, 0.009887794147828475), (1114, 0.009887502131265793), (1180, 0.009887383173192588), (1457, 0.009885500253837531), (409, 0.009883200169247545), (3147, 0.009882010119252048), (690, 0.00987627500937458), (3843, 0.009874292197773646), (3389, 0.00987295482465065), (4348, 0.009872041959715897), (2666, 0.00986826155648225), (1480, 0.009866437996504404), (3923, 0.009863664984047355), (3395, 0.009861546302649325), (710, 0.009861368461899505), (111, 0.009860757214361632), (1875, 0.009857829065412738), (3342, 0.009856919609478376), (1456, 0.009852731288408823), (457, 0.009852583304666873), (3718, 0.00984306541078592), (2129, 0.009835936002972343), (240, 0.009825275959995551), (9, 0.009823178934154868), (2317, 0.009821744320615264), (3321, 0.009821591343179106), (2868, 0.009820851316277997), (2301, 0.009819690905332818), (978, 0.009818366685491171), (2125, 0.009817981726293543), (2093, 0.009817333477484378), (4402, 0.009815370732033058), (2835, 0.009810118621681359), (3993, 0.009807520977269328), (957, 0.009802221001197431), (199, 0.009788230012289947), (2315, 0.009784088964325423), (324, 0.009783681248125117), (638, 0.009783447396047678), (2654, 0.009783285852931747), (1357, 0.009782234064619613), (306, 0.009780211187989664), (1543, 0.009779764827680481), (4174, 0.009770258315083378), (2845, 0.009770180395545286), (1197, 0.009759882241774051), (4405, 0.009756196447619683), (3459, 0.009754352227786292), (829, 0.009751254960008227), (2265, 0.009745344679164174), (3876, 0.009743885493989284), (1987, 0.009743855874280614), (2236, 0.009741148101012561), (4447, 0.00973922269242581), (4274, 0.009733383448105176), (2055, 0.009729302926188807), (3244, 0.009723945059483305), (4191, 0.009723761279585741), (4186, 0.009716930287363514), (4600, 0.009714232072552002), (2203, 0.009713174366648264), (124, 0.009692704194685627), (2007, 0.009689063750751195), (1310, 0.009688775748770301), (338, 0.009684605522931794), (3726, 0.009682762820268857), (2262, 0.009671161379602554), (2741, 0.009665566195416548), (2728, 0.009662068796601725), (2749, 0.009660710239728375), (3716, 0.00964818387660411), (1016, 0.009642517811390887), (3138, 0.009637324013598675), (3397, 0.009633908319182833), (2591, 0.009630839687079097), (3841, 0.009626871343271648), (583, 0.009623090098294184), (3633, 0.009614229887238814), (2402, 0.00961319038100255), (2043, 0.009612445158429565), (1800, 0.009605718467039647), (4109, 0.009604751869610946), (3247, 0.009600442032891064), (1827, 0.009598961786989574), (1387, 0.009582621659431023), (2323, 0.00957923793639151), (2389, 0.009575494211316923), (3865, 0.009573475926402918), (1539, 0.009572166165015005), (383, 0.009567319687214975), (3318, 0.009566955736829344), (898, 0.00956242609028477), (1061, 0.009556353296580802), (3974, 0.00955413352550375), (497, 0.009552857327027037), (334, 0.009551636323914198), (2005, 0.0095448986699595), (1739, 0.009544480398201423), (161, 0.009541333088119146), (3485, 0.009539165650734207), (703, 0.00953554489951609), (3360, 0.009535506413914771), (501, 0.009532007794350867), (1601, 0.009528583968200595), (1423, 0.009527113337454823), (1219, 0.009522772630943368), (3327, 0.00952129748644534), (1830, 0.00951178970692732), (1394, 0.009510875044321365), (577, 0.009507005364193015), (4590, 0.009505130373520644), (91, 0.00950355561688598), (1251, 0.009499246207013553), (3948, 0.009491326392309454), (2580, 0.009479570164358015), (519, 0.009478332598459375), (2163, 0.009471615983583972), (191, 0.009470969073743502), (1978, 0.009460969169802361), (1384, 0.00944747838444994), (333, 0.009441846879550304), (3099, 0.009441790240461113), (3082, 0.009441029275564622), (2264, 0.009430487596443275), (4066, 0.009427279074156997), (4110, 0.00942097038150494), (3894, 0.009414723812481334), (1684, 0.00940328079702048), (1954, 0.00940306321254693), (3803, 0.00939224117632639), (2047, 0.009380112259150622), (257, 0.009372526686106377), (2502, 0.009365525650333256), (3830, 0.009351956162146065), (1943, 0.009343699433619386), (4679, 0.009332277717077316), (1405, 0.009332177711908763), (3096, 0.009331510582197524), (4247, 0.009329784675368151), (2721, 0.009327697490846071), (2975, 0.009325700229754902), (1186, 0.009320625519261442), (2240, 0.009315202585890072), (1090, 0.009312631177113541), (317, 0.009294750255203167), (3211, 0.009294466374343282), (73, 0.009293760918439302), (3232, 0.009280912146313042), (1863, 0.009271103581132265), (4468, 0.009268160075983235), (1370, 0.0092561149500458), (4473, 0.009244982101067145), (3238, 0.009238254047423362), (3655, 0.009237958092220304), (4035, 0.009236245324264982), (3525, 0.009228435359809058), (4114, 0.009212635073448763), (1764, 0.009201217566839679), (1008, 0.009198587432745875), (892, 0.009195999975651016), (1492, 0.009186129780851477), (733, 0.00918439619857884), (1088, 0.009176603200898376), (2822, 0.009161031470016746), (2006, 0.00915491474538468), (177, 0.00915129506827343), (725, 0.009131941392533151), (2758, 0.009117043605096988), (445, 0.009087188706455954), (1215, 0.009086061442490398), (1309, 0.009084881729596279), (394, 0.00907161192564103), (3579, 0.009060759609007266), (3693, 0.009056913571279747), (3481, 0.009034634115680765), (2296, 0.009017652573483411), (288, 0.00901468361679798), (2933, 0.009014625072845554), (2541, 0.009007927221800388), (3855, 0.009006970124485938), (1222, 0.008999101070080359), (1971, 0.008997264333052521), (1639, 0.008986287718418518), (3091, 0.008985251119312554), (1845, 0.008976543008863035), (1365, 0.008963768020106217), (2114, 0.00893657180975976), (3658, 0.008919871957913541), (3212, 0.00889916922003162), (314, 0.008898273429404668), (786, 0.008890644610808822), (640, 0.008886404371139345), (2132, 0.008868121846657332), (2844, 0.008866045368135764), (1042, 0.008865487183981748), (2985, 0.008854104605560565), (3484, 0.008827739703030262), (3024, 0.008781061359170107), (25, 0.008780727050744543), (469, 0.008772389356909936), (1296, 0.008724492744021001), (1137, 0.00871526194819286), (433, 0.008683015008079002), (3254, 0.008679307933220309), (645, 0.008669722906620032), (76, 0.008661275824831786), (366, 0.008656605278025491), (2364, 0.008631056325832935), (407, 0.008613309965203673), (3980, 0.008611817911218164), (506, 0.008602184502649502), (1317, 0.008600559136950712), (1268, 0.008594004181073497), (1963, 0.008588347512848806), (1676, 0.008571300253122993), (1144, 0.00855856556893086), (719, 0.008527873984507432), (706, 0.008526348587498329), (2766, 0.008517903360130651), (510, 0.008484988102064385), (2013, 0.008457466566813471), (294, 0.00845190613554589), (309, 0.008442886971994374), (2078, 0.008442192248590335), (2734, 0.008436852086727566), (609, 0.008422320631609548), (2867, 0.008371711596599659), (2326, 0.008335223018818172), (926, 0.008279219709093823), (351, 0.008190052609269608), (106, 0.008171276003650748), (3667, 0.008115614752068212), (2562, 0.008082581052687478), (3983, 0.007952407688195537), (561, 0.007827551037533862), (2671, 0.007796545442168323), (641, 0.007687229107173853), (2814, 0.007680001137735869), (929, 0.007657294682983602), (2885, 0.007632433231814686), (4752, 0.007603604153287322), (940, 0.007512878561188992), (4171, 0.0075020508179457724), (243, 0.007473291935356739), (542, 0.007443736639826137), (1919, 0.007419251165063902), (3421, 0.0073438234270870205), (330, 0.007334543562383757), (1506, 0.007269298418549315), (3750, 0.007178216514162678), (740, 0.007120982859398179), (2118, 0.006601834442851733), (787, 0.006492893832212491), (0, 0.0), (1, 0.0), (3, 0.0), (4, 0.0), (6, 0.0), (7, 0.0), (8, 0.0), (10, 0.0), (12, 0.0), (13, 0.0), (15, 0.0), (16, 0.0), (17, 0.0), (20, 0.0), (21, 0.0), (22, 0.0), (23, 0.0), (24, 0.0), (26, 0.0), (27, 0.0), (28, 0.0), (29, 0.0), (31, 0.0), (32, 0.0), (33, 0.0), (35, 0.0), (36, 0.0), (37, 0.0), (38, 0.0), (39, 0.0), (40, 0.0), (41, 0.0), (43, 0.0), (44, 0.0), (46, 0.0), (47, 0.0), (48, 0.0), (50, 0.0), (51, 0.0), (55, 0.0), (56, 0.0), (57, 0.0), (59, 0.0), (60, 0.0), (61, 0.0), (62, 0.0), (63, 0.0), (68, 0.0), (71, 0.0), (72, 0.0), (74, 0.0), (77, 0.0), (79, 0.0), (81, 0.0), (83, 0.0), (84, 0.0), (85, 0.0), (86, 0.0), (87, 0.0), (88, 0.0), (89, 0.0), (92, 0.0), (96, 0.0), (97, 0.0), (98, 0.0), (99, 0.0), (100, 0.0), (101, 0.0), (102, 0.0), (103, 0.0), (104, 0.0), (107, 0.0), (109, 0.0), (110, 0.0), (112, 0.0), (114, 0.0), (118, 0.0), (119, 0.0), (121, 0.0), (122, 0.0), (123, 0.0), (125, 0.0), (127, 0.0), (128, 0.0), (129, 0.0), (130, 0.0), (132, 0.0), (133, 0.0), (134, 0.0), (135, 0.0), (136, 0.0), (138, 0.0), (139, 0.0), (140, 0.0), (141, 0.0), (142, 0.0), (143, 0.0), (144, 0.0), (145, 0.0), (147, 0.0), (148, 0.0), (150, 0.0), (151, 0.0), (157, 0.0), (158, 0.0), (159, 0.0), (160, 0.0), (162, 0.0), (163, 0.0), (164, 0.0), (165, 0.0), (166, 0.0), (167, 0.0), (168, 0.0), (169, 0.0), (170, 0.0), (171, 0.0), (172, 0.0), (174, 0.0), (175, 0.0), (176, 0.0), (180, 0.0), (181, 0.0), (182, 0.0), (184, 0.0), (186, 0.0), (187, 0.0), (189, 0.0), (190, 0.0), (194, 0.0), (197, 0.0), (200, 0.0), (201, 0.0), (203, 0.0), (207, 0.0), (208, 0.0), (209, 0.0), (210, 0.0), (211, 0.0), (212, 0.0), (214, 0.0), (216, 0.0), (218, 0.0), (220, 0.0), (221, 0.0), (222, 0.0), (223, 0.0), (224, 0.0), (225, 0.0), (226, 0.0), (228, 0.0), (229, 0.0), (230, 0.0), (231, 0.0), (232, 0.0), (233, 0.0), (234, 0.0), (235, 0.0), (238, 0.0), (239, 0.0), (241, 0.0), (244, 0.0), (247, 0.0), (248, 0.0), (250, 0.0), (251, 0.0), (252, 0.0), (253, 0.0), (254, 0.0), (255, 0.0), (256, 0.0), (258, 0.0), (260, 0.0), (261, 0.0), (262, 0.0), (263, 0.0), (264, 0.0), (265, 0.0), (267, 0.0), (268, 0.0), (271, 0.0), (272, 0.0), (274, 0.0), (275, 0.0), (276, 0.0), (278, 0.0), (279, 0.0), (280, 0.0), (281, 0.0), (282, 0.0), (283, 0.0), (284, 0.0), (285, 0.0), (286, 0.0), (287, 0.0), (289, 0.0), (290, 0.0), (291, 0.0), (292, 0.0), (293, 0.0), (295, 0.0), (296, 0.0), (303, 0.0), (307, 0.0), (310, 0.0), (311, 0.0), (313, 0.0), (316, 0.0), (318, 0.0), (319, 0.0), (320, 0.0), (323, 0.0), (326, 0.0), (327, 0.0), (328, 0.0), (329, 0.0), (331, 0.0), (332, 0.0), (336, 0.0), (337, 0.0), (339, 0.0), (342, 0.0), (343, 0.0), (347, 0.0), (348, 0.0), (349, 0.0), (350, 0.0), (352, 0.0), (353, 0.0), (354, 0.0), (355, 0.0), (356, 0.0), (358, 0.0), (359, 0.0), (364, 0.0), (367, 0.0), (368, 0.0), (369, 0.0), (370, 0.0), (371, 0.0), (372, 0.0), (373, 0.0), (375, 0.0), (376, 0.0), (377, 0.0), (379, 0.0), (381, 0.0), (382, 0.0), (387, 0.0), (388, 0.0), (389, 0.0), (390, 0.0), (395, 0.0), (396, 0.0), (397, 0.0), (398, 0.0), (400, 0.0), (402, 0.0), (406, 0.0), (411, 0.0), (412, 0.0), (415, 0.0), (416, 0.0), (417, 0.0), (418, 0.0), (419, 0.0), (420, 0.0), (422, 0.0), (425, 0.0), (426, 0.0), (427, 0.0), (428, 0.0), (429, 0.0), (431, 0.0), (432, 0.0), (434, 0.0), (436, 0.0), (438, 0.0), (440, 0.0), (441, 0.0), (442, 0.0), (444, 0.0), (446, 0.0), (448, 0.0), (449, 0.0), (450, 0.0), (452, 0.0), (454, 0.0), (455, 0.0), (458, 0.0), (460, 0.0), (462, 0.0), (465, 0.0), (467, 0.0), (468, 0.0), (471, 0.0), (473, 0.0), (474, 0.0), (476, 0.0), (478, 0.0), (479, 0.0), (480, 0.0), (481, 0.0), (482, 0.0), (483, 0.0), (484, 0.0), (487, 0.0), (488, 0.0), (489, 0.0), (491, 0.0), (493, 0.0), (496, 0.0), (499, 0.0), (500, 0.0), (502, 0.0), (503, 0.0), (504, 0.0), (505, 0.0), (507, 0.0), (512, 0.0), (513, 0.0), (515, 0.0), (516, 0.0), (521, 0.0), (523, 0.0), (525, 0.0), (526, 0.0), (529, 0.0), (530, 0.0), (531, 0.0), (532, 0.0), (533, 0.0), (534, 0.0), (536, 0.0), (537, 0.0), (538, 0.0), (543, 0.0), (544, 0.0), (547, 0.0), (548, 0.0), (550, 0.0), (551, 0.0), (552, 0.0), (554, 0.0), (555, 0.0), (557, 0.0), (560, 0.0), (564, 0.0), (566, 0.0), (568, 0.0), (570, 0.0), (571, 0.0), (572, 0.0), (573, 0.0), (574, 0.0), (575, 0.0), (579, 0.0), (580, 0.0), (581, 0.0), (582, 0.0), (584, 0.0), (585, 0.0), (586, 0.0), (587, 0.0), (589, 0.0), (590, 0.0), (591, 0.0), (592, 0.0), (593, 0.0), (594, 0.0), (595, 0.0), (596, 0.0), (598, 0.0), (599, 0.0), (600, 0.0), (601, 0.0), (602, 0.0), (603, 0.0), (604, 0.0), (605, 0.0), (606, 0.0), (607, 0.0), (608, 0.0), (613, 0.0), (614, 0.0), (615, 0.0), (616, 0.0), (617, 0.0), (618, 0.0), (619, 0.0), (620, 0.0), (623, 0.0), (624, 0.0), (626, 0.0), (627, 0.0), (628, 0.0), (629, 0.0), (630, 0.0), (631, 0.0), (632, 0.0), (634, 0.0), (635, 0.0), (636, 0.0), (643, 0.0), (644, 0.0), (646, 0.0), (647, 0.0), (648, 0.0), (649, 0.0), (650, 0.0), (653, 0.0), (654, 0.0), (663, 0.0), (664, 0.0), (666, 0.0), (667, 0.0), (668, 0.0), (669, 0.0), (670, 0.0), (671, 0.0), (672, 0.0), (673, 0.0), (674, 0.0), (675, 0.0), (676, 0.0), (677, 0.0), (681, 0.0), (682, 0.0), (683, 0.0), (684, 0.0), (685, 0.0), (692, 0.0), (693, 0.0), (694, 0.0), (695, 0.0), (697, 0.0), (698, 0.0), (701, 0.0), (704, 0.0), (705, 0.0), (707, 0.0), (708, 0.0), (711, 0.0), (714, 0.0), (716, 0.0), (718, 0.0), (721, 0.0), (722, 0.0), (727, 0.0), (728, 0.0), (729, 0.0), (731, 0.0), (732, 0.0), (734, 0.0), (735, 0.0), (736, 0.0), (737, 0.0), (739, 0.0), (744, 0.0), (750, 0.0), (751, 0.0), (754, 0.0), (755, 0.0), (759, 0.0), (760, 0.0), (762, 0.0), (763, 0.0), (764, 0.0), (765, 0.0), (766, 0.0), (768, 0.0), (769, 0.0), (770, 0.0), (774, 0.0), (775, 0.0), (776, 0.0), (777, 0.0), (778, 0.0), (779, 0.0), (780, 0.0), (782, 0.0), (783, 0.0), (784, 0.0), (789, 0.0), (790, 0.0), (793, 0.0), (798, 0.0), (799, 0.0), (800, 0.0), (803, 0.0), (805, 0.0), (808, 0.0), (811, 0.0), (812, 0.0), (813, 0.0), (815, 0.0), (817, 0.0), (818, 0.0), (819, 0.0), (821, 0.0), (823, 0.0), (825, 0.0), (826, 0.0), (828, 0.0), (830, 0.0), (832, 0.0), (833, 0.0), (834, 0.0), (835, 0.0), (837, 0.0), (838, 0.0), (839, 0.0), (840, 0.0), (841, 0.0), (843, 0.0), (844, 0.0), (847, 0.0), (849, 0.0), (850, 0.0), (851, 0.0), (852, 0.0), (855, 0.0), (856, 0.0), (857, 0.0), (858, 0.0), (861, 0.0), (862, 0.0), (863, 0.0), (864, 0.0), (866, 0.0), (867, 0.0), (868, 0.0), (869, 0.0), (870, 0.0), (871, 0.0), (873, 0.0), (874, 0.0), (875, 0.0), (878, 0.0), (880, 0.0), (881, 0.0), (882, 0.0), (883, 0.0), (884, 0.0), (885, 0.0), (886, 0.0), (887, 0.0), (888, 0.0), (889, 0.0), (890, 0.0), (893, 0.0), (897, 0.0), (899, 0.0), (900, 0.0), (901, 0.0), (902, 0.0), (903, 0.0), (904, 0.0), (906, 0.0), (907, 0.0), (910, 0.0), (911, 0.0), (913, 0.0), (914, 0.0), (915, 0.0), (916, 0.0), (917, 0.0), (919, 0.0), (922, 0.0), (923, 0.0), (924, 0.0), (925, 0.0), (927, 0.0), (928, 0.0), (930, 0.0), (933, 0.0), (934, 0.0), (936, 0.0), (937, 0.0), (941, 0.0), (942, 0.0), (943, 0.0), (944, 0.0), (945, 0.0), (947, 0.0), (948, 0.0), (949, 0.0), (950, 0.0), (951, 0.0), (952, 0.0), (954, 0.0), (955, 0.0), (958, 0.0), (959, 0.0), (960, 0.0), (962, 0.0), (963, 0.0), (966, 0.0), (967, 0.0), (968, 0.0), (969, 0.0), (970, 0.0), (972, 0.0), (973, 0.0), (975, 0.0), (976, 0.0), (979, 0.0), (982, 0.0), (983, 0.0), (986, 0.0), (988, 0.0), (990, 0.0), (991, 0.0), (992, 0.0), (993, 0.0), (994, 0.0), (995, 0.0), (996, 0.0), (997, 0.0), (998, 0.0), (999, 0.0), (1000, 0.0), (1003, 0.0), (1005, 0.0), (1006, 0.0), (1010, 0.0), (1012, 0.0), (1018, 0.0), (1019, 0.0), (1020, 0.0), (1021, 0.0), (1022, 0.0), (1023, 0.0), (1024, 0.0), (1027, 0.0), (1028, 0.0), (1029, 0.0), (1030, 0.0), (1031, 0.0), (1032, 0.0), (1033, 0.0), (1037, 0.0), (1038, 0.0), (1039, 0.0), (1040, 0.0), (1043, 0.0), (1045, 0.0), (1046, 0.0), (1047, 0.0), (1048, 0.0), (1049, 0.0), (1050, 0.0), (1051, 0.0), (1052, 0.0), (1053, 0.0), (1054, 0.0), (1055, 0.0), (1056, 0.0), (1057, 0.0), (1058, 0.0), (1059, 0.0), (1060, 0.0), (1063, 0.0), (1064, 0.0), (1065, 0.0), (1066, 0.0), (1068, 0.0), (1069, 0.0), (1070, 0.0), (1071, 0.0), (1072, 0.0), (1075, 0.0), (1077, 0.0), (1078, 0.0), (1081, 0.0), (1083, 0.0), (1087, 0.0), (1091, 0.0), (1092, 0.0), (1093, 0.0), (1094, 0.0), (1095, 0.0), (1096, 0.0), (1097, 0.0), (1099, 0.0), (1100, 0.0), (1102, 0.0), (1104, 0.0), (1105, 0.0), (1106, 0.0), (1108, 0.0), (1109, 0.0), (1111, 0.0), (1112, 0.0), (1113, 0.0), (1115, 0.0), (1117, 0.0), (1120, 0.0), (1121, 0.0), (1123, 0.0), (1125, 0.0), (1126, 0.0), (1127, 0.0), (1128, 0.0), (1129, 0.0), (1131, 0.0), (1133, 0.0), (1134, 0.0), (1135, 0.0), (1139, 0.0), (1143, 0.0), (1145, 0.0), (1146, 0.0), (1147, 0.0), (1149, 0.0), (1150, 0.0), (1151, 0.0), (1153, 0.0), (1154, 0.0), (1156, 0.0), (1158, 0.0), (1159, 0.0), (1160, 0.0), (1161, 0.0), (1162, 0.0), (1163, 0.0), (1164, 0.0), (1167, 0.0), (1169, 0.0), (1170, 0.0), (1171, 0.0), (1172, 0.0), (1174, 0.0), (1176, 0.0), (1177, 0.0), (1178, 0.0), (1179, 0.0), (1181, 0.0), (1183, 0.0), (1184, 0.0), (1185, 0.0), (1187, 0.0), (1188, 0.0), (1189, 0.0), (1190, 0.0), (1192, 0.0), (1193, 0.0), (1194, 0.0), (1199, 0.0), (1200, 0.0), (1202, 0.0), (1205, 0.0), (1208, 0.0), (1209, 0.0), (1210, 0.0), (1212, 0.0), (1214, 0.0), (1216, 0.0), (1218, 0.0), (1220, 0.0), (1224, 0.0), (1226, 0.0), (1228, 0.0), (1231, 0.0), (1234, 0.0), (1236, 0.0), (1237, 0.0), (1239, 0.0), (1240, 0.0), (1241, 0.0), (1242, 0.0), (1244, 0.0), (1248, 0.0), (1252, 0.0), (1253, 0.0), (1254, 0.0), (1258, 0.0), (1259, 0.0), (1260, 0.0), (1262, 0.0), (1263, 0.0), (1264, 0.0), (1265, 0.0), (1266, 0.0), (1267, 0.0), (1269, 0.0), (1271, 0.0), (1274, 0.0), (1275, 0.0), (1276, 0.0), (1277, 0.0), (1278, 0.0), (1280, 0.0), (1281, 0.0), (1282, 0.0), (1283, 0.0), (1286, 0.0), (1287, 0.0), (1288, 0.0), (1289, 0.0), (1293, 0.0), (1295, 0.0), (1299, 0.0), (1301, 0.0), (1302, 0.0), (1303, 0.0), (1305, 0.0), (1311, 0.0), (1313, 0.0), (1314, 0.0), (1315, 0.0), (1316, 0.0), (1319, 0.0), (1320, 0.0), (1322, 0.0), (1323, 0.0), (1324, 0.0), (1325, 0.0), (1326, 0.0), (1329, 0.0), (1331, 0.0), (1332, 0.0), (1334, 0.0), (1337, 0.0), (1338, 0.0), (1340, 0.0), (1341, 0.0), (1343, 0.0), (1345, 0.0), (1346, 0.0), (1348, 0.0), (1349, 0.0), (1350, 0.0), (1352, 0.0), (1355, 0.0), (1356, 0.0), (1359, 0.0), (1360, 0.0), (1363, 0.0), (1364, 0.0), (1366, 0.0), (1367, 0.0), (1369, 0.0), (1371, 0.0), (1372, 0.0), (1374, 0.0), (1375, 0.0), (1376, 0.0), (1377, 0.0), (1378, 0.0), (1380, 0.0), (1381, 0.0), (1383, 0.0), (1385, 0.0), (1386, 0.0), (1391, 0.0), (1392, 0.0), (1395, 0.0), (1396, 0.0), (1397, 0.0), (1398, 0.0), (1399, 0.0), (1400, 0.0), (1401, 0.0), (1403, 0.0), (1404, 0.0), (1406, 0.0), (1408, 0.0), (1409, 0.0), (1410, 0.0), (1413, 0.0), (1414, 0.0), (1415, 0.0), (1417, 0.0), (1418, 0.0), (1420, 0.0), (1424, 0.0), (1426, 0.0), (1427, 0.0), (1429, 0.0), (1430, 0.0), (1432, 0.0), (1434, 0.0), (1437, 0.0), (1438, 0.0), (1439, 0.0), (1440, 0.0), (1442, 0.0), (1444, 0.0), (1445, 0.0), (1446, 0.0), (1447, 0.0), (1448, 0.0), (1449, 0.0), (1450, 0.0), (1452, 0.0), (1453, 0.0), (1455, 0.0), (1458, 0.0), (1462, 0.0), (1465, 0.0), (1467, 0.0), (1469, 0.0), (1470, 0.0), (1471, 0.0), (1473, 0.0), (1475, 0.0), (1478, 0.0), (1483, 0.0), (1484, 0.0), (1488, 0.0), (1491, 0.0), (1493, 0.0), (1497, 0.0), (1498, 0.0), (1502, 0.0), (1503, 0.0), (1504, 0.0), (1507, 0.0), (1508, 0.0), (1511, 0.0), (1512, 0.0), (1514, 0.0), (1515, 0.0), (1519, 0.0), (1526, 0.0), (1527, 0.0), (1530, 0.0), (1532, 0.0), (1533, 0.0), (1535, 0.0), (1536, 0.0), (1538, 0.0), (1540, 0.0), (1544, 0.0), (1547, 0.0), (1548, 0.0), (1549, 0.0), (1551, 0.0), (1553, 0.0), (1556, 0.0), (1558, 0.0), (1560, 0.0), (1562, 0.0), (1563, 0.0), (1564, 0.0), (1565, 0.0), (1566, 0.0), (1567, 0.0), (1569, 0.0), (1570, 0.0), (1572, 0.0), (1573, 0.0), (1574, 0.0), (1576, 0.0), (1577, 0.0), (1580, 0.0), (1582, 0.0), (1583, 0.0), (1585, 0.0), (1586, 0.0), (1588, 0.0), (1590, 0.0), (1591, 0.0), (1593, 0.0), (1595, 0.0), (1596, 0.0), (1599, 0.0), (1603, 0.0), (1608, 0.0), (1609, 0.0), (1612, 0.0), (1616, 0.0), (1617, 0.0), (1619, 0.0), (1620, 0.0), (1622, 0.0), (1623, 0.0), (1624, 0.0), (1625, 0.0), (1627, 0.0), (1628, 0.0), (1629, 0.0), (1630, 0.0), (1631, 0.0), (1632, 0.0), (1633, 0.0), (1635, 0.0), (1636, 0.0), (1637, 0.0), (1638, 0.0), (1641, 0.0), (1642, 0.0), (1643, 0.0), (1644, 0.0), (1647, 0.0), (1650, 0.0), (1651, 0.0), (1652, 0.0), (1653, 0.0), (1655, 0.0), (1656, 0.0), (1658, 0.0), (1659, 0.0), (1660, 0.0), (1661, 0.0), (1662, 0.0), (1665, 0.0), (1666, 0.0), (1667, 0.0), (1668, 0.0), (1669, 0.0), (1671, 0.0), (1672, 0.0), (1674, 0.0), (1675, 0.0), (1679, 0.0), (1680, 0.0), (1681, 0.0), (1685, 0.0), (1686, 0.0), (1687, 0.0), (1688, 0.0), (1689, 0.0), (1693, 0.0), (1694, 0.0), (1699, 0.0), (1701, 0.0), (1702, 0.0), (1703, 0.0), (1705, 0.0), (1707, 0.0), (1708, 0.0), (1709, 0.0), (1712, 0.0), (1715, 0.0), (1716, 0.0), (1717, 0.0), (1718, 0.0), (1719, 0.0), (1721, 0.0), (1722, 0.0), (1723, 0.0), (1724, 0.0), (1725, 0.0), (1727, 0.0), (1728, 0.0), (1729, 0.0), (1730, 0.0), (1732, 0.0), (1733, 0.0), (1734, 0.0), (1735, 0.0), (1736, 0.0), (1738, 0.0), (1741, 0.0), (1742, 0.0), (1743, 0.0), (1746, 0.0), (1747, 0.0), (1748, 0.0), (1749, 0.0), (1750, 0.0), (1751, 0.0), (1753, 0.0), (1754, 0.0), (1756, 0.0), (1760, 0.0), (1761, 0.0), (1762, 0.0), (1763, 0.0), (1770, 0.0), (1772, 0.0), (1773, 0.0), (1774, 0.0), (1775, 0.0), (1776, 0.0), (1778, 0.0), (1779, 0.0), (1785, 0.0), (1786, 0.0), (1788, 0.0), (1790, 0.0), (1791, 0.0), (1792, 0.0), (1796, 0.0), (1797, 0.0), (1798, 0.0), (1799, 0.0), (1801, 0.0), (1802, 0.0), (1805, 0.0), (1806, 0.0), (1807, 0.0), (1808, 0.0), (1809, 0.0), (1811, 0.0), (1812, 0.0), (1813, 0.0), (1815, 0.0), (1816, 0.0), (1819, 0.0), (1821, 0.0), (1822, 0.0), (1825, 0.0), (1826, 0.0), (1828, 0.0), (1831, 0.0), (1832, 0.0), (1834, 0.0), (1835, 0.0), (1836, 0.0), (1838, 0.0), (1847, 0.0), (1848, 0.0), (1851, 0.0), (1852, 0.0), (1853, 0.0), (1855, 0.0), (1856, 0.0), (1858, 0.0), (1859, 0.0), (1860, 0.0), (1862, 0.0), (1864, 0.0), (1865, 0.0), (1866, 0.0), (1868, 0.0), (1870, 0.0), (1871, 0.0), (1872, 0.0), (1874, 0.0), (1876, 0.0), (1877, 0.0), (1879, 0.0), (1880, 0.0), (1881, 0.0), (1882, 0.0), (1884, 0.0), (1885, 0.0), (1886, 0.0), (1887, 0.0), (1888, 0.0), (1892, 0.0), (1894, 0.0), (1896, 0.0), (1897, 0.0), (1900, 0.0), (1901, 0.0), (1903, 0.0), (1904, 0.0), (1906, 0.0), (1907, 0.0), (1908, 0.0), (1909, 0.0), (1910, 0.0), (1912, 0.0), (1914, 0.0), (1916, 0.0), (1917, 0.0), (1920, 0.0), (1921, 0.0), (1922, 0.0), (1924, 0.0), (1926, 0.0), (1927, 0.0), (1929, 0.0), (1931, 0.0), (1933, 0.0), (1934, 0.0), (1938, 0.0), (1939, 0.0), (1941, 0.0), (1942, 0.0), (1944, 0.0), (1945, 0.0), (1946, 0.0), (1947, 0.0), (1948, 0.0), (1949, 0.0), (1953, 0.0), (1956, 0.0), (1957, 0.0), (1959, 0.0), (1962, 0.0), (1965, 0.0), (1966, 0.0), (1967, 0.0), (1970, 0.0), (1972, 0.0), (1974, 0.0), (1975, 0.0), (1976, 0.0), (1977, 0.0), (1980, 0.0), (1982, 0.0), (1983, 0.0), (1984, 0.0), (1985, 0.0), (1986, 0.0), (1988, 0.0), (1989, 0.0), (1990, 0.0), (1991, 0.0), (1993, 0.0), (1994, 0.0), (1995, 0.0), (1996, 0.0), (1997, 0.0), (2000, 0.0), (2001, 0.0), (2002, 0.0), (2003, 0.0), (2004, 0.0), (2008, 0.0), (2010, 0.0), (2011, 0.0), (2012, 0.0), (2015, 0.0), (2016, 0.0), (2017, 0.0), (2018, 0.0), (2020, 0.0), (2021, 0.0), (2023, 0.0), (2024, 0.0), (2026, 0.0), (2027, 0.0), (2028, 0.0), (2029, 0.0), (2031, 0.0), (2032, 0.0), (2036, 0.0), (2037, 0.0), (2038, 0.0), (2040, 0.0), (2042, 0.0), (2045, 0.0), (2048, 0.0), (2051, 0.0), (2053, 0.0), (2056, 0.0), (2057, 0.0), (2058, 0.0), (2059, 0.0), (2060, 0.0), (2061, 0.0), (2063, 0.0), (2064, 0.0), (2065, 0.0), (2066, 0.0), (2067, 0.0), (2068, 0.0), (2069, 0.0), (2071, 0.0), (2072, 0.0), (2075, 0.0), (2076, 0.0), (2077, 0.0), (2080, 0.0), (2081, 0.0), (2083, 0.0), (2084, 0.0), (2088, 0.0), (2091, 0.0), (2092, 0.0), (2096, 0.0), (2098, 0.0), (2101, 0.0), (2102, 0.0), (2103, 0.0), (2104, 0.0), (2105, 0.0), (2106, 0.0), (2107, 0.0), (2108, 0.0), (2109, 0.0), (2110, 0.0), (2113, 0.0), (2115, 0.0), (2116, 0.0), (2119, 0.0), (2121, 0.0), (2122, 0.0), (2124, 0.0), (2126, 0.0), (2127, 0.0), (2128, 0.0), (2133, 0.0), (2134, 0.0), (2136, 0.0), (2137, 0.0), (2138, 0.0), (2139, 0.0), (2141, 0.0), (2142, 0.0), (2144, 0.0), (2145, 0.0), (2146, 0.0), (2148, 0.0), (2149, 0.0), (2152, 0.0), (2155, 0.0), (2156, 0.0), (2158, 0.0), (2159, 0.0), (2160, 0.0), (2164, 0.0), (2165, 0.0), (2166, 0.0), (2167, 0.0), (2168, 0.0), (2169, 0.0), (2170, 0.0), (2172, 0.0), (2173, 0.0), (2174, 0.0), (2175, 0.0), (2177, 0.0), (2179, 0.0), (2180, 0.0), (2181, 0.0), (2182, 0.0), (2184, 0.0), (2186, 0.0), (2189, 0.0), (2191, 0.0), (2192, 0.0), (2193, 0.0), (2194, 0.0), (2197, 0.0), (2200, 0.0), (2202, 0.0), (2206, 0.0), (2209, 0.0), (2211, 0.0), (2212, 0.0), (2213, 0.0), (2214, 0.0), (2215, 0.0), (2217, 0.0), (2219, 0.0), (2220, 0.0), (2221, 0.0), (2222, 0.0), (2225, 0.0), (2226, 0.0), (2227, 0.0), (2228, 0.0), (2229, 0.0), (2230, 0.0), (2231, 0.0), (2232, 0.0), (2233, 0.0), (2234, 0.0), (2235, 0.0), (2237, 0.0), (2238, 0.0), (2241, 0.0), (2242, 0.0), (2243, 0.0), (2244, 0.0), (2246, 0.0), (2247, 0.0), (2248, 0.0), (2249, 0.0), (2251, 0.0), (2252, 0.0), (2253, 0.0), (2254, 0.0), (2255, 0.0), (2256, 0.0), (2258, 0.0), (2268, 0.0), (2272, 0.0), (2276, 0.0), (2277, 0.0), (2278, 0.0), (2280, 0.0), (2282, 0.0), (2284, 0.0), (2285, 0.0), (2286, 0.0), (2288, 0.0), (2289, 0.0), (2291, 0.0), (2292, 0.0), (2293, 0.0), (2294, 0.0), (2295, 0.0), (2297, 0.0), (2299, 0.0), (2300, 0.0), (2302, 0.0), (2304, 0.0), (2305, 0.0), (2306, 0.0), (2307, 0.0), (2308, 0.0), (2309, 0.0), (2310, 0.0), (2311, 0.0), (2312, 0.0), (2313, 0.0), (2314, 0.0), (2318, 0.0), (2320, 0.0), (2321, 0.0), (2324, 0.0), (2328, 0.0), (2333, 0.0), (2336, 0.0), (2338, 0.0), (2339, 0.0), (2340, 0.0), (2341, 0.0), (2343, 0.0), (2344, 0.0), (2345, 0.0), (2346, 0.0), (2347, 0.0), (2348, 0.0), (2350, 0.0), (2353, 0.0), (2354, 0.0), (2355, 0.0), (2356, 0.0), (2360, 0.0), (2361, 0.0), (2362, 0.0), (2363, 0.0), (2366, 0.0), (2368, 0.0), (2369, 0.0), (2370, 0.0), (2373, 0.0), (2376, 0.0), (2380, 0.0), (2382, 0.0), (2383, 0.0), (2384, 0.0), (2386, 0.0), (2388, 0.0), (2392, 0.0), (2394, 0.0), (2395, 0.0), (2398, 0.0), (2399, 0.0), (2403, 0.0), (2404, 0.0), (2407, 0.0), (2409, 0.0), (2411, 0.0), (2412, 0.0), (2413, 0.0), (2416, 0.0), (2417, 0.0), (2418, 0.0), (2420, 0.0), (2422, 0.0), (2424, 0.0), (2425, 0.0), (2426, 0.0), (2428, 0.0), (2429, 0.0), (2432, 0.0), (2434, 0.0), (2436, 0.0), (2437, 0.0), (2438, 0.0), (2439, 0.0), (2441, 0.0), (2442, 0.0), (2444, 0.0), (2452, 0.0), (2453, 0.0), (2454, 0.0), (2455, 0.0), (2458, 0.0), (2465, 0.0), (2467, 0.0), (2469, 0.0), (2470, 0.0), (2471, 0.0), (2472, 0.0), (2474, 0.0), (2475, 0.0), (2476, 0.0), (2477, 0.0), (2478, 0.0), (2482, 0.0), (2483, 0.0), (2486, 0.0), (2489, 0.0), (2490, 0.0), (2491, 0.0), (2492, 0.0), (2495, 0.0), (2496, 0.0), (2497, 0.0), (2498, 0.0), (2499, 0.0), (2500, 0.0), (2501, 0.0), (2503, 0.0), (2505, 0.0), (2506, 0.0), (2508, 0.0), (2510, 0.0), (2513, 0.0), (2514, 0.0), (2515, 0.0), (2518, 0.0), (2520, 0.0), (2522, 0.0), (2524, 0.0), (2526, 0.0), (2527, 0.0), (2528, 0.0), (2529, 0.0), (2533, 0.0), (2535, 0.0), (2536, 0.0), (2537, 0.0), (2538, 0.0), (2540, 0.0), (2542, 0.0), (2543, 0.0), (2544, 0.0), (2545, 0.0), (2546, 0.0), (2547, 0.0), (2548, 0.0), (2550, 0.0), (2551, 0.0), (2553, 0.0), (2556, 0.0), (2557, 0.0), (2558, 0.0), (2559, 0.0), (2560, 0.0), (2561, 0.0), (2563, 0.0), (2564, 0.0), (2565, 0.0), (2566, 0.0), (2567, 0.0), (2569, 0.0), (2573, 0.0), (2575, 0.0), (2576, 0.0), (2581, 0.0), (2585, 0.0), (2586, 0.0), (2589, 0.0), (2594, 0.0), (2595, 0.0), (2596, 0.0), (2597, 0.0), (2598, 0.0), (2599, 0.0), (2600, 0.0), (2601, 0.0), (2602, 0.0), (2605, 0.0), (2607, 0.0), (2608, 0.0), (2610, 0.0), (2611, 0.0), (2613, 0.0), (2618, 0.0), (2620, 0.0), (2623, 0.0), (2624, 0.0), (2625, 0.0), (2626, 0.0), (2627, 0.0), (2628, 0.0), (2629, 0.0), (2630, 0.0), (2631, 0.0), (2632, 0.0), (2633, 0.0), (2634, 0.0), (2638, 0.0), (2639, 0.0), (2640, 0.0), (2641, 0.0), (2644, 0.0), (2647, 0.0), (2648, 0.0), (2651, 0.0), (2653, 0.0), (2655, 0.0), (2657, 0.0), (2658, 0.0), (2662, 0.0), (2664, 0.0), (2665, 0.0), (2669, 0.0), (2670, 0.0), (2674, 0.0), (2676, 0.0), (2678, 0.0), (2680, 0.0), (2682, 0.0), (2683, 0.0), (2684, 0.0), (2685, 0.0), (2686, 0.0), (2687, 0.0), (2689, 0.0), (2690, 0.0), (2691, 0.0), (2692, 0.0), (2693, 0.0), (2694, 0.0), (2695, 0.0), (2696, 0.0), (2698, 0.0), (2700, 0.0), (2701, 0.0), (2702, 0.0), (2703, 0.0), (2705, 0.0), (2707, 0.0), (2709, 0.0), (2712, 0.0), (2713, 0.0), (2715, 0.0), (2716, 0.0), (2722, 0.0), (2723, 0.0), (2724, 0.0), (2725, 0.0), (2726, 0.0), (2727, 0.0), (2730, 0.0), (2731, 0.0), (2732, 0.0), (2733, 0.0), (2735, 0.0), (2737, 0.0), (2738, 0.0), (2743, 0.0), (2744, 0.0), (2745, 0.0), (2746, 0.0), (2747, 0.0), (2748, 0.0), (2750, 0.0), (2751, 0.0), (2753, 0.0), (2754, 0.0), (2755, 0.0), (2757, 0.0), (2759, 0.0), (2764, 0.0), (2765, 0.0), (2767, 0.0), (2768, 0.0), (2769, 0.0), (2771, 0.0), (2773, 0.0), (2776, 0.0), (2780, 0.0), (2783, 0.0), (2784, 0.0), (2785, 0.0), (2786, 0.0), (2787, 0.0), (2791, 0.0), (2792, 0.0), (2794, 0.0), (2795, 0.0), (2800, 0.0), (2801, 0.0), (2802, 0.0), (2803, 0.0), (2804, 0.0), (2805, 0.0), (2807, 0.0), (2809, 0.0), (2811, 0.0), (2815, 0.0), (2816, 0.0), (2818, 0.0), (2819, 0.0), (2820, 0.0), (2823, 0.0), (2826, 0.0), (2827, 0.0), (2828, 0.0), (2829, 0.0), (2832, 0.0), (2834, 0.0), (2836, 0.0), (2837, 0.0), (2838, 0.0), (2843, 0.0), (2846, 0.0), (2847, 0.0), (2848, 0.0), (2849, 0.0), (2850, 0.0), (2852, 0.0), (2855, 0.0), (2858, 0.0), (2859, 0.0), (2860, 0.0), (2861, 0.0), (2862, 0.0), (2863, 0.0), (2864, 0.0), (2865, 0.0), (2866, 0.0), (2870, 0.0), (2871, 0.0), (2872, 0.0), (2874, 0.0), (2875, 0.0), (2878, 0.0), (2879, 0.0), (2880, 0.0), (2881, 0.0), (2882, 0.0), (2883, 0.0), (2886, 0.0), (2888, 0.0), (2890, 0.0), (2891, 0.0), (2893, 0.0), (2894, 0.0), (2895, 0.0), (2898, 0.0), (2900, 0.0), (2902, 0.0), (2904, 0.0), (2905, 0.0), (2906, 0.0), (2910, 0.0), (2911, 0.0), (2912, 0.0), (2913, 0.0), (2914, 0.0), (2915, 0.0), (2917, 0.0), (2918, 0.0), (2919, 0.0), (2920, 0.0), (2922, 0.0), (2926, 0.0), (2928, 0.0), (2930, 0.0), (2932, 0.0), (2934, 0.0), (2935, 0.0), (2936, 0.0), (2939, 0.0), (2941, 0.0), (2942, 0.0), (2943, 0.0), (2944, 0.0), (2946, 0.0), (2947, 0.0), (2948, 0.0), (2949, 0.0), (2950, 0.0), (2951, 0.0), (2953, 0.0), (2955, 0.0), (2956, 0.0), (2957, 0.0), (2960, 0.0), (2961, 0.0), (2964, 0.0), (2966, 0.0), (2967, 0.0), (2968, 0.0), (2969, 0.0), (2970, 0.0), (2971, 0.0), (2973, 0.0), (2974, 0.0), (2977, 0.0), (2978, 0.0), (2979, 0.0), (2983, 0.0), (2984, 0.0), (2986, 0.0), (2987, 0.0), (2989, 0.0), (2990, 0.0), (2991, 0.0), (2992, 0.0), (2993, 0.0), (2994, 0.0), (2995, 0.0), (2996, 0.0), (2997, 0.0), (2999, 0.0), (3002, 0.0), (3004, 0.0), (3005, 0.0), (3008, 0.0), (3009, 0.0), (3010, 0.0), (3013, 0.0), (3014, 0.0), (3015, 0.0), (3016, 0.0), (3019, 0.0), (3020, 0.0), (3022, 0.0), (3025, 0.0), (3026, 0.0), (3029, 0.0), (3030, 0.0), (3032, 0.0), (3034, 0.0), (3035, 0.0), (3036, 0.0), (3037, 0.0), (3038, 0.0), (3039, 0.0), (3040, 0.0), (3041, 0.0), (3042, 0.0), (3043, 0.0), (3044, 0.0), (3045, 0.0), (3047, 0.0), (3048, 0.0), (3049, 0.0), (3050, 0.0), (3051, 0.0), (3052, 0.0), (3053, 0.0), (3054, 0.0), (3055, 0.0), (3057, 0.0), (3059, 0.0), (3061, 0.0), (3062, 0.0), (3064, 0.0), (3065, 0.0), (3068, 0.0), (3069, 0.0), (3070, 0.0), (3072, 0.0), (3074, 0.0), (3075, 0.0), (3079, 0.0), (3085, 0.0), (3087, 0.0), (3088, 0.0), (3092, 0.0), (3093, 0.0), (3095, 0.0), (3097, 0.0), (3100, 0.0), (3101, 0.0), (3102, 0.0), (3103, 0.0), (3104, 0.0), (3105, 0.0), (3106, 0.0), (3107, 0.0), (3113, 0.0), (3114, 0.0), (3115, 0.0), (3118, 0.0), (3119, 0.0), (3120, 0.0), (3122, 0.0), (3123, 0.0), (3125, 0.0), (3126, 0.0), (3128, 0.0), (3129, 0.0), (3130, 0.0), (3131, 0.0), (3135, 0.0), (3136, 0.0), (3139, 0.0), (3140, 0.0), (3143, 0.0), (3145, 0.0), (3146, 0.0), (3148, 0.0), (3150, 0.0), (3154, 0.0), (3156, 0.0), (3157, 0.0), (3158, 0.0), (3159, 0.0), (3160, 0.0), (3161, 0.0), (3162, 0.0), (3164, 0.0), (3165, 0.0), (3166, 0.0), (3168, 0.0), (3169, 0.0), (3170, 0.0), (3171, 0.0), (3172, 0.0), (3173, 0.0), (3174, 0.0), (3175, 0.0), (3176, 0.0), (3177, 0.0), (3178, 0.0), (3179, 0.0), (3180, 0.0), (3183, 0.0), (3185, 0.0), (3186, 0.0), (3192, 0.0), (3193, 0.0), (3194, 0.0), (3196, 0.0), (3197, 0.0), (3198, 0.0), (3200, 0.0), (3201, 0.0), (3202, 0.0), (3203, 0.0), (3207, 0.0), (3210, 0.0), (3216, 0.0), (3217, 0.0), (3218, 0.0), (3220, 0.0), (3222, 0.0), (3223, 0.0), (3224, 0.0), (3226, 0.0), (3227, 0.0), (3228, 0.0), (3230, 0.0), (3231, 0.0), (3233, 0.0), (3235, 0.0), (3239, 0.0), (3243, 0.0), (3245, 0.0), (3248, 0.0), (3249, 0.0), (3250, 0.0), (3251, 0.0), (3252, 0.0), (3253, 0.0), (3255, 0.0), (3257, 0.0), (3258, 0.0), (3261, 0.0), (3262, 0.0), (3263, 0.0), (3264, 0.0), (3265, 0.0), (3266, 0.0), (3267, 0.0), (3268, 0.0), (3271, 0.0), (3274, 0.0), (3275, 0.0), (3276, 0.0), (3277, 0.0), (3278, 0.0), (3279, 0.0), (3280, 0.0), (3281, 0.0), (3282, 0.0), (3283, 0.0), (3284, 0.0), (3285, 0.0), (3288, 0.0), (3290, 0.0), (3291, 0.0), (3292, 0.0), (3293, 0.0), (3294, 0.0), (3295, 0.0), (3296, 0.0), (3298, 0.0), (3299, 0.0), (3302, 0.0), (3306, 0.0), (3307, 0.0), (3308, 0.0), (3309, 0.0), (3310, 0.0), (3313, 0.0), (3314, 0.0), (3316, 0.0), (3317, 0.0), (3319, 0.0), (3320, 0.0), (3323, 0.0), (3324, 0.0), (3325, 0.0), (3326, 0.0), (3328, 0.0), (3329, 0.0), (3331, 0.0), (3332, 0.0), (3336, 0.0), (3337, 0.0), (3339, 0.0), (3340, 0.0), (3341, 0.0), (3343, 0.0), (3345, 0.0), (3346, 0.0), (3347, 0.0), (3349, 0.0), (3351, 0.0), (3352, 0.0), (3353, 0.0), (3354, 0.0), (3355, 0.0), (3357, 0.0), (3358, 0.0), (3359, 0.0), (3361, 0.0), (3363, 0.0), (3364, 0.0), (3365, 0.0), (3367, 0.0), (3368, 0.0), (3369, 0.0), (3371, 0.0), (3372, 0.0), (3373, 0.0), (3374, 0.0), (3375, 0.0), (3376, 0.0), (3377, 0.0), (3378, 0.0), (3380, 0.0), (3381, 0.0), (3382, 0.0), (3383, 0.0), (3384, 0.0), (3385, 0.0), (3391, 0.0), (3393, 0.0), (3394, 0.0), (3398, 0.0), (3399, 0.0), (3400, 0.0), (3401, 0.0), (3402, 0.0), (3404, 0.0), (3405, 0.0), (3406, 0.0), (3407, 0.0), (3408, 0.0), (3409, 0.0), (3410, 0.0), (3411, 0.0), (3412, 0.0), (3413, 0.0), (3414, 0.0), (3415, 0.0), (3417, 0.0), (3419, 0.0), (3420, 0.0), (3423, 0.0), (3424, 0.0), (3425, 0.0), (3428, 0.0), (3429, 0.0), (3430, 0.0), (3431, 0.0), (3432, 0.0), (3433, 0.0), (3435, 0.0), (3436, 0.0), (3437, 0.0), (3439, 0.0), (3440, 0.0), (3441, 0.0), (3442, 0.0), (3443, 0.0), (3445, 0.0), (3446, 0.0), (3447, 0.0), (3448, 0.0), (3449, 0.0), (3450, 0.0), (3451, 0.0), (3452, 0.0), (3453, 0.0), (3454, 0.0), (3455, 0.0), (3460, 0.0), (3462, 0.0), (3463, 0.0), (3465, 0.0), (3466, 0.0), (3467, 0.0), (3468, 0.0), (3469, 0.0), (3470, 0.0), (3471, 0.0), (3475, 0.0), (3478, 0.0), (3479, 0.0), (3480, 0.0), (3486, 0.0), (3487, 0.0), (3488, 0.0), (3489, 0.0), (3490, 0.0), (3491, 0.0), (3493, 0.0), (3494, 0.0), (3495, 0.0), (3496, 0.0), (3499, 0.0), (3500, 0.0), (3501, 0.0), (3502, 0.0), (3504, 0.0), (3508, 0.0), (3511, 0.0), (3512, 0.0), (3513, 0.0), (3514, 0.0), (3515, 0.0), (3517, 0.0), (3518, 0.0), (3519, 0.0), (3520, 0.0), (3521, 0.0), (3522, 0.0), (3523, 0.0), (3526, 0.0), (3527, 0.0), (3528, 0.0), (3529, 0.0), (3530, 0.0), (3532, 0.0), (3534, 0.0), (3535, 0.0), (3537, 0.0), (3538, 0.0), (3541, 0.0), (3543, 0.0), (3544, 0.0), (3547, 0.0), (3548, 0.0), (3549, 0.0), (3550, 0.0), (3551, 0.0), (3552, 0.0), (3555, 0.0), (3556, 0.0), (3558, 0.0), (3559, 0.0), (3560, 0.0), (3561, 0.0), (3565, 0.0), (3566, 0.0), (3567, 0.0), (3569, 0.0), (3571, 0.0), (3572, 0.0), (3573, 0.0), (3576, 0.0), (3577, 0.0), (3578, 0.0), (3580, 0.0), (3583, 0.0), (3584, 0.0), (3585, 0.0), (3586, 0.0), (3589, 0.0), (3590, 0.0), (3591, 0.0), (3592, 0.0), (3595, 0.0), (3597, 0.0), (3598, 0.0), (3599, 0.0), (3600, 0.0), (3601, 0.0), (3603, 0.0), (3604, 0.0), (3605, 0.0), (3608, 0.0), (3609, 0.0), (3612, 0.0), (3614, 0.0), (3615, 0.0), (3617, 0.0), (3618, 0.0), (3619, 0.0), (3621, 0.0), (3622, 0.0), (3623, 0.0), (3624, 0.0), (3625, 0.0), (3627, 0.0), (3629, 0.0), (3630, 0.0), (3634, 0.0), (3635, 0.0), (3636, 0.0), (3637, 0.0), (3638, 0.0), (3639, 0.0), (3640, 0.0), (3641, 0.0), (3644, 0.0), (3645, 0.0), (3647, 0.0), (3648, 0.0), (3649, 0.0), (3651, 0.0), (3652, 0.0), (3653, 0.0), (3654, 0.0), (3657, 0.0), (3659, 0.0), (3661, 0.0), (3663, 0.0), (3664, 0.0), (3665, 0.0), (3668, 0.0), (3669, 0.0), (3672, 0.0), (3675, 0.0), (3676, 0.0), (3677, 0.0), (3678, 0.0), (3679, 0.0), (3681, 0.0), (3686, 0.0), (3687, 0.0), (3688, 0.0), (3689, 0.0), (3690, 0.0), (3691, 0.0), (3692, 0.0), (3694, 0.0), (3696, 0.0), (3697, 0.0), (3698, 0.0), (3699, 0.0), (3702, 0.0), (3703, 0.0), (3706, 0.0), (3707, 0.0), (3708, 0.0), (3709, 0.0), (3710, 0.0), (3711, 0.0), (3713, 0.0), (3714, 0.0), (3717, 0.0), (3719, 0.0), (3720, 0.0), (3721, 0.0), (3723, 0.0), (3724, 0.0), (3729, 0.0), (3730, 0.0), (3731, 0.0), (3733, 0.0), (3734, 0.0), (3737, 0.0), (3740, 0.0), (3741, 0.0), (3742, 0.0), (3743, 0.0), (3745, 0.0), (3748, 0.0), (3749, 0.0), (3754, 0.0), (3755, 0.0), (3757, 0.0), (3758, 0.0), (3759, 0.0), (3760, 0.0), (3761, 0.0), (3762, 0.0), (3764, 0.0), (3765, 0.0), (3766, 0.0), (3767, 0.0), (3768, 0.0), (3770, 0.0), (3772, 0.0), (3773, 0.0), (3775, 0.0), (3776, 0.0), (3777, 0.0), (3778, 0.0), (3779, 0.0), (3781, 0.0), (3782, 0.0), (3783, 0.0), (3784, 0.0), (3786, 0.0), (3787, 0.0), (3789, 0.0), (3791, 0.0), (3793, 0.0), (3794, 0.0), (3795, 0.0), (3798, 0.0), (3799, 0.0), (3800, 0.0), (3801, 0.0), (3802, 0.0), (3806, 0.0), (3808, 0.0), (3810, 0.0), (3811, 0.0), (3814, 0.0), (3815, 0.0), (3818, 0.0), (3821, 0.0), (3823, 0.0), (3824, 0.0), (3825, 0.0), (3827, 0.0), (3829, 0.0), (3831, 0.0), (3832, 0.0), (3833, 0.0), (3834, 0.0), (3836, 0.0), (3837, 0.0), (3838, 0.0), (3839, 0.0), (3840, 0.0), (3842, 0.0), (3844, 0.0), (3845, 0.0), (3848, 0.0), (3850, 0.0), (3851, 0.0), (3852, 0.0), (3853, 0.0), (3854, 0.0), (3856, 0.0), (3859, 0.0), (3860, 0.0), (3861, 0.0), (3862, 0.0), (3863, 0.0), (3866, 0.0), (3867, 0.0), (3869, 0.0), (3870, 0.0), (3872, 0.0), (3873, 0.0), (3874, 0.0), (3875, 0.0), (3878, 0.0), (3879, 0.0), (3880, 0.0), (3881, 0.0), (3882, 0.0), (3883, 0.0), (3884, 0.0), (3885, 0.0), (3887, 0.0), (3889, 0.0), (3891, 0.0), (3895, 0.0), (3896, 0.0), (3897, 0.0), (3898, 0.0), (3900, 0.0), (3901, 0.0), (3902, 0.0), (3903, 0.0), (3905, 0.0), (3906, 0.0), (3907, 0.0), (3908, 0.0), (3909, 0.0), (3910, 0.0), (3911, 0.0), (3913, 0.0), (3914, 0.0), (3915, 0.0), (3917, 0.0), (3918, 0.0), (3919, 0.0), (3920, 0.0), (3921, 0.0), (3922, 0.0), (3924, 0.0), (3925, 0.0), (3927, 0.0), (3928, 0.0), (3929, 0.0), (3930, 0.0), (3931, 0.0), (3932, 0.0), (3933, 0.0), (3934, 0.0), (3935, 0.0), (3936, 0.0), (3937, 0.0), (3939, 0.0), (3940, 0.0), (3941, 0.0), (3942, 0.0), (3944, 0.0), (3945, 0.0), (3946, 0.0), (3947, 0.0), (3949, 0.0), (3950, 0.0), (3951, 0.0), (3952, 0.0), (3954, 0.0), (3955, 0.0), (3956, 0.0), (3957, 0.0), (3958, 0.0), (3959, 0.0), (3960, 0.0), (3961, 0.0), (3962, 0.0), (3963, 0.0), (3964, 0.0), (3968, 0.0), (3970, 0.0), (3971, 0.0), (3972, 0.0), (3973, 0.0), (3975, 0.0), (3976, 0.0), (3977, 0.0), (3978, 0.0), (3979, 0.0), (3981, 0.0), (3984, 0.0), (3986, 0.0), (3987, 0.0), (3988, 0.0), (3992, 0.0), (3995, 0.0), (3997, 0.0), (3998, 0.0), (3999, 0.0), (4000, 0.0), (4001, 0.0), (4002, 0.0), (4003, 0.0), (4004, 0.0), (4005, 0.0), (4006, 0.0), (4008, 0.0), (4012, 0.0), (4013, 0.0), (4014, 0.0), (4016, 0.0), (4017, 0.0), (4018, 0.0), (4019, 0.0), (4022, 0.0), (4023, 0.0), (4024, 0.0), (4026, 0.0), (4028, 0.0), (4029, 0.0), (4030, 0.0), (4032, 0.0), (4036, 0.0), (4038, 0.0), (4039, 0.0), (4041, 0.0), (4042, 0.0), (4043, 0.0), (4044, 0.0), (4046, 0.0), (4047, 0.0), (4048, 0.0), (4049, 0.0), (4050, 0.0), (4051, 0.0), (4052, 0.0), (4053, 0.0), (4054, 0.0), (4055, 0.0), (4056, 0.0), (4057, 0.0), (4058, 0.0), (4061, 0.0), (4062, 0.0), (4063, 0.0), (4064, 0.0), (4065, 0.0), (4067, 0.0), (4068, 0.0), (4069, 0.0), (4071, 0.0), (4072, 0.0), (4075, 0.0), (4076, 0.0), (4077, 0.0), (4079, 0.0), (4080, 0.0), (4081, 0.0), (4082, 0.0), (4083, 0.0), (4084, 0.0), (4085, 0.0), (4087, 0.0), (4088, 0.0), (4091, 0.0), (4092, 0.0), (4093, 0.0), (4094, 0.0), (4095, 0.0), (4096, 0.0), (4098, 0.0), (4100, 0.0), (4102, 0.0), (4103, 0.0), (4104, 0.0), (4105, 0.0), (4106, 0.0), (4107, 0.0), (4108, 0.0), (4113, 0.0), (4115, 0.0), (4116, 0.0), (4117, 0.0), (4119, 0.0), (4120, 0.0), (4121, 0.0), (4123, 0.0), (4124, 0.0), (4125, 0.0), (4126, 0.0), (4127, 0.0), (4129, 0.0), (4130, 0.0), (4131, 0.0), (4132, 0.0), (4133, 0.0), (4134, 0.0), (4138, 0.0), (4139, 0.0), (4141, 0.0), (4142, 0.0), (4143, 0.0), (4144, 0.0), (4145, 0.0), (4148, 0.0), (4149, 0.0), (4150, 0.0), (4151, 0.0), (4153, 0.0), (4154, 0.0), (4156, 0.0), (4158, 0.0), (4161, 0.0), (4163, 0.0), (4165, 0.0), (4166, 0.0), (4170, 0.0), (4172, 0.0), (4175, 0.0), (4177, 0.0), (4178, 0.0), (4179, 0.0), (4180, 0.0), (4181, 0.0), (4182, 0.0), (4183, 0.0), (4184, 0.0), (4185, 0.0), (4188, 0.0), (4192, 0.0), (4193, 0.0), (4198, 0.0), (4200, 0.0), (4201, 0.0), (4202, 0.0), (4204, 0.0), (4205, 0.0), (4206, 0.0), (4208, 0.0), (4209, 0.0), (4211, 0.0), (4212, 0.0), (4213, 0.0), (4214, 0.0), (4215, 0.0), (4217, 0.0), (4219, 0.0), (4220, 0.0), (4221, 0.0), (4222, 0.0), (4223, 0.0), (4224, 0.0), (4225, 0.0), (4226, 0.0), (4227, 0.0), (4228, 0.0), (4229, 0.0), (4230, 0.0), (4231, 0.0), (4232, 0.0), (4233, 0.0), (4234, 0.0), (4235, 0.0), (4236, 0.0), (4237, 0.0), (4238, 0.0), (4239, 0.0), (4241, 0.0), (4243, 0.0), (4244, 0.0), (4245, 0.0), (4246, 0.0), (4248, 0.0), (4249, 0.0), (4250, 0.0), (4251, 0.0), (4253, 0.0), (4254, 0.0), (4255, 0.0), (4256, 0.0), (4257, 0.0), (4260, 0.0), (4261, 0.0), (4263, 0.0), (4264, 0.0), (4265, 0.0), (4266, 0.0), (4267, 0.0), (4272, 0.0), (4273, 0.0), (4275, 0.0), (4276, 0.0), (4278, 0.0), (4279, 0.0), (4280, 0.0), (4281, 0.0), (4282, 0.0), (4283, 0.0), (4284, 0.0), (4285, 0.0), (4288, 0.0), (4291, 0.0), (4292, 0.0), (4293, 0.0), (4294, 0.0), (4295, 0.0), (4296, 0.0), (4297, 0.0), (4298, 0.0), (4299, 0.0), (4300, 0.0), (4301, 0.0), (4302, 0.0), (4305, 0.0), (4306, 0.0), (4307, 0.0), (4308, 0.0), (4311, 0.0), (4312, 0.0), (4313, 0.0), (4315, 0.0), (4316, 0.0), (4320, 0.0), (4322, 0.0), (4323, 0.0), (4324, 0.0), (4326, 0.0), (4327, 0.0), (4328, 0.0), (4331, 0.0), (4332, 0.0), (4334, 0.0), (4335, 0.0), (4336, 0.0), (4337, 0.0), (4339, 0.0), (4343, 0.0), (4349, 0.0), (4350, 0.0), (4352, 0.0), (4354, 0.0), (4355, 0.0), (4357, 0.0), (4361, 0.0), (4362, 0.0), (4365, 0.0), (4367, 0.0), (4368, 0.0), (4369, 0.0), (4370, 0.0), (4372, 0.0), (4373, 0.0), (4375, 0.0), (4376, 0.0), (4377, 0.0), (4378, 0.0), (4379, 0.0), (4381, 0.0), (4382, 0.0), (4384, 0.0), (4385, 0.0), (4386, 0.0), (4387, 0.0), (4389, 0.0), (4390, 0.0), (4391, 0.0), (4392, 0.0), (4393, 0.0), (4398, 0.0), (4400, 0.0), (4401, 0.0), (4403, 0.0), (4404, 0.0), (4406, 0.0), (4408, 0.0), (4409, 0.0), (4410, 0.0), (4413, 0.0), (4414, 0.0), (4415, 0.0), (4417, 0.0), (4418, 0.0), (4419, 0.0), (4420, 0.0), (4422, 0.0), (4423, 0.0), (4424, 0.0), (4425, 0.0), (4426, 0.0), (4428, 0.0), (4429, 0.0), (4430, 0.0), (4432, 0.0), (4433, 0.0), (4435, 0.0), (4436, 0.0), (4439, 0.0), (4440, 0.0), (4441, 0.0), (4442, 0.0), (4443, 0.0), (4444, 0.0), (4446, 0.0), (4448, 0.0), (4449, 0.0), (4450, 0.0), (4451, 0.0), (4452, 0.0), (4453, 0.0), (4456, 0.0), (4458, 0.0), (4459, 0.0), (4461, 0.0), (4462, 0.0), (4463, 0.0), (4464, 0.0), (4465, 0.0), (4466, 0.0), (4467, 0.0), (4469, 0.0), (4471, 0.0), (4474, 0.0), (4475, 0.0), (4476, 0.0), (4477, 0.0), (4479, 0.0), (4480, 0.0), (4481, 0.0), (4484, 0.0), (4485, 0.0), (4486, 0.0), (4487, 0.0), (4489, 0.0), (4491, 0.0), (4493, 0.0), (4494, 0.0), (4495, 0.0), (4496, 0.0), (4499, 0.0), (4502, 0.0), (4504, 0.0), (4505, 0.0), (4506, 0.0), (4507, 0.0), (4508, 0.0), (4509, 0.0), (4510, 0.0), (4511, 0.0), (4512, 0.0), (4514, 0.0), (4517, 0.0), (4518, 0.0), (4520, 0.0), (4521, 0.0), (4523, 0.0), (4524, 0.0), (4527, 0.0), (4528, 0.0), (4530, 0.0), (4531, 0.0), (4532, 0.0), (4533, 0.0), (4534, 0.0), (4535, 0.0), (4537, 0.0), (4539, 0.0), (4540, 0.0), (4543, 0.0), (4544, 0.0), (4546, 0.0), (4547, 0.0), (4548, 0.0), (4549, 0.0), (4550, 0.0), (4551, 0.0), (4552, 0.0), (4553, 0.0), (4554, 0.0), (4555, 0.0), (4556, 0.0), (4560, 0.0), (4561, 0.0), (4562, 0.0), (4563, 0.0), (4564, 0.0), (4565, 0.0), (4566, 0.0), (4567, 0.0), (4568, 0.0), (4571, 0.0), (4572, 0.0), (4573, 0.0), (4575, 0.0), (4576, 0.0), (4577, 0.0), (4578, 0.0), (4579, 0.0), (4580, 0.0), (4581, 0.0), (4582, 0.0), (4583, 0.0), (4585, 0.0), (4586, 0.0), (4588, 0.0), (4591, 0.0), (4592, 0.0), (4593, 0.0), (4594, 0.0), (4595, 0.0), (4596, 0.0), (4597, 0.0), (4601, 0.0), (4602, 0.0), (4603, 0.0), (4605, 0.0), (4606, 0.0), (4607, 0.0), (4608, 0.0), (4609, 0.0), (4610, 0.0), (4612, 0.0), (4613, 0.0), (4614, 0.0), (4615, 0.0), (4616, 0.0), (4617, 0.0), (4618, 0.0), (4619, 0.0), (4620, 0.0), (4622, 0.0), (4623, 0.0), (4624, 0.0), (4625, 0.0), (4626, 0.0), (4627, 0.0), (4628, 0.0), (4629, 0.0), (4631, 0.0), (4632, 0.0), (4633, 0.0), (4634, 0.0), (4635, 0.0), (4636, 0.0), (4637, 0.0), (4640, 0.0), (4641, 0.0), (4642, 0.0), (4644, 0.0), (4645, 0.0), (4646, 0.0), (4648, 0.0), (4649, 0.0), (4651, 0.0), (4652, 0.0), (4653, 0.0), (4654, 0.0), (4655, 0.0), (4656, 0.0), (4657, 0.0), (4660, 0.0), (4661, 0.0), (4664, 0.0), (4665, 0.0), (4667, 0.0), (4668, 0.0), (4669, 0.0), (4670, 0.0), (4671, 0.0), (4672, 0.0), (4673, 0.0), (4674, 0.0), (4676, 0.0), (4677, 0.0), (4678, 0.0), (4680, 0.0), (4681, 0.0), (4682, 0.0), (4683, 0.0), (4685, 0.0), (4686, 0.0), (4687, 0.0), (4689, 0.0), (4690, 0.0), (4691, 0.0), (4692, 0.0), (4693, 0.0), (4694, 0.0), (4695, 0.0), (4696, 0.0), (4697, 0.0), (4698, 0.0), (4701, 0.0), (4702, 0.0), (4703, 0.0), (4706, 0.0), (4707, 0.0), (4709, 0.0), (4710, 0.0), (4712, 0.0), (4713, 0.0), (4714, 0.0), (4715, 0.0), (4716, 0.0), (4717, 0.0), (4720, 0.0), (4721, 0.0), (4722, 0.0), (4723, 0.0), (4724, 0.0), (4726, 0.0), (4727, 0.0), (4728, 0.0), (4729, 0.0), (4731, 0.0), (4732, 0.0), (4733, 0.0), (4734, 0.0), (4735, 0.0), (4736, 0.0), (4738, 0.0), (4741, 0.0), (4743, 0.0), (4744, 0.0), (4745, 0.0), (4746, 0.0), (4747, 0.0), (4748, 0.0), (4749, 0.0), (4750, 0.0), (4751, 0.0), (4755, 0.0)]\n"
          ]
        }
      ]
    },
    {
      "cell_type": "code",
      "source": [
        "#print the name of similar movies based on the index\n",
        "print(\"Top 10 movies recommendations for you : \\n\")\n",
        "\n",
        "i=1\n",
        "\n",
        "for movie in sorted_similar_movies:\n",
        "  index=movie[0]\n",
        "  title_from_index = df[df.index == index]['Movie_Title'].values[0]\n",
        "  if(i<11):\n",
        "    print(i, '-',title_from_index)\n",
        "    i+=1"
      ],
      "metadata": {
        "colab": {
          "base_uri": "https://localhost:8080/"
        },
        "id": "4w1xXW3N0EqO",
        "outputId": "8931ad40-6ef2-4051-c077-8ccabb792fad"
      },
      "execution_count": 201,
      "outputs": [
        {
          "output_type": "stream",
          "name": "stdout",
          "text": [
            "Top 10 movies recommendations for you : \n",
            "\n",
            "1 - Doogal\n",
            "2 - Cats & Dogs\n",
            "3 - The Color Purple\n",
            "4 - Fever Pitch\n",
            "5 - Shorts\n",
            "6 - Superbabies: Baby Geniuses 2\n",
            "7 - Brooklyn Rules\n",
            "8 - Elf\n",
            "9 - The Rugrats Movie\n",
            "10 - Bogus\n"
          ]
        }
      ]
    },
    {
      "cell_type": "code",
      "source": [],
      "metadata": {
        "id": "W_a6sf-71GqA"
      },
      "execution_count": 201,
      "outputs": []
    }
  ]
}